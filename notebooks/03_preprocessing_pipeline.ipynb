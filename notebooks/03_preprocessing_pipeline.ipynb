{
 "cells": [
  {
   "attachments": {},
   "cell_type": "markdown",
   "metadata": {},
   "source": [
    "# Let's use our pipeline to preprocess our raw data, first without embedding/vectorization to check out the results"
   ]
  },
  {
   "cell_type": "code",
   "execution_count": 1,
   "metadata": {},
   "outputs": [],
   "source": [
    "%load_ext autoreload \n",
    "%autoreload 2\n",
    "\n",
    "# imports and setup\n",
    "import pandas as pd\n",
    "import os \n",
    "\n",
    "# import and instanciate config file to get access to paths\n",
    "os.chdir(os.path.dirname(os.getcwd()))\n",
    "from config.config import Config\n",
    "config = Config()\n",
    "\n",
    "# import utils functions\n",
    "from src.pipelines.preprocessor import Preprocessor\n",
    "from src.pipelines.preproc.pipeline_02 import build_preprocessor_pipeline_02\n",
    "from sklearn import set_config; set_config(display='diagram')"
   ]
  },
  {
   "cell_type": "code",
   "execution_count": 2,
   "metadata": {},
   "outputs": [
    {
     "data": {
      "text/html": [
       "<div>\n",
       "<style scoped>\n",
       "    .dataframe tbody tr th:only-of-type {\n",
       "        vertical-align: middle;\n",
       "    }\n",
       "\n",
       "    .dataframe tbody tr th {\n",
       "        vertical-align: top;\n",
       "    }\n",
       "\n",
       "    .dataframe thead th {\n",
       "        text-align: right;\n",
       "    }\n",
       "</style>\n",
       "<table border=\"1\" class=\"dataframe\">\n",
       "  <thead>\n",
       "    <tr style=\"text-align: right;\">\n",
       "      <th></th>\n",
       "      <th>Author</th>\n",
       "      <th>Book</th>\n",
       "    </tr>\n",
       "  </thead>\n",
       "  <tbody>\n",
       "    <tr>\n",
       "      <th>0</th>\n",
       "      <td>Twain Mark</td>\n",
       "      <td>﻿The Project Gutenberg EBook of Chapters from ...</td>\n",
       "    </tr>\n",
       "    <tr>\n",
       "      <th>1</th>\n",
       "      <td>Plato</td>\n",
       "      <td>﻿The Project Gutenberg EBook of Sophist, by Pl...</td>\n",
       "    </tr>\n",
       "    <tr>\n",
       "      <th>2</th>\n",
       "      <td>Twain Mark</td>\n",
       "      <td>﻿The Project Gutenberg EBook of On the Decay o...</td>\n",
       "    </tr>\n",
       "    <tr>\n",
       "      <th>3</th>\n",
       "      <td>Shakespeare William</td>\n",
       "      <td>﻿The Project Gutenberg eBook of Pericles, by W...</td>\n",
       "    </tr>\n",
       "    <tr>\n",
       "      <th>4</th>\n",
       "      <td>Shakespeare William</td>\n",
       "      <td>﻿The Project Gutenberg eBook of As You Like It...</td>\n",
       "    </tr>\n",
       "    <tr>\n",
       "      <th>...</th>\n",
       "      <td>...</td>\n",
       "      <td>...</td>\n",
       "    </tr>\n",
       "    <tr>\n",
       "      <th>431</th>\n",
       "      <td>Twain Mark</td>\n",
       "      <td>﻿The Project Gutenberg EBook of Life On The Mi...</td>\n",
       "    </tr>\n",
       "    <tr>\n",
       "      <th>432</th>\n",
       "      <td>Twain Mark</td>\n",
       "      <td>﻿The Project Gutenberg EBook of A Tramp Abroad...</td>\n",
       "    </tr>\n",
       "    <tr>\n",
       "      <th>433</th>\n",
       "      <td>Austen Jane</td>\n",
       "      <td>﻿The Project Gutenberg eBook of Sense and Sens...</td>\n",
       "    </tr>\n",
       "    <tr>\n",
       "      <th>434</th>\n",
       "      <td>Shakespeare William</td>\n",
       "      <td>﻿\\nProject Gutenberg Etext of The Rape of Lucr...</td>\n",
       "    </tr>\n",
       "    <tr>\n",
       "      <th>435</th>\n",
       "      <td>Plato</td>\n",
       "      <td>﻿The Project Gutenberg EBook of Statesman, by ...</td>\n",
       "    </tr>\n",
       "  </tbody>\n",
       "</table>\n",
       "<p>436 rows × 2 columns</p>\n",
       "</div>"
      ],
      "text/plain": [
       "                  Author                                               Book\n",
       "0             Twain Mark  ﻿The Project Gutenberg EBook of Chapters from ...\n",
       "1                  Plato  ﻿The Project Gutenberg EBook of Sophist, by Pl...\n",
       "2             Twain Mark  ﻿The Project Gutenberg EBook of On the Decay o...\n",
       "3    Shakespeare William  ﻿The Project Gutenberg eBook of Pericles, by W...\n",
       "4    Shakespeare William  ﻿The Project Gutenberg eBook of As You Like It...\n",
       "..                   ...                                                ...\n",
       "431           Twain Mark  ﻿The Project Gutenberg EBook of Life On The Mi...\n",
       "432           Twain Mark  ﻿The Project Gutenberg EBook of A Tramp Abroad...\n",
       "433          Austen Jane  ﻿The Project Gutenberg eBook of Sense and Sens...\n",
       "434  Shakespeare William  ﻿\\nProject Gutenberg Etext of The Rape of Lucr...\n",
       "435                Plato  ﻿The Project Gutenberg EBook of Statesman, by ...\n",
       "\n",
       "[436 rows x 2 columns]"
      ]
     },
     "execution_count": 2,
     "metadata": {},
     "output_type": "execute_result"
    }
   ],
   "source": [
    "df_init = pd.read_csv(config.DATA_PROCESSED_PATH + 'books_processed.csv')\n",
    "df_init"
   ]
  },
  {
   "cell_type": "code",
   "execution_count": 3,
   "metadata": {},
   "outputs": [
    {
     "data": {
      "text/plain": [
       "Author\n",
       "Shakespeare William                    160\n",
       "Twain Mark                             115\n",
       "Dickens Charles                         47\n",
       "Tolstoy Leo graf                        28\n",
       "Plato                                   27\n",
       "Wilde Oscar                             19\n",
       "Montgomery L. M. (Lucy Maud)            12\n",
       "Homer                                   12\n",
       "Austen Jane                             12\n",
       "Fitzgerald F. Scott (Francis Scott)      4\n",
       "Name: count, dtype: int64"
      ]
     },
     "execution_count": 3,
     "metadata": {},
     "output_type": "execute_result"
    }
   ],
   "source": [
    "# verify that we have only our 10 authors\n",
    "df_init['Author'].value_counts()"
   ]
  },
  {
   "cell_type": "code",
   "execution_count": 4,
   "metadata": {},
   "outputs": [
    {
     "data": {
      "text/html": [
       "<style>#sk-container-id-1 {color: black;background-color: white;}#sk-container-id-1 pre{padding: 0;}#sk-container-id-1 div.sk-toggleable {background-color: white;}#sk-container-id-1 label.sk-toggleable__label {cursor: pointer;display: block;width: 100%;margin-bottom: 0;padding: 0.3em;box-sizing: border-box;text-align: center;}#sk-container-id-1 label.sk-toggleable__label-arrow:before {content: \"▸\";float: left;margin-right: 0.25em;color: #696969;}#sk-container-id-1 label.sk-toggleable__label-arrow:hover:before {color: black;}#sk-container-id-1 div.sk-estimator:hover label.sk-toggleable__label-arrow:before {color: black;}#sk-container-id-1 div.sk-toggleable__content {max-height: 0;max-width: 0;overflow: hidden;text-align: left;background-color: #f0f8ff;}#sk-container-id-1 div.sk-toggleable__content pre {margin: 0.2em;color: black;border-radius: 0.25em;background-color: #f0f8ff;}#sk-container-id-1 input.sk-toggleable__control:checked~div.sk-toggleable__content {max-height: 200px;max-width: 100%;overflow: auto;}#sk-container-id-1 input.sk-toggleable__control:checked~label.sk-toggleable__label-arrow:before {content: \"▾\";}#sk-container-id-1 div.sk-estimator input.sk-toggleable__control:checked~label.sk-toggleable__label {background-color: #d4ebff;}#sk-container-id-1 div.sk-label input.sk-toggleable__control:checked~label.sk-toggleable__label {background-color: #d4ebff;}#sk-container-id-1 input.sk-hidden--visually {border: 0;clip: rect(1px 1px 1px 1px);clip: rect(1px, 1px, 1px, 1px);height: 1px;margin: -1px;overflow: hidden;padding: 0;position: absolute;width: 1px;}#sk-container-id-1 div.sk-estimator {font-family: monospace;background-color: #f0f8ff;border: 1px dotted black;border-radius: 0.25em;box-sizing: border-box;margin-bottom: 0.5em;}#sk-container-id-1 div.sk-estimator:hover {background-color: #d4ebff;}#sk-container-id-1 div.sk-parallel-item::after {content: \"\";width: 100%;border-bottom: 1px solid gray;flex-grow: 1;}#sk-container-id-1 div.sk-label:hover label.sk-toggleable__label {background-color: #d4ebff;}#sk-container-id-1 div.sk-serial::before {content: \"\";position: absolute;border-left: 1px solid gray;box-sizing: border-box;top: 0;bottom: 0;left: 50%;z-index: 0;}#sk-container-id-1 div.sk-serial {display: flex;flex-direction: column;align-items: center;background-color: white;padding-right: 0.2em;padding-left: 0.2em;position: relative;}#sk-container-id-1 div.sk-item {position: relative;z-index: 1;}#sk-container-id-1 div.sk-parallel {display: flex;align-items: stretch;justify-content: center;background-color: white;position: relative;}#sk-container-id-1 div.sk-item::before, #sk-container-id-1 div.sk-parallel-item::before {content: \"\";position: absolute;border-left: 1px solid gray;box-sizing: border-box;top: 0;bottom: 0;left: 50%;z-index: -1;}#sk-container-id-1 div.sk-parallel-item {display: flex;flex-direction: column;z-index: 1;position: relative;background-color: white;}#sk-container-id-1 div.sk-parallel-item:first-child::after {align-self: flex-end;width: 50%;}#sk-container-id-1 div.sk-parallel-item:last-child::after {align-self: flex-start;width: 50%;}#sk-container-id-1 div.sk-parallel-item:only-child::after {width: 0;}#sk-container-id-1 div.sk-dashed-wrapped {border: 1px dashed gray;margin: 0 0.4em 0.5em 0.4em;box-sizing: border-box;padding-bottom: 0.4em;background-color: white;}#sk-container-id-1 div.sk-label label {font-family: monospace;font-weight: bold;display: inline-block;line-height: 1.2em;}#sk-container-id-1 div.sk-label-container {text-align: center;}#sk-container-id-1 div.sk-container {/* jupyter's `normalize.less` sets `[hidden] { display: none; }` but bootstrap.min.css set `[hidden] { display: none !important; }` so we also need the `!important` here to be able to override the default hidden behavior on the sphinx rendered scikit-learn.org. See: https://github.com/scikit-learn/scikit-learn/issues/21755 */display: inline-block !important;position: relative;}#sk-container-id-1 div.sk-text-repr-fallback {display: none;}</style><div id=\"sk-container-id-1\" class=\"sk-top-container\"><div class=\"sk-text-repr-fallback\"><pre>Pipeline(steps=[(&#x27;columntransformer&#x27;,\n",
       "                 ColumnTransformer(transformers=[(&#x27;text_pipeline&#x27;,\n",
       "                                                  Pipeline(steps=[(&#x27;body&#x27;,\n",
       "                                                                   FunctionTransformer(func=&lt;bound method Preprocessor.body_preprocessor of &lt;src.pipelines.preprocessor.Preprocessor object at 0x1074a6080&gt;&gt;)),\n",
       "                                                                  (&#x27;clean_body&#x27;,\n",
       "                                                                   FunctionTransformer(func=&lt;bound method Preprocessor.clean_body_preprocessor of &lt;src.pipelines.pre...\n",
       "                                                                   FunctionTransformer(func=&lt;bound method Preprocessor.encode_label_preprocessor of &lt;src.pipelines.preprocessor.Preprocessor object at 0x1074a6080&gt;&gt;))]),\n",
       "                                                  [&#x27;Author&#x27;])])),\n",
       "                (&#x27;functiontransformer-1&#x27;,\n",
       "                 FunctionTransformer(func=&lt;bound method Preprocessor.chunk_text_preprocessor_nd of &lt;src.pipelines.preprocessor.Preprocessor object at 0x1074a6080&gt;&gt;)),\n",
       "                (&#x27;functiontransformer-2&#x27;,\n",
       "                 FunctionTransformer(func=&lt;bound method Preprocessor.padding_preprocessor of &lt;src.pipelines.preprocessor.Preprocessor object at 0x1074a6080&gt;&gt;))])</pre><b>In a Jupyter environment, please rerun this cell to show the HTML representation or trust the notebook. <br />On GitHub, the HTML representation is unable to render, please try loading this page with nbviewer.org.</b></div><div class=\"sk-container\" hidden><div class=\"sk-item sk-dashed-wrapped\"><div class=\"sk-label-container\"><div class=\"sk-label sk-toggleable\"><input class=\"sk-toggleable__control sk-hidden--visually\" id=\"sk-estimator-id-1\" type=\"checkbox\" ><label for=\"sk-estimator-id-1\" class=\"sk-toggleable__label sk-toggleable__label-arrow\">Pipeline</label><div class=\"sk-toggleable__content\"><pre>Pipeline(steps=[(&#x27;columntransformer&#x27;,\n",
       "                 ColumnTransformer(transformers=[(&#x27;text_pipeline&#x27;,\n",
       "                                                  Pipeline(steps=[(&#x27;body&#x27;,\n",
       "                                                                   FunctionTransformer(func=&lt;bound method Preprocessor.body_preprocessor of &lt;src.pipelines.preprocessor.Preprocessor object at 0x1074a6080&gt;&gt;)),\n",
       "                                                                  (&#x27;clean_body&#x27;,\n",
       "                                                                   FunctionTransformer(func=&lt;bound method Preprocessor.clean_body_preprocessor of &lt;src.pipelines.pre...\n",
       "                                                                   FunctionTransformer(func=&lt;bound method Preprocessor.encode_label_preprocessor of &lt;src.pipelines.preprocessor.Preprocessor object at 0x1074a6080&gt;&gt;))]),\n",
       "                                                  [&#x27;Author&#x27;])])),\n",
       "                (&#x27;functiontransformer-1&#x27;,\n",
       "                 FunctionTransformer(func=&lt;bound method Preprocessor.chunk_text_preprocessor_nd of &lt;src.pipelines.preprocessor.Preprocessor object at 0x1074a6080&gt;&gt;)),\n",
       "                (&#x27;functiontransformer-2&#x27;,\n",
       "                 FunctionTransformer(func=&lt;bound method Preprocessor.padding_preprocessor of &lt;src.pipelines.preprocessor.Preprocessor object at 0x1074a6080&gt;&gt;))])</pre></div></div></div><div class=\"sk-serial\"><div class=\"sk-item sk-dashed-wrapped\"><div class=\"sk-label-container\"><div class=\"sk-label sk-toggleable\"><input class=\"sk-toggleable__control sk-hidden--visually\" id=\"sk-estimator-id-2\" type=\"checkbox\" ><label for=\"sk-estimator-id-2\" class=\"sk-toggleable__label sk-toggleable__label-arrow\">columntransformer: ColumnTransformer</label><div class=\"sk-toggleable__content\"><pre>ColumnTransformer(transformers=[(&#x27;text_pipeline&#x27;,\n",
       "                                 Pipeline(steps=[(&#x27;body&#x27;,\n",
       "                                                  FunctionTransformer(func=&lt;bound method Preprocessor.body_preprocessor of &lt;src.pipelines.preprocessor.Preprocessor object at 0x1074a6080&gt;&gt;)),\n",
       "                                                 (&#x27;clean_body&#x27;,\n",
       "                                                  FunctionTransformer(func=&lt;bound method Preprocessor.clean_body_preprocessor of &lt;src.pipelines.preprocessor.Preprocessor object at 0x1074a...\n",
       "                                                  FunctionTransformer(func=&lt;bound method Preprocessor.strip_html_preprocessor of &lt;src.pipelines.preprocessor.Preprocessor object at 0x1074a6080&gt;&gt;))]),\n",
       "                                 [&#x27;Book&#x27;]),\n",
       "                                (&#x27;author_pipeline&#x27;,\n",
       "                                 Pipeline(steps=[(&#x27;encoder_categorical&#x27;,\n",
       "                                                  FunctionTransformer(func=&lt;bound method Preprocessor.encode_label_preprocessor of &lt;src.pipelines.preprocessor.Preprocessor object at 0x1074a6080&gt;&gt;))]),\n",
       "                                 [&#x27;Author&#x27;])])</pre></div></div></div><div class=\"sk-parallel\"><div class=\"sk-parallel-item\"><div class=\"sk-item\"><div class=\"sk-label-container\"><div class=\"sk-label sk-toggleable\"><input class=\"sk-toggleable__control sk-hidden--visually\" id=\"sk-estimator-id-3\" type=\"checkbox\" ><label for=\"sk-estimator-id-3\" class=\"sk-toggleable__label sk-toggleable__label-arrow\">text_pipeline</label><div class=\"sk-toggleable__content\"><pre>[&#x27;Book&#x27;]</pre></div></div></div><div class=\"sk-serial\"><div class=\"sk-item\"><div class=\"sk-serial\"><div class=\"sk-item\"><div class=\"sk-estimator sk-toggleable\"><input class=\"sk-toggleable__control sk-hidden--visually\" id=\"sk-estimator-id-4\" type=\"checkbox\" ><label for=\"sk-estimator-id-4\" class=\"sk-toggleable__label sk-toggleable__label-arrow\">FunctionTransformer</label><div class=\"sk-toggleable__content\"><pre>FunctionTransformer(func=&lt;bound method Preprocessor.body_preprocessor of &lt;src.pipelines.preprocessor.Preprocessor object at 0x1074a6080&gt;&gt;)</pre></div></div></div><div class=\"sk-item\"><div class=\"sk-estimator sk-toggleable\"><input class=\"sk-toggleable__control sk-hidden--visually\" id=\"sk-estimator-id-5\" type=\"checkbox\" ><label for=\"sk-estimator-id-5\" class=\"sk-toggleable__label sk-toggleable__label-arrow\">FunctionTransformer</label><div class=\"sk-toggleable__content\"><pre>FunctionTransformer(func=&lt;bound method Preprocessor.clean_body_preprocessor of &lt;src.pipelines.preprocessor.Preprocessor object at 0x1074a6080&gt;&gt;)</pre></div></div></div><div class=\"sk-item\"><div class=\"sk-estimator sk-toggleable\"><input class=\"sk-toggleable__control sk-hidden--visually\" id=\"sk-estimator-id-6\" type=\"checkbox\" ><label for=\"sk-estimator-id-6\" class=\"sk-toggleable__label sk-toggleable__label-arrow\">FunctionTransformer</label><div class=\"sk-toggleable__content\"><pre>FunctionTransformer(func=&lt;bound method Preprocessor.strip_html_preprocessor of &lt;src.pipelines.preprocessor.Preprocessor object at 0x1074a6080&gt;&gt;)</pre></div></div></div></div></div></div></div></div><div class=\"sk-parallel-item\"><div class=\"sk-item\"><div class=\"sk-label-container\"><div class=\"sk-label sk-toggleable\"><input class=\"sk-toggleable__control sk-hidden--visually\" id=\"sk-estimator-id-7\" type=\"checkbox\" ><label for=\"sk-estimator-id-7\" class=\"sk-toggleable__label sk-toggleable__label-arrow\">author_pipeline</label><div class=\"sk-toggleable__content\"><pre>[&#x27;Author&#x27;]</pre></div></div></div><div class=\"sk-serial\"><div class=\"sk-item\"><div class=\"sk-serial\"><div class=\"sk-item\"><div class=\"sk-estimator sk-toggleable\"><input class=\"sk-toggleable__control sk-hidden--visually\" id=\"sk-estimator-id-8\" type=\"checkbox\" ><label for=\"sk-estimator-id-8\" class=\"sk-toggleable__label sk-toggleable__label-arrow\">FunctionTransformer</label><div class=\"sk-toggleable__content\"><pre>FunctionTransformer(func=&lt;bound method Preprocessor.encode_label_preprocessor of &lt;src.pipelines.preprocessor.Preprocessor object at 0x1074a6080&gt;&gt;)</pre></div></div></div></div></div></div></div></div></div></div><div class=\"sk-item\"><div class=\"sk-estimator sk-toggleable\"><input class=\"sk-toggleable__control sk-hidden--visually\" id=\"sk-estimator-id-9\" type=\"checkbox\" ><label for=\"sk-estimator-id-9\" class=\"sk-toggleable__label sk-toggleable__label-arrow\">FunctionTransformer</label><div class=\"sk-toggleable__content\"><pre>FunctionTransformer(func=&lt;bound method Preprocessor.chunk_text_preprocessor_nd of &lt;src.pipelines.preprocessor.Preprocessor object at 0x1074a6080&gt;&gt;)</pre></div></div></div><div class=\"sk-item\"><div class=\"sk-estimator sk-toggleable\"><input class=\"sk-toggleable__control sk-hidden--visually\" id=\"sk-estimator-id-10\" type=\"checkbox\" ><label for=\"sk-estimator-id-10\" class=\"sk-toggleable__label sk-toggleable__label-arrow\">FunctionTransformer</label><div class=\"sk-toggleable__content\"><pre>FunctionTransformer(func=&lt;bound method Preprocessor.padding_preprocessor of &lt;src.pipelines.preprocessor.Preprocessor object at 0x1074a6080&gt;&gt;)</pre></div></div></div></div></div></div></div>"
      ],
      "text/plain": [
       "Pipeline(steps=[('columntransformer',\n",
       "                 ColumnTransformer(transformers=[('text_pipeline',\n",
       "                                                  Pipeline(steps=[('body',\n",
       "                                                                   FunctionTransformer(func=<bound method Preprocessor.body_preprocessor of <src.pipelines.preprocessor.Preprocessor object at 0x1074a6080>>)),\n",
       "                                                                  ('clean_body',\n",
       "                                                                   FunctionTransformer(func=<bound method Preprocessor.clean_body_preprocessor of <src.pipelines.pre...\n",
       "                                                                   FunctionTransformer(func=<bound method Preprocessor.encode_label_preprocessor of <src.pipelines.preprocessor.Preprocessor object at 0x1074a6080>>))]),\n",
       "                                                  ['Author'])])),\n",
       "                ('functiontransformer-1',\n",
       "                 FunctionTransformer(func=<bound method Preprocessor.chunk_text_preprocessor_nd of <src.pipelines.preprocessor.Preprocessor object at 0x1074a6080>>)),\n",
       "                ('functiontransformer-2',\n",
       "                 FunctionTransformer(func=<bound method Preprocessor.padding_preprocessor of <src.pipelines.preprocessor.Preprocessor object at 0x1074a6080>>))])"
      ]
     },
     "execution_count": 4,
     "metadata": {},
     "output_type": "execute_result"
    }
   ],
   "source": [
    "preprocessor = Preprocessor()\n",
    "pipeline = build_preprocessor_pipeline_02()\n",
    "pipeline"
   ]
  },
  {
   "cell_type": "code",
   "execution_count": 5,
   "metadata": {},
   "outputs": [],
   "source": [
    "# let's run our pipeline on our dataframe\n",
    "df = pipeline.fit_transform(df_init)"
   ]
  },
  {
   "cell_type": "code",
   "execution_count": 12,
   "metadata": {},
   "outputs": [
    {
     "data": {
      "text/html": [
       "<div>\n",
       "<style scoped>\n",
       "    .dataframe tbody tr th:only-of-type {\n",
       "        vertical-align: middle;\n",
       "    }\n",
       "\n",
       "    .dataframe tbody tr th {\n",
       "        vertical-align: top;\n",
       "    }\n",
       "\n",
       "    .dataframe thead th {\n",
       "        text-align: right;\n",
       "    }\n",
       "</style>\n",
       "<table border=\"1\" class=\"dataframe\">\n",
       "  <thead>\n",
       "    <tr style=\"text-align: right;\">\n",
       "      <th></th>\n",
       "      <th>Author</th>\n",
       "      <th>Book</th>\n",
       "    </tr>\n",
       "  </thead>\n",
       "  <tbody>\n",
       "    <tr>\n",
       "      <th>0</th>\n",
       "      <td>8</td>\n",
       "      <td>produced by betsie bush, chuck greif, martin p...</td>\n",
       "    </tr>\n",
       "    <tr>\n",
       "      <th>1</th>\n",
       "      <td>8</td>\n",
       "      <td>which he sees his own life reflected and set d...</td>\n",
       "    </tr>\n",
       "    <tr>\n",
       "      <th>2</th>\n",
       "      <td>8</td>\n",
       "      <td>believed it would, and asked me if i meant to ...</td>\n",
       "    </tr>\n",
       "    <tr>\n",
       "      <th>3</th>\n",
       "      <td>8</td>\n",
       "      <td>tradition, this one or another--geoffrey cleme...</td>\n",
       "    </tr>\n",
       "    <tr>\n",
       "      <th>4</th>\n",
       "      <td>8</td>\n",
       "      <td>of clemenses who said they had examined the re...</td>\n",
       "    </tr>\n",
       "    <tr>\n",
       "      <th>...</th>\n",
       "      <td>...</td>\n",
       "      <td>...</td>\n",
       "    </tr>\n",
       "    <tr>\n",
       "      <th>92892</th>\n",
       "      <td>5</td>\n",
       "      <td>one another, and give rise to a similar opposi...</td>\n",
       "    </tr>\n",
       "    <tr>\n",
       "      <th>92893</th>\n",
       "      <td>5</td>\n",
       "      <td>she desires to create, but only in what will p...</td>\n",
       "    </tr>\n",
       "    <tr>\n",
       "      <th>92894</th>\n",
       "      <td>5</td>\n",
       "      <td>good and their opposites, which is true and co...</td>\n",
       "    </tr>\n",
       "    <tr>\n",
       "      <th>92895</th>\n",
       "      <td>5</td>\n",
       "      <td>medicine which art prescribes for them, and of...</td>\n",
       "    </tr>\n",
       "    <tr>\n",
       "      <th>92896</th>\n",
       "      <td>5</td>\n",
       "      <td>whereas they should both do precisely the oppo...</td>\n",
       "    </tr>\n",
       "  </tbody>\n",
       "</table>\n",
       "<p>92897 rows × 2 columns</p>\n",
       "</div>"
      ],
      "text/plain": [
       "       Author                                               Book\n",
       "0           8  produced by betsie bush, chuck greif, martin p...\n",
       "1           8  which he sees his own life reflected and set d...\n",
       "2           8  believed it would, and asked me if i meant to ...\n",
       "3           8  tradition, this one or another--geoffrey cleme...\n",
       "4           8  of clemenses who said they had examined the re...\n",
       "...       ...                                                ...\n",
       "92892       5  one another, and give rise to a similar opposi...\n",
       "92893       5  she desires to create, but only in what will p...\n",
       "92894       5  good and their opposites, which is true and co...\n",
       "92895       5  medicine which art prescribes for them, and of...\n",
       "92896       5  whereas they should both do precisely the oppo...\n",
       "\n",
       "[92897 rows x 2 columns]"
      ]
     },
     "execution_count": 12,
     "metadata": {},
     "output_type": "execute_result"
    }
   ],
   "source": [
    "df"
   ]
  },
  {
   "attachments": {},
   "cell_type": "markdown",
   "metadata": {},
   "source": [
    "# We performed a disaggregation from a 436 rows representing each a book, to 92k rows representing each a book's chunk"
   ]
  },
  {
   "cell_type": "code",
   "execution_count": 6,
   "metadata": {},
   "outputs": [],
   "source": [
    "# save df to csv \n",
    "df.to_csv(os.path.join(config.DATA_FINAL_PATH + 'books_processed_pipe02.csv'), index=False)"
   ]
  },
  {
   "attachments": {},
   "cell_type": "markdown",
   "metadata": {},
   "source": [
    "# Now let's try adding word2vec embedding to our pipeline and do the same"
   ]
  },
  {
   "cell_type": "code",
   "execution_count": null,
   "metadata": {},
   "outputs": [],
   "source": []
  }
 ],
 "metadata": {
  "kernelspec": {
   "display_name": "ywl",
   "language": "python",
   "name": "python3"
  },
  "language_info": {
   "codemirror_mode": {
    "name": "ipython",
    "version": 3
   },
   "file_extension": ".py",
   "mimetype": "text/x-python",
   "name": "python",
   "nbconvert_exporter": "python",
   "pygments_lexer": "ipython3",
   "version": "3.10.6"
  },
  "orig_nbformat": 4
 },
 "nbformat": 4,
 "nbformat_minor": 2
}
