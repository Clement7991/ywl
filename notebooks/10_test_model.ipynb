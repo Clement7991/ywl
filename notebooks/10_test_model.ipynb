{
 "cells": [
  {
   "cell_type": "code",
   "execution_count": 1,
   "metadata": {},
   "outputs": [],
   "source": [
    "%load_ext autoreload \n",
    "%autoreload 2\n",
    "\n",
    "# imports and setup\n",
    "import pandas as pd\n",
    "import numpy as np\n",
    "import os \n",
    "\n",
    "# import and instanciate config file to get access to paths\n",
    "os.chdir(os.path.dirname(os.getcwd()))\n",
    "from config.config import Config\n",
    "config = Config()\n",
    "\n",
    "# import utils functions\n",
    "from src.pipelines.preprocessor import Preprocessor\n",
    "from src.pipelines.models import Models\n",
    "from sklearn import set_config; set_config(display='diagram')"
   ]
  },
  {
   "cell_type": "code",
   "execution_count": 2,
   "metadata": {},
   "outputs": [
    {
     "data": {
      "text/html": [
       "<div>\n",
       "<style scoped>\n",
       "    .dataframe tbody tr th:only-of-type {\n",
       "        vertical-align: middle;\n",
       "    }\n",
       "\n",
       "    .dataframe tbody tr th {\n",
       "        vertical-align: top;\n",
       "    }\n",
       "\n",
       "    .dataframe thead th {\n",
       "        text-align: right;\n",
       "    }\n",
       "</style>\n",
       "<table border=\"1\" class=\"dataframe\">\n",
       "  <thead>\n",
       "    <tr style=\"text-align: right;\">\n",
       "      <th></th>\n",
       "      <th>Author</th>\n",
       "      <th>Book</th>\n",
       "    </tr>\n",
       "  </thead>\n",
       "  <tbody>\n",
       "    <tr>\n",
       "      <th>0</th>\n",
       "      <td>Twain Mark</td>\n",
       "      <td>﻿The Project Gutenberg EBook of Chapters from ...</td>\n",
       "    </tr>\n",
       "    <tr>\n",
       "      <th>1</th>\n",
       "      <td>Plato</td>\n",
       "      <td>﻿The Project Gutenberg EBook of Sophist, by Pl...</td>\n",
       "    </tr>\n",
       "    <tr>\n",
       "      <th>2</th>\n",
       "      <td>Twain Mark</td>\n",
       "      <td>﻿The Project Gutenberg EBook of On the Decay o...</td>\n",
       "    </tr>\n",
       "    <tr>\n",
       "      <th>3</th>\n",
       "      <td>Shakespeare William</td>\n",
       "      <td>﻿The Project Gutenberg eBook of Pericles, by W...</td>\n",
       "    </tr>\n",
       "    <tr>\n",
       "      <th>4</th>\n",
       "      <td>Shakespeare William</td>\n",
       "      <td>﻿The Project Gutenberg eBook of As You Like It...</td>\n",
       "    </tr>\n",
       "    <tr>\n",
       "      <th>...</th>\n",
       "      <td>...</td>\n",
       "      <td>...</td>\n",
       "    </tr>\n",
       "    <tr>\n",
       "      <th>431</th>\n",
       "      <td>Twain Mark</td>\n",
       "      <td>﻿The Project Gutenberg EBook of Life On The Mi...</td>\n",
       "    </tr>\n",
       "    <tr>\n",
       "      <th>432</th>\n",
       "      <td>Twain Mark</td>\n",
       "      <td>﻿The Project Gutenberg EBook of A Tramp Abroad...</td>\n",
       "    </tr>\n",
       "    <tr>\n",
       "      <th>433</th>\n",
       "      <td>Austen Jane</td>\n",
       "      <td>﻿The Project Gutenberg eBook of Sense and Sens...</td>\n",
       "    </tr>\n",
       "    <tr>\n",
       "      <th>434</th>\n",
       "      <td>Shakespeare William</td>\n",
       "      <td>﻿\\nProject Gutenberg Etext of The Rape of Lucr...</td>\n",
       "    </tr>\n",
       "    <tr>\n",
       "      <th>435</th>\n",
       "      <td>Plato</td>\n",
       "      <td>﻿The Project Gutenberg EBook of Statesman, by ...</td>\n",
       "    </tr>\n",
       "  </tbody>\n",
       "</table>\n",
       "<p>436 rows × 2 columns</p>\n",
       "</div>"
      ],
      "text/plain": [
       "                  Author                                               Book\n",
       "0             Twain Mark  ﻿The Project Gutenberg EBook of Chapters from ...\n",
       "1                  Plato  ﻿The Project Gutenberg EBook of Sophist, by Pl...\n",
       "2             Twain Mark  ﻿The Project Gutenberg EBook of On the Decay o...\n",
       "3    Shakespeare William  ﻿The Project Gutenberg eBook of Pericles, by W...\n",
       "4    Shakespeare William  ﻿The Project Gutenberg eBook of As You Like It...\n",
       "..                   ...                                                ...\n",
       "431           Twain Mark  ﻿The Project Gutenberg EBook of Life On The Mi...\n",
       "432           Twain Mark  ﻿The Project Gutenberg EBook of A Tramp Abroad...\n",
       "433          Austen Jane  ﻿The Project Gutenberg eBook of Sense and Sens...\n",
       "434  Shakespeare William  ﻿\\nProject Gutenberg Etext of The Rape of Lucr...\n",
       "435                Plato  ﻿The Project Gutenberg EBook of Statesman, by ...\n",
       "\n",
       "[436 rows x 2 columns]"
      ]
     },
     "execution_count": 2,
     "metadata": {},
     "output_type": "execute_result"
    }
   ],
   "source": [
    "from src.pipelines.preproc.pipeline_045 import build_preprocessor_pipeline_045\n",
    "\n",
    "with open(os.path.join(config.DATA_PROCESSED_PATH, 'books_processed.csv'), 'r') as f:\n",
    "    books = pd.read_csv(f)\n",
    "\n",
    "books"
   ]
  },
  {
   "cell_type": "code",
   "execution_count": 3,
   "metadata": {},
   "outputs": [
    {
     "data": {
      "text/html": [
       "<div>\n",
       "<style scoped>\n",
       "    .dataframe tbody tr th:only-of-type {\n",
       "        vertical-align: middle;\n",
       "    }\n",
       "\n",
       "    .dataframe tbody tr th {\n",
       "        vertical-align: top;\n",
       "    }\n",
       "\n",
       "    .dataframe thead th {\n",
       "        text-align: right;\n",
       "    }\n",
       "</style>\n",
       "<table border=\"1\" class=\"dataframe\">\n",
       "  <thead>\n",
       "    <tr style=\"text-align: right;\">\n",
       "      <th></th>\n",
       "      <th>Author</th>\n",
       "      <th>Book</th>\n",
       "    </tr>\n",
       "  </thead>\n",
       "  <tbody>\n",
       "    <tr>\n",
       "      <th>0</th>\n",
       "      <td>0</td>\n",
       "      <td>[[0.09732702, -0.19285098, 0.57573694, 0.26288...</td>\n",
       "    </tr>\n",
       "    <tr>\n",
       "      <th>1</th>\n",
       "      <td>0</td>\n",
       "      <td>[[0.21627177, 0.21684551, -0.3217837, -0.18637...</td>\n",
       "    </tr>\n",
       "    <tr>\n",
       "      <th>2</th>\n",
       "      <td>0</td>\n",
       "      <td>[[0.06959727, -0.51864296, -0.09227154, 0.0633...</td>\n",
       "    </tr>\n",
       "    <tr>\n",
       "      <th>3</th>\n",
       "      <td>0</td>\n",
       "      <td>[[-0.000486169, 0.09628677, -0.029623983, -0.0...</td>\n",
       "    </tr>\n",
       "    <tr>\n",
       "      <th>4</th>\n",
       "      <td>0</td>\n",
       "      <td>[[0.3825136, -1.9102837, 3.7619069, 1.7127132,...</td>\n",
       "    </tr>\n",
       "    <tr>\n",
       "      <th>...</th>\n",
       "      <td>...</td>\n",
       "      <td>...</td>\n",
       "    </tr>\n",
       "    <tr>\n",
       "      <th>9995</th>\n",
       "      <td>9</td>\n",
       "      <td>[[-1.7807407, -3.254966, 1.679969, 1.0593946, ...</td>\n",
       "    </tr>\n",
       "    <tr>\n",
       "      <th>9996</th>\n",
       "      <td>9</td>\n",
       "      <td>[[-1.7807407, -3.254966, 1.679969, 1.0593946, ...</td>\n",
       "    </tr>\n",
       "    <tr>\n",
       "      <th>9997</th>\n",
       "      <td>9</td>\n",
       "      <td>[[-0.014674434, 0.2752076, 0.09305451, -0.0028...</td>\n",
       "    </tr>\n",
       "    <tr>\n",
       "      <th>9998</th>\n",
       "      <td>9</td>\n",
       "      <td>[[-1.2170954, -0.57367927, 0.91206944, -1.6051...</td>\n",
       "    </tr>\n",
       "    <tr>\n",
       "      <th>9999</th>\n",
       "      <td>9</td>\n",
       "      <td>[[0.639389, 2.0545986, 0.29739305, -1.0318079,...</td>\n",
       "    </tr>\n",
       "  </tbody>\n",
       "</table>\n",
       "<p>10000 rows × 2 columns</p>\n",
       "</div>"
      ],
      "text/plain": [
       "      Author                                               Book\n",
       "0          0  [[0.09732702, -0.19285098, 0.57573694, 0.26288...\n",
       "1          0  [[0.21627177, 0.21684551, -0.3217837, -0.18637...\n",
       "2          0  [[0.06959727, -0.51864296, -0.09227154, 0.0633...\n",
       "3          0  [[-0.000486169, 0.09628677, -0.029623983, -0.0...\n",
       "4          0  [[0.3825136, -1.9102837, 3.7619069, 1.7127132,...\n",
       "...      ...                                                ...\n",
       "9995       9  [[-1.7807407, -3.254966, 1.679969, 1.0593946, ...\n",
       "9996       9  [[-1.7807407, -3.254966, 1.679969, 1.0593946, ...\n",
       "9997       9  [[-0.014674434, 0.2752076, 0.09305451, -0.0028...\n",
       "9998       9  [[-1.2170954, -0.57367927, 0.91206944, -1.6051...\n",
       "9999       9  [[0.639389, 2.0545986, 0.29739305, -1.0318079,...\n",
       "\n",
       "[10000 rows x 2 columns]"
      ]
     },
     "execution_count": 3,
     "metadata": {},
     "output_type": "execute_result"
    }
   ],
   "source": [
    "pipe045 = build_preprocessor_pipeline_045()\n",
    "books_chunked_vec = pipe045.fit_transform(books)\n",
    "books_chunked_vec"
   ]
  },
  {
   "cell_type": "code",
   "execution_count": 5,
   "metadata": {},
   "outputs": [],
   "source": [
    "import numpy as np\n",
    "\n",
    "X = books_chunked_vec['Book']\n",
    "y = books_chunked_vec['Author']\n",
    "\n",
    "# split the data into train and test\n",
    "from sklearn.model_selection import train_test_split\n",
    "\n",
    "X_train, X_test, y_train, y_test = train_test_split(X, y, test_size=0.2, random_state=42, shuffle=True)"
   ]
  },
  {
   "cell_type": "code",
   "execution_count": 9,
   "metadata": {},
   "outputs": [
    {
     "data": {
      "text/plain": [
       "9254    [[-2.1358194, 0.36748034, -0.4772223, 0.413831...\n",
       "1561    [[-2.2355375, 1.19142, -2.8305616, -4.0874796,...\n",
       "1670    [[0.24394011, 0.2315118, 0.10482082, -0.118494...\n",
       "6087    [[-0.9019743, -3.5870354, 0.042416953, -0.0319...\n",
       "6669    [[-0.8753002, 1.6147056, 0.2498276, -1.3214576...\n",
       "                              ...                        \n",
       "5734    [[1.9615262, -2.7088308, -1.6898253, -1.562306...\n",
       "5191    [[2.5101736, 2.104913, -5.228734, -0.7872795, ...\n",
       "5390    [[0.008349225, -0.021636004, 0.10126618, -0.12...\n",
       "860     [[-0.15042056, 0.47845986, 0.27942264, -0.0779...\n",
       "7270    [[-0.007282633, -0.055388834, 0.04101046, -0.0...\n",
       "Name: Book, Length: 8000, dtype: object"
      ]
     },
     "execution_count": 9,
     "metadata": {},
     "output_type": "execute_result"
    }
   ],
   "source": [
    "X_train"
   ]
  },
  {
   "cell_type": "code",
   "execution_count": 6,
   "metadata": {},
   "outputs": [
    {
     "data": {
      "text/plain": [
       "(array([9, 1, 1, ..., 5, 0, 7]), array([6, 4, 1, ..., 7, 1, 6]))"
      ]
     },
     "execution_count": 6,
     "metadata": {},
     "output_type": "execute_result"
    }
   ],
   "source": [
    "from sklearn.preprocessing import OneHotEncoder\n",
    "ohe = OneHotEncoder()\n",
    "y_train = np.array(y_train)\n",
    "y_test = np.array(y_test)\n",
    "y_train, y_test"
   ]
  },
  {
   "cell_type": "code",
   "execution_count": 7,
   "metadata": {},
   "outputs": [
    {
     "data": {
      "text/plain": [
       "(array([[0., 0., 0., ..., 0., 0., 1.],\n",
       "        [0., 1., 0., ..., 0., 0., 0.],\n",
       "        [0., 1., 0., ..., 0., 0., 0.],\n",
       "        ...,\n",
       "        [0., 0., 0., ..., 0., 0., 0.],\n",
       "        [1., 0., 0., ..., 0., 0., 0.],\n",
       "        [0., 0., 0., ..., 1., 0., 0.]]),\n",
       " array([[0., 0., 0., ..., 0., 0., 0.],\n",
       "        [0., 0., 0., ..., 0., 0., 0.],\n",
       "        [0., 1., 0., ..., 0., 0., 0.],\n",
       "        ...,\n",
       "        [0., 0., 0., ..., 1., 0., 0.],\n",
       "        [0., 1., 0., ..., 0., 0., 0.],\n",
       "        [0., 0., 0., ..., 0., 0., 0.]]))"
      ]
     },
     "execution_count": 7,
     "metadata": {},
     "output_type": "execute_result"
    }
   ],
   "source": [
    "y_train = ohe.fit_transform(y_train.reshape(-1, 1)).toarray()\n",
    "y_test = ohe.fit_transform(y_test.reshape(-1, 1)).toarray()\n",
    "y_train, y_test"
   ]
  },
  {
   "cell_type": "code",
   "execution_count": 18,
   "metadata": {},
   "outputs": [
    {
     "data": {
      "text/plain": [
       "(array([[[ 9.73270163e-02, -1.92850977e-01,  5.75736940e-01, ...,\n",
       "          -1.30918816e-01,  1.77109629e-01, -7.53212571e-01],\n",
       "         [ 1.01683717e-02, -5.63633628e-03,  3.30034234e-02, ...,\n",
       "          -1.89782474e-02,  9.72750422e-04, -4.85289991e-02],\n",
       "         [ 3.17385960e+00,  1.15723062e+00, -3.62703037e+00, ...,\n",
       "          -3.52668619e+00, -1.50785732e+00,  1.52285025e-01],\n",
       "         ...,\n",
       "         [ 1.36392915e+00,  1.57719660e+00, -2.23499823e+00, ...,\n",
       "          -4.21871841e-01, -7.82110631e-01, -1.75866950e+00],\n",
       "         [ 3.86382341e-01,  5.09127080e-01,  2.46804380e+00, ...,\n",
       "          -6.86163083e-02, -2.74593496e+00,  2.19164014e+00],\n",
       "         [ 2.55179465e-01, -2.85211182e+00, -2.66693616e+00, ...,\n",
       "          -1.67189658e+00, -2.38343358e+00,  2.80521798e+00]],\n",
       " \n",
       "        [[ 2.16271773e-01,  2.16845512e-01, -3.21783692e-01, ...,\n",
       "          -1.36589548e-02,  8.47933948e-01, -1.49760187e+00],\n",
       "         [ 2.44705617e-01, -3.01750660e+00, -2.69920975e-01, ...,\n",
       "          -6.56712711e-01, -8.94245684e-01,  1.71656418e+00],\n",
       "         [-2.77709031e+00,  5.27735043e+00,  2.26558828e+00, ...,\n",
       "          -1.41990221e+00, -2.84269731e-02,  1.90594339e+00],\n",
       "         ...,\n",
       "         [ 1.60165334e+00,  8.56990814e+00,  4.50652981e+00, ...,\n",
       "          -3.21953607e+00, -1.92856348e+00,  1.29794419e+00],\n",
       "         [ 9.45942104e-02,  1.18913930e-02,  6.45697489e-02, ...,\n",
       "          -6.54741973e-02,  3.93664762e-02,  5.65174669e-02],\n",
       "         [-1.19602442e-01,  3.75521332e-01,  1.68189597e+00, ...,\n",
       "          -1.42931074e-01,  2.94392556e-01,  5.30474365e-01]],\n",
       " \n",
       "        [[ 6.95972666e-02, -5.18642962e-01, -9.22715366e-02, ...,\n",
       "           1.31341740e-01,  3.38061988e-01, -1.32993710e+00],\n",
       "         [ 1.23163092e+00, -1.64327890e-01,  2.37084568e-01, ...,\n",
       "          -1.46684802e+00, -8.87404919e-01, -1.92072082e+00],\n",
       "         [ 3.89147878e-01, -7.49707222e-02, -3.72618884e-02, ...,\n",
       "          -1.64115906e-01,  6.92736924e-01, -8.09629500e-01],\n",
       "         ...,\n",
       "         [-3.59577775e+00,  1.33382785e+00, -2.29695749e+00, ...,\n",
       "          -1.97790849e+00,  4.25827837e+00,  9.73378122e-01],\n",
       "         [-1.52176619e+00, -8.36611450e-01,  3.14084649e+00, ...,\n",
       "           3.63327891e-01,  3.94292617e+00,  8.11641634e-01],\n",
       "         [ 8.92428815e-01,  7.46572912e-01,  1.34298241e+00, ...,\n",
       "           8.54288399e-01,  5.19846320e-01,  2.07574224e+00]],\n",
       " \n",
       "        ...,\n",
       " \n",
       "        [[-1.46744344e-02,  2.75207609e-01,  9.30545107e-02, ...,\n",
       "           2.93175489e-01,  4.42720264e-01, -6.17140114e-01],\n",
       "         [-1.19602442e-01,  3.75521332e-01,  1.68189597e+00, ...,\n",
       "          -1.42931074e-01,  2.94392556e-01,  5.30474365e-01],\n",
       "         [-2.30444360e+00, -1.88510537e-01,  1.27895617e+00, ...,\n",
       "           8.37792516e-01,  4.87705439e-01,  2.93311214e+00],\n",
       "         ...,\n",
       "         [ 1.52788997e+00,  4.03789133e-01, -1.34674084e+00, ...,\n",
       "           2.41622138e+00,  2.10680819e+00, -4.00498486e+00],\n",
       "         [-3.13787255e-03,  3.44750797e-03, -9.01612546e-03, ...,\n",
       "           3.00227217e-02, -4.44747023e-02, -6.80827200e-02],\n",
       "         [-5.42504609e-01, -3.11321902e+00, -3.59301269e-01, ...,\n",
       "           1.18523669e+00,  1.91006899e+00, -1.50836945e+00]],\n",
       " \n",
       "        [[-1.21709538e+00, -5.73679268e-01,  9.12069440e-01, ...,\n",
       "          -3.61853361e-01, -6.45373523e-01,  1.01017833e+00],\n",
       "         [ 2.07917070e+00,  2.99073994e-01, -5.18878889e+00, ...,\n",
       "           1.97535121e+00,  6.10711241e+00, -1.14639068e+00],\n",
       "         [-1.54867709e-01,  2.20263556e-01, -4.49987352e-01, ...,\n",
       "          -1.77053690e+00, -4.98244762e+00,  2.54348183e+00],\n",
       "         ...,\n",
       "         [-4.56400216e-02, -1.00172985e+00,  4.01157230e-01, ...,\n",
       "          -6.41142035e+00, -4.07893419e+00,  6.86615229e+00],\n",
       "         [ 1.78113937e-01, -6.57026991e-02, -4.81597275e-01, ...,\n",
       "          -8.92416060e-01,  3.90407324e-01, -2.97385287e+00],\n",
       "         [ 1.14695406e+00,  3.44074011e-01, -2.96730369e-01, ...,\n",
       "           5.20096779e-01, -1.82369995e+00,  5.85483408e+00]],\n",
       " \n",
       "        [[ 6.39388978e-01,  2.05459857e+00,  2.97393054e-01, ...,\n",
       "          -4.24152702e-01, -1.40421316e-01, -8.45137537e-01],\n",
       "         [-2.30444360e+00, -1.88510537e-01,  1.27895617e+00, ...,\n",
       "           8.37792516e-01,  4.87705439e-01,  2.93311214e+00],\n",
       "         [-6.19058967e-01,  2.96097666e-01, -6.68086290e-01, ...,\n",
       "          -4.56644952e-01,  1.32550669e+00, -1.39962032e-01],\n",
       "         ...,\n",
       "         [-2.35348493e-02,  1.04083695e-01,  5.78339212e-02, ...,\n",
       "           3.37509476e-02,  1.66415405e-02, -8.92819539e-02],\n",
       "         [ 1.60165334e+00,  8.56990814e+00,  4.50652981e+00, ...,\n",
       "          -3.21953607e+00, -1.92856348e+00,  1.29794419e+00],\n",
       "         [-1.84353626e+00,  3.95195556e+00,  5.75724579e-02, ...,\n",
       "          -7.63406873e-01, -9.92657542e-01, -1.43830702e-01]]],\n",
       "       dtype=float32),\n",
       " array([[[ 9.73270163e-02, -1.92850977e-01,  5.75736940e-01, ...,\n",
       "          -1.30918816e-01,  1.77109629e-01, -7.53212571e-01],\n",
       "         [ 1.01683717e-02, -5.63633628e-03,  3.30034234e-02, ...,\n",
       "          -1.89782474e-02,  9.72750422e-04, -4.85289991e-02],\n",
       "         [ 3.17385960e+00,  1.15723062e+00, -3.62703037e+00, ...,\n",
       "          -3.52668619e+00, -1.50785732e+00,  1.52285025e-01],\n",
       "         ...,\n",
       "         [ 1.36392915e+00,  1.57719660e+00, -2.23499823e+00, ...,\n",
       "          -4.21871841e-01, -7.82110631e-01, -1.75866950e+00],\n",
       "         [ 3.86382341e-01,  5.09127080e-01,  2.46804380e+00, ...,\n",
       "          -6.86163083e-02, -2.74593496e+00,  2.19164014e+00],\n",
       "         [ 2.55179465e-01, -2.85211182e+00, -2.66693616e+00, ...,\n",
       "          -1.67189658e+00, -2.38343358e+00,  2.80521798e+00]],\n",
       " \n",
       "        [[ 2.16271773e-01,  2.16845512e-01, -3.21783692e-01, ...,\n",
       "          -1.36589548e-02,  8.47933948e-01, -1.49760187e+00],\n",
       "         [ 2.44705617e-01, -3.01750660e+00, -2.69920975e-01, ...,\n",
       "          -6.56712711e-01, -8.94245684e-01,  1.71656418e+00],\n",
       "         [-2.77709031e+00,  5.27735043e+00,  2.26558828e+00, ...,\n",
       "          -1.41990221e+00, -2.84269731e-02,  1.90594339e+00],\n",
       "         ...,\n",
       "         [ 1.60165334e+00,  8.56990814e+00,  4.50652981e+00, ...,\n",
       "          -3.21953607e+00, -1.92856348e+00,  1.29794419e+00],\n",
       "         [ 9.45942104e-02,  1.18913930e-02,  6.45697489e-02, ...,\n",
       "          -6.54741973e-02,  3.93664762e-02,  5.65174669e-02],\n",
       "         [-1.19602442e-01,  3.75521332e-01,  1.68189597e+00, ...,\n",
       "          -1.42931074e-01,  2.94392556e-01,  5.30474365e-01]],\n",
       " \n",
       "        [[ 6.95972666e-02, -5.18642962e-01, -9.22715366e-02, ...,\n",
       "           1.31341740e-01,  3.38061988e-01, -1.32993710e+00],\n",
       "         [ 1.23163092e+00, -1.64327890e-01,  2.37084568e-01, ...,\n",
       "          -1.46684802e+00, -8.87404919e-01, -1.92072082e+00],\n",
       "         [ 3.89147878e-01, -7.49707222e-02, -3.72618884e-02, ...,\n",
       "          -1.64115906e-01,  6.92736924e-01, -8.09629500e-01],\n",
       "         ...,\n",
       "         [-3.59577775e+00,  1.33382785e+00, -2.29695749e+00, ...,\n",
       "          -1.97790849e+00,  4.25827837e+00,  9.73378122e-01],\n",
       "         [-1.52176619e+00, -8.36611450e-01,  3.14084649e+00, ...,\n",
       "           3.63327891e-01,  3.94292617e+00,  8.11641634e-01],\n",
       "         [ 8.92428815e-01,  7.46572912e-01,  1.34298241e+00, ...,\n",
       "           8.54288399e-01,  5.19846320e-01,  2.07574224e+00]],\n",
       " \n",
       "        ...,\n",
       " \n",
       "        [[-1.46744344e-02,  2.75207609e-01,  9.30545107e-02, ...,\n",
       "           2.93175489e-01,  4.42720264e-01, -6.17140114e-01],\n",
       "         [-1.19602442e-01,  3.75521332e-01,  1.68189597e+00, ...,\n",
       "          -1.42931074e-01,  2.94392556e-01,  5.30474365e-01],\n",
       "         [-2.30444360e+00, -1.88510537e-01,  1.27895617e+00, ...,\n",
       "           8.37792516e-01,  4.87705439e-01,  2.93311214e+00],\n",
       "         ...,\n",
       "         [ 1.52788997e+00,  4.03789133e-01, -1.34674084e+00, ...,\n",
       "           2.41622138e+00,  2.10680819e+00, -4.00498486e+00],\n",
       "         [-3.13787255e-03,  3.44750797e-03, -9.01612546e-03, ...,\n",
       "           3.00227217e-02, -4.44747023e-02, -6.80827200e-02],\n",
       "         [-5.42504609e-01, -3.11321902e+00, -3.59301269e-01, ...,\n",
       "           1.18523669e+00,  1.91006899e+00, -1.50836945e+00]],\n",
       " \n",
       "        [[-1.21709538e+00, -5.73679268e-01,  9.12069440e-01, ...,\n",
       "          -3.61853361e-01, -6.45373523e-01,  1.01017833e+00],\n",
       "         [ 2.07917070e+00,  2.99073994e-01, -5.18878889e+00, ...,\n",
       "           1.97535121e+00,  6.10711241e+00, -1.14639068e+00],\n",
       "         [-1.54867709e-01,  2.20263556e-01, -4.49987352e-01, ...,\n",
       "          -1.77053690e+00, -4.98244762e+00,  2.54348183e+00],\n",
       "         ...,\n",
       "         [-4.56400216e-02, -1.00172985e+00,  4.01157230e-01, ...,\n",
       "          -6.41142035e+00, -4.07893419e+00,  6.86615229e+00],\n",
       "         [ 1.78113937e-01, -6.57026991e-02, -4.81597275e-01, ...,\n",
       "          -8.92416060e-01,  3.90407324e-01, -2.97385287e+00],\n",
       "         [ 1.14695406e+00,  3.44074011e-01, -2.96730369e-01, ...,\n",
       "           5.20096779e-01, -1.82369995e+00,  5.85483408e+00]],\n",
       " \n",
       "        [[ 6.39388978e-01,  2.05459857e+00,  2.97393054e-01, ...,\n",
       "          -4.24152702e-01, -1.40421316e-01, -8.45137537e-01],\n",
       "         [-2.30444360e+00, -1.88510537e-01,  1.27895617e+00, ...,\n",
       "           8.37792516e-01,  4.87705439e-01,  2.93311214e+00],\n",
       "         [-6.19058967e-01,  2.96097666e-01, -6.68086290e-01, ...,\n",
       "          -4.56644952e-01,  1.32550669e+00, -1.39962032e-01],\n",
       "         ...,\n",
       "         [-2.35348493e-02,  1.04083695e-01,  5.78339212e-02, ...,\n",
       "           3.37509476e-02,  1.66415405e-02, -8.92819539e-02],\n",
       "         [ 1.60165334e+00,  8.56990814e+00,  4.50652981e+00, ...,\n",
       "          -3.21953607e+00, -1.92856348e+00,  1.29794419e+00],\n",
       "         [-1.84353626e+00,  3.95195556e+00,  5.75724579e-02, ...,\n",
       "          -7.63406873e-01, -9.92657542e-01, -1.43830702e-01]]],\n",
       "       dtype=float32))"
      ]
     },
     "execution_count": 18,
     "metadata": {},
     "output_type": "execute_result"
    }
   ],
   "source": [
    "X_train = np.array([np.vstack(X[i]) for i in range(len(X))])\n",
    "X_test = np.array([np.vstack(X[i]) for i in range(len(X))])\n",
    "X_train, X_test"
   ]
  },
  {
   "cell_type": "code",
   "execution_count": 19,
   "metadata": {},
   "outputs": [
    {
     "name": "stderr",
     "output_type": "stream",
     "text": [
      "WARNING:absl:At this time, the v2.11+ optimizer `tf.keras.optimizers.Adam` runs slowly on M1/M2 Macs, please use the legacy Keras optimizer instead, located at `tf.keras.optimizers.legacy.Adam`.\n"
     ]
    },
    {
     "name": "stdout",
     "output_type": "stream",
     "text": [
      "Model initialized\n"
     ]
    }
   ],
   "source": [
    "from keras import Input, layers, Sequential, optimizers\n",
    "\n",
    "model = Sequential()\n",
    "model.add(Input(shape=(None, 60)))\n",
    "model.add(layers.Masking())\n",
    "model.add(layers.LSTM(60, activation='relu'))\n",
    "# ou bien  model.add(layers.Dense(100, activation='relu'))\n",
    "\n",
    "model.add(layers.Dense(10, activation=\"softmax\"))\n",
    "print(\"Model initialized\")\n",
    "optimizer = optimizers.Adam(learning_rate=0.001)"
   ]
  },
  {
   "cell_type": "code",
   "execution_count": 20,
   "metadata": {},
   "outputs": [
    {
     "name": "stderr",
     "output_type": "stream",
     "text": [
      "WARNING:absl:There is a known slowdown when using v2.11+ Keras optimizers on M1/M2 Macs. Falling back to the legacy Keras optimizer, i.e., `tf.keras.optimizers.legacy.Adam`.\n"
     ]
    },
    {
     "name": "stdout",
     "output_type": "stream",
     "text": [
      "Model compiled\n"
     ]
    }
   ],
   "source": [
    "model.compile(loss='categorical_crossentropy',\n",
    "            optimizer=optimizer,\n",
    "            metrics=['accuracy'])\n",
    "print(\"Model compiled\")"
   ]
  },
  {
   "cell_type": "code",
   "execution_count": 21,
   "metadata": {},
   "outputs": [
    {
     "name": "stdout",
     "output_type": "stream",
     "text": [
      "Model: \"sequential\"\n",
      "_________________________________________________________________\n",
      " Layer (type)                Output Shape              Param #   \n",
      "=================================================================\n",
      " masking (Masking)           (None, None, 60)          0         \n",
      "                                                                 \n",
      " lstm (LSTM)                 (None, 60)                29040     \n",
      "                                                                 \n",
      " dense (Dense)               (None, 10)                610       \n",
      "                                                                 \n",
      "=================================================================\n",
      "Total params: 29650 (115.82 KB)\n",
      "Trainable params: 29650 (115.82 KB)\n",
      "Non-trainable params: 0 (0.00 Byte)\n",
      "_________________________________________________________________\n"
     ]
    }
   ],
   "source": [
    "model.summary()"
   ]
  },
  {
   "cell_type": "code",
   "execution_count": 22,
   "metadata": {},
   "outputs": [
    {
     "name": "stdout",
     "output_type": "stream",
     "text": [
      "Epoch 1/30\n",
      " 67/125 [===============>..............] - ETA: 4s - loss: 2.3578 - accuracy: 0.1028"
     ]
    }
   ],
   "source": [
    "from keras.callbacks import EarlyStopping\n",
    "\n",
    "es = EarlyStopping(\n",
    "    monitor=\"val_loss\",\n",
    "    patience=4,\n",
    "    restore_best_weights=True,\n",
    "    verbose=1)\n",
    "\n",
    "history = model.fit(\n",
    "    X_train,\n",
    "    y_train,\n",
    "    validation_split=0.2,\n",
    "    epochs=30,\n",
    "    batch_size=64,\n",
    "    callbacks=[es],\n",
    "    verbose=1)\n",
    "\n",
    "print(history.history.keys())"
   ]
  },
  {
   "cell_type": "code",
   "execution_count": null,
   "metadata": {},
   "outputs": [
    {
     "data": {
      "image/png": "[encoded data removed]",
      "text/plain": [
       "<Figure size 640x480 with 1 Axes>"
      ]
     },
     "metadata": {},
     "output_type": "display_data"
    }
   ],
   "source": [
    "# plot the history metrics\n",
    "import matplotlib.pyplot as plt\n",
    "\n",
    "plt.plot(history.history['accuracy'], label='accuracy')\n",
    "plt.plot(history.history['loss'], label='loss')\n",
    "plt.legend()\n",
    "plt.show()"
   ]
  },
  {
   "cell_type": "code",
   "execution_count": null,
   "metadata": {},
   "outputs": [
    {
     "data": {
      "image/png": "[encoded data removed]",
      "text/plain": [
       "<Figure size 640x480 with 1 Axes>"
      ]
     },
     "metadata": {},
     "output_type": "display_data"
    }
   ],
   "source": [
    "# plot the history metrics\n",
    "import matplotlib.pyplot as plt\n",
    "\n",
    "plt.plot(history.history['val_accuracy'], label='val_accuracy')\n",
    "plt.plot(history.history['val_loss'], label='val_loss')\n",
    "plt.legend()\n",
    "plt.show()"
   ]
  },
  {
   "cell_type": "code",
   "execution_count": null,
   "metadata": {},
   "outputs": [],
   "source": []
  }
 ],
 "metadata": {
  "kernelspec": {
   "display_name": "ywl",
   "language": "python",
   "name": "python3"
  },
  "language_info": {
   "codemirror_mode": {
    "name": "ipython",
    "version": 3
   },
   "file_extension": ".py",
   "mimetype": "text/x-python",
   "name": "python",
   "nbconvert_exporter": "python",
   "pygments_lexer": "ipython3",
   "version": "3.10.6"
  },
  "orig_nbformat": 4
 },
 "nbformat": 4,
 "nbformat_minor": 2
}
