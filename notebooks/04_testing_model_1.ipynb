{
 "cells": [
  {
   "cell_type": "code",
   "execution_count": 1,
   "metadata": {},
   "outputs": [
    {
     "name": "stderr",
     "output_type": "stream",
     "text": [
      "2023-06-08 12:20:08.192759: I tensorflow/core/platform/cpu_feature_guard.cc:193] This TensorFlow binary is optimized with oneAPI Deep Neural Network Library (oneDNN) to use the following CPU instructions in performance-critical operations:  AVX2 FMA\n",
      "To enable them in other operations, rebuild TensorFlow with the appropriate compiler flags.\n"
     ]
    },
    {
     "ename": "KeyboardInterrupt",
     "evalue": "",
     "output_type": "error",
     "traceback": [
      "\u001b[0;31m---------------------------------------------------------------------------\u001b[0m",
      "\u001b[0;31mKeyboardInterrupt\u001b[0m                         Traceback (most recent call last)",
      "Cell \u001b[0;32mIn[1], line 14\u001b[0m\n\u001b[1;32m     11\u001b[0m config \u001b[39m=\u001b[39m Config()\n\u001b[1;32m     13\u001b[0m \u001b[39m# import utils functions\u001b[39;00m\n\u001b[0;32m---> 14\u001b[0m \u001b[39mfrom\u001b[39;00m \u001b[39msrc\u001b[39;00m\u001b[39m.\u001b[39;00m\u001b[39mpipelines\u001b[39;00m\u001b[39m.\u001b[39;00m\u001b[39mpreprocessor\u001b[39;00m \u001b[39mimport\u001b[39;00m Preprocessor\n\u001b[1;32m     15\u001b[0m \u001b[39mfrom\u001b[39;00m \u001b[39msrc\u001b[39;00m\u001b[39m.\u001b[39;00m\u001b[39mpipelines\u001b[39;00m\u001b[39m.\u001b[39;00m\u001b[39mmodels\u001b[39;00m \u001b[39mimport\u001b[39;00m Models\n\u001b[1;32m     16\u001b[0m \u001b[39mfrom\u001b[39;00m \u001b[39msrc\u001b[39;00m\u001b[39m.\u001b[39;00m\u001b[39mpipelines\u001b[39;00m\u001b[39m.\u001b[39;00m\u001b[39mpreproc\u001b[39;00m\u001b[39m.\u001b[39;00m\u001b[39mpipeline_01\u001b[39;00m \u001b[39mimport\u001b[39;00m build_preprocessor_pipeline_01\n",
      "File \u001b[0;32m~/code/Nico404/ywl/src/pipelines/preprocessor.py:2\u001b[0m\n\u001b[1;32m      1\u001b[0m \u001b[39mimport\u001b[39;00m \u001b[39mpandas\u001b[39;00m \u001b[39mas\u001b[39;00m \u001b[39mpd\u001b[39;00m\n\u001b[0;32m----> 2\u001b[0m \u001b[39mfrom\u001b[39;00m \u001b[39mkeras\u001b[39;00m\u001b[39m.\u001b[39;00m\u001b[39mutils\u001b[39;00m \u001b[39mimport\u001b[39;00m to_categorical\n\u001b[1;32m      3\u001b[0m \u001b[39mfrom\u001b[39;00m \u001b[39msklearn\u001b[39;00m\u001b[39m.\u001b[39;00m\u001b[39mpreprocessing\u001b[39;00m \u001b[39mimport\u001b[39;00m LabelEncoder\n\u001b[1;32m      4\u001b[0m \u001b[39mfrom\u001b[39;00m \u001b[39msrc\u001b[39;00m\u001b[39m.\u001b[39;00m\u001b[39mutils\u001b[39;00m\u001b[39m.\u001b[39;00m\u001b[39mcleaning\u001b[39;00m \u001b[39mimport\u001b[39;00m body, body_cleaning, strip_html\n",
      "File \u001b[0;32m~/.pyenv/versions/3.10.6/envs/ywl/lib/python3.10/site-packages/keras/__init__.py:20\u001b[0m\n\u001b[1;32m      1\u001b[0m \u001b[39m# Copyright 2015 The TensorFlow Authors. All Rights Reserved.\u001b[39;00m\n\u001b[1;32m      2\u001b[0m \u001b[39m#\u001b[39;00m\n\u001b[1;32m      3\u001b[0m \u001b[39m# Licensed under the Apache License, Version 2.0 (the \"License\");\u001b[39;00m\n\u001b[0;32m   (...)\u001b[0m\n\u001b[1;32m     13\u001b[0m \u001b[39m# limitations under the License.\u001b[39;00m\n\u001b[1;32m     14\u001b[0m \u001b[39m# ==============================================================================\u001b[39;00m\n\u001b[1;32m     15\u001b[0m \u001b[39m\"\"\"Implementation of the Keras API, the high-level API of TensorFlow.\u001b[39;00m\n\u001b[1;32m     16\u001b[0m \n\u001b[1;32m     17\u001b[0m \u001b[39mDetailed documentation and user guides are available at\u001b[39;00m\n\u001b[1;32m     18\u001b[0m \u001b[39m[keras.io](https://keras.io).\u001b[39;00m\n\u001b[1;32m     19\u001b[0m \u001b[39m\"\"\"\u001b[39;00m\n\u001b[0;32m---> 20\u001b[0m \u001b[39mfrom\u001b[39;00m \u001b[39mkeras\u001b[39;00m \u001b[39mimport\u001b[39;00m distribute\n\u001b[1;32m     21\u001b[0m \u001b[39mfrom\u001b[39;00m \u001b[39mkeras\u001b[39;00m \u001b[39mimport\u001b[39;00m models\n\u001b[1;32m     22\u001b[0m \u001b[39mfrom\u001b[39;00m \u001b[39mkeras\u001b[39;00m\u001b[39m.\u001b[39;00m\u001b[39mengine\u001b[39;00m\u001b[39m.\u001b[39;00m\u001b[39minput_layer\u001b[39;00m \u001b[39mimport\u001b[39;00m Input\n",
      "File \u001b[0;32m~/.pyenv/versions/3.10.6/envs/ywl/lib/python3.10/site-packages/keras/distribute/__init__.py:18\u001b[0m\n\u001b[1;32m      1\u001b[0m \u001b[39m# Copyright 2019 The TensorFlow Authors. All Rights Reserved.\u001b[39;00m\n\u001b[1;32m      2\u001b[0m \u001b[39m#\u001b[39;00m\n\u001b[1;32m      3\u001b[0m \u001b[39m# Licensed under the Apache License, Version 2.0 (the \"License\");\u001b[39;00m\n\u001b[0;32m   (...)\u001b[0m\n\u001b[1;32m     13\u001b[0m \u001b[39m# limitations under the License.\u001b[39;00m\n\u001b[1;32m     14\u001b[0m \u001b[39m# ==============================================================================\u001b[39;00m\n\u001b[1;32m     15\u001b[0m \u001b[39m\"\"\"Keras' Distribution Strategy library.\"\"\"\u001b[39;00m\n\u001b[0;32m---> 18\u001b[0m \u001b[39mfrom\u001b[39;00m \u001b[39mkeras\u001b[39;00m\u001b[39m.\u001b[39;00m\u001b[39mdistribute\u001b[39;00m \u001b[39mimport\u001b[39;00m sidecar_evaluator\n",
      "File \u001b[0;32m~/.pyenv/versions/3.10.6/envs/ywl/lib/python3.10/site-packages/keras/distribute/sidecar_evaluator.py:22\u001b[0m\n\u001b[1;32m     20\u001b[0m \u001b[39mfrom\u001b[39;00m \u001b[39mtensorflow\u001b[39;00m\u001b[39m.\u001b[39;00m\u001b[39mpython\u001b[39;00m\u001b[39m.\u001b[39;00m\u001b[39mplatform\u001b[39;00m \u001b[39mimport\u001b[39;00m tf_logging \u001b[39mas\u001b[39;00m logging\n\u001b[1;32m     21\u001b[0m \u001b[39mfrom\u001b[39;00m \u001b[39mtensorflow\u001b[39;00m\u001b[39m.\u001b[39;00m\u001b[39mpython\u001b[39;00m\u001b[39m.\u001b[39;00m\u001b[39mutil\u001b[39;00m \u001b[39mimport\u001b[39;00m deprecation\n\u001b[0;32m---> 22\u001b[0m \u001b[39mfrom\u001b[39;00m \u001b[39mkeras\u001b[39;00m\u001b[39m.\u001b[39;00m\u001b[39moptimizers\u001b[39;00m\u001b[39m.\u001b[39;00m\u001b[39moptimizer_experimental\u001b[39;00m \u001b[39mimport\u001b[39;00m (\n\u001b[1;32m     23\u001b[0m     optimizer \u001b[39mas\u001b[39;00m optimizer_experimental,\n\u001b[1;32m     24\u001b[0m )\n\u001b[1;32m     25\u001b[0m \u001b[39mfrom\u001b[39;00m \u001b[39mtensorflow\u001b[39;00m\u001b[39m.\u001b[39;00m\u001b[39mpython\u001b[39;00m\u001b[39m.\u001b[39;00m\u001b[39mutil\u001b[39;00m\u001b[39m.\u001b[39;00m\u001b[39mtf_export\u001b[39;00m \u001b[39mimport\u001b[39;00m keras_export\n\u001b[1;32m     27\u001b[0m _PRINT_EVAL_STEP_EVERY_SEC \u001b[39m=\u001b[39m \u001b[39m60.0\u001b[39m\n",
      "File \u001b[0;32m~/.pyenv/versions/3.10.6/envs/ywl/lib/python3.10/site-packages/keras/optimizers/__init__.py:25\u001b[0m\n\u001b[1;32m     22\u001b[0m \u001b[39mimport\u001b[39;00m \u001b[39mtensorflow\u001b[39;00m\u001b[39m.\u001b[39;00m\u001b[39mcompat\u001b[39;00m\u001b[39m.\u001b[39;00m\u001b[39mv2\u001b[39;00m \u001b[39mas\u001b[39;00m \u001b[39mtf\u001b[39;00m\n\u001b[1;32m     24\u001b[0m \u001b[39m# Imports needed for deserialization.\u001b[39;00m\n\u001b[0;32m---> 25\u001b[0m \u001b[39mfrom\u001b[39;00m \u001b[39mkeras\u001b[39;00m \u001b[39mimport\u001b[39;00m backend\n\u001b[1;32m     26\u001b[0m \u001b[39mfrom\u001b[39;00m \u001b[39mkeras\u001b[39;00m\u001b[39m.\u001b[39;00m\u001b[39moptimizers\u001b[39;00m\u001b[39m.\u001b[39;00m\u001b[39mlegacy\u001b[39;00m \u001b[39mimport\u001b[39;00m adadelta \u001b[39mas\u001b[39;00m adadelta_legacy\n\u001b[1;32m     27\u001b[0m \u001b[39mfrom\u001b[39;00m \u001b[39mkeras\u001b[39;00m\u001b[39m.\u001b[39;00m\u001b[39moptimizers\u001b[39;00m\u001b[39m.\u001b[39;00m\u001b[39mlegacy\u001b[39;00m \u001b[39mimport\u001b[39;00m adagrad \u001b[39mas\u001b[39;00m adagrad_legacy\n",
      "File \u001b[0;32m~/.pyenv/versions/3.10.6/envs/ywl/lib/python3.10/site-packages/keras/backend.py:4339\u001b[0m\n\u001b[1;32m   4332\u001b[0m get_value\u001b[39m.\u001b[39m\u001b[39m__doc__\u001b[39m \u001b[39m=\u001b[39m get_value\u001b[39m.\u001b[39m\u001b[39m__doc__\u001b[39m\u001b[39m.\u001b[39mformat(snippet\u001b[39m=\u001b[39m_VALUE_SET_CODE_STRING)\n\u001b[1;32m   4333\u001b[0m set_value\u001b[39m.\u001b[39m\u001b[39m__doc__\u001b[39m \u001b[39m=\u001b[39m set_value\u001b[39m.\u001b[39m\u001b[39m__doc__\u001b[39m\u001b[39m.\u001b[39mformat(snippet\u001b[39m=\u001b[39m_VALUE_SET_CODE_STRING)\n\u001b[1;32m   4336\u001b[0m \u001b[39m@keras_export\u001b[39;49m(\u001b[39m\"\u001b[39;49m\u001b[39mkeras.backend.print_tensor\u001b[39;49m\u001b[39m\"\u001b[39;49m)\n\u001b[1;32m   4337\u001b[0m \u001b[39m@tf\u001b[39;49m\u001b[39m.\u001b[39;49m__internal__\u001b[39m.\u001b[39;49mdispatch\u001b[39m.\u001b[39;49madd_dispatch_support\n\u001b[1;32m   4338\u001b[0m \u001b[39m@doc_controls\u001b[39;49m\u001b[39m.\u001b[39;49mdo_not_generate_docs\n\u001b[0;32m-> 4339\u001b[0m \u001b[39mdef\u001b[39;49;00m \u001b[39mprint_tensor\u001b[39;49m(x, message\u001b[39m=\u001b[39;49m\u001b[39m\"\u001b[39;49m\u001b[39m\"\u001b[39;49m, summarize\u001b[39m=\u001b[39;49m\u001b[39m3\u001b[39;49m):\n\u001b[1;32m   4340\u001b[0m \u001b[39m    \u001b[39;49m\u001b[39m\"\"\"Prints `message` and the tensor value when evaluated.\u001b[39;49;00m\n\u001b[1;32m   4341\u001b[0m \n\u001b[1;32m   4342\u001b[0m \u001b[39m    Note that `print_tensor` returns a new tensor identical to `x`\u001b[39;49;00m\n\u001b[0;32m   (...)\u001b[0m\n\u001b[1;32m   4363\u001b[0m \u001b[39m        The same tensor `x`, unchanged.\u001b[39;49;00m\n\u001b[1;32m   4364\u001b[0m \u001b[39m    \"\"\"\u001b[39;49;00m\n\u001b[1;32m   4365\u001b[0m     \u001b[39mif\u001b[39;49;00m \u001b[39misinstance\u001b[39;49m(x, tf\u001b[39m.\u001b[39;49mTensor) \u001b[39mand\u001b[39;49;00m \u001b[39mhasattr\u001b[39;49m(x, \u001b[39m\"\u001b[39;49m\u001b[39mgraph\u001b[39;49m\u001b[39m\"\u001b[39;49m):\n",
      "File \u001b[0;32m~/.pyenv/versions/3.10.6/envs/ywl/lib/python3.10/site-packages/tensorflow/python/util/dispatch.py:1197\u001b[0m, in \u001b[0;36madd_dispatch_support\u001b[0;34m(target, iterable_parameters)\u001b[0m\n\u001b[1;32m   1195\u001b[0m   \u001b[39mreturn\u001b[39;00m decorator\n\u001b[1;32m   1196\u001b[0m \u001b[39melse\u001b[39;00m:\n\u001b[0;32m-> 1197\u001b[0m   \u001b[39mreturn\u001b[39;00m decorator(target)\n",
      "File \u001b[0;32m~/.pyenv/versions/3.10.6/envs/ywl/lib/python3.10/site-packages/tensorflow/python/util/dispatch.py:1189\u001b[0m, in \u001b[0;36madd_dispatch_support.<locals>.decorator\u001b[0;34m(dispatch_target)\u001b[0m\n\u001b[1;32m   1186\u001b[0m add_fallback_dispatch_list(op_dispatch_handler)\n\u001b[1;32m   1187\u001b[0m op_dispatch_handler \u001b[39m=\u001b[39m tf_decorator\u001b[39m.\u001b[39mmake_decorator(dispatch_target,\n\u001b[1;32m   1188\u001b[0m                                                   op_dispatch_handler)\n\u001b[0;32m-> 1189\u001b[0m add_type_based_api_dispatcher(op_dispatch_handler)\n\u001b[1;32m   1190\u001b[0m api_dispatcher \u001b[39m=\u001b[39m \u001b[39mgetattr\u001b[39m(op_dispatch_handler, TYPE_BASED_DISPATCH_ATTR,\n\u001b[1;32m   1191\u001b[0m                          \u001b[39mNone\u001b[39;00m)\n\u001b[1;32m   1192\u001b[0m \u001b[39mreturn\u001b[39;00m op_dispatch_handler\n",
      "File \u001b[0;32m~/.pyenv/versions/3.10.6/envs/ywl/lib/python3.10/site-packages/tensorflow/python/util/dispatch.py:562\u001b[0m, in \u001b[0;36madd_type_based_api_dispatcher\u001b[0;34m(target)\u001b[0m\n\u001b[1;32m    554\u001b[0m \u001b[39mif\u001b[39;00m target_argspec\u001b[39m.\u001b[39mvarargs \u001b[39mor\u001b[39;00m target_argspec\u001b[39m.\u001b[39mkeywords:\n\u001b[1;32m    555\u001b[0m   \u001b[39m# @TODO(b/194903203) Add v2 dispatch support for APIs that take varargs\u001b[39;00m\n\u001b[1;32m    556\u001b[0m   \u001b[39m# and keywords.  Examples of APIs that take varargs and kwargs: meshgrid,\u001b[39;00m\n\u001b[1;32m    557\u001b[0m   \u001b[39m# einsum, map_values, map_flat_values.\u001b[39;00m\n\u001b[1;32m    558\u001b[0m   \u001b[39mreturn\u001b[39;00m target\n\u001b[1;32m    560\u001b[0m \u001b[39msetattr\u001b[39m(\n\u001b[1;32m    561\u001b[0m     target, TYPE_BASED_DISPATCH_ATTR,\n\u001b[0;32m--> 562\u001b[0m     _api_dispatcher\u001b[39m.\u001b[39;49mPythonAPIDispatcher(unwrapped\u001b[39m.\u001b[39;49m\u001b[39m__name__\u001b[39;49m,\n\u001b[1;32m    563\u001b[0m                                         target_argspec\u001b[39m.\u001b[39;49margs,\n\u001b[1;32m    564\u001b[0m                                         target_argspec\u001b[39m.\u001b[39;49mdefaults))\n\u001b[1;32m    565\u001b[0m _TYPE_BASED_DISPATCH_SIGNATURES[target] \u001b[39m=\u001b[39m collections\u001b[39m.\u001b[39mdefaultdict(\u001b[39mlist\u001b[39m)\n\u001b[1;32m    566\u001b[0m \u001b[39mreturn\u001b[39;00m target\n",
      "\u001b[0;31mKeyboardInterrupt\u001b[0m: "
     ]
    }
   ],
   "source": [
    "%load_ext autoreload \n",
    "%autoreload 2\n",
    "\n",
    "# imports and setup\n",
    "import pandas as pd\n",
    "import os \n",
    "\n",
    "# import and instanciate config file to get access to paths\n",
    "os.chdir(os.path.dirname(os.getcwd()))\n",
    "from config.config import Config\n",
    "config = Config()\n",
    "\n",
    "# import utils functions\n",
    "from src.pipelines.preprocessor import Preprocessor\n",
    "from src.pipelines.models import Models\n",
    "from sklearn import set_config; set_config(display='diagram')"
   ]
  },
  {
   "cell_type": "code",
   "execution_count": null,
   "metadata": {},
   "outputs": [],
   "source": [
    "from src.pipelines.preproc.pipeline_04 import build_preprocessor_pipeline_04\n",
    "preprocessor = Preprocessor()\n",
    "model = Models()\n",
    "pipeline = build_preprocessor_pipeline_04()"
   ]
  },
  {
   "cell_type": "code",
   "execution_count": null,
   "metadata": {},
   "outputs": [],
   "source": []
  }
 ],
 "metadata": {
  "kernelspec": {
   "display_name": "ywl",
   "language": "python",
   "name": "python3"
  },
  "language_info": {
   "codemirror_mode": {
    "name": "ipython",
    "version": 3
   },
   "file_extension": ".py",
   "mimetype": "text/x-python",
   "name": "python",
   "nbconvert_exporter": "python",
   "pygments_lexer": "ipython3",
   "version": "3.10.6"
  },
  "orig_nbformat": 4
 },
 "nbformat": 4,
 "nbformat_minor": 2
}
