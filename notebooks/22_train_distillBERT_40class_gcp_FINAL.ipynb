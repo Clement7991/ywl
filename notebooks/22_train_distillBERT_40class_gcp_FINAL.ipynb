{
  "cells": [
    {
      "cell_type": "code",
      "execution_count": 52,
      "metadata": {
        "colab": {
          "base_uri": "https://localhost:8080/"
        },
        "id": "oA-tl9uW9l6a",
        "outputId": "73e0dbc5-c25c-4cb8-c339-02f6cffffdf2"
      },
      "outputs": [
        {
          "output_type": "stream",
          "name": "stdout",
          "text": [
            "Looking in indexes: https://pypi.org/simple, https://us-python.pkg.dev/colab-wheels/public/simple/\n",
            "Requirement already satisfied: seaborn in /usr/local/lib/python3.10/dist-packages (0.12.2)\n",
            "Requirement already satisfied: matplotlib in /usr/local/lib/python3.10/dist-packages (3.7.1)\n",
            "Requirement already satisfied: numpy!=1.24.0,>=1.17 in /usr/local/lib/python3.10/dist-packages (from seaborn) (1.22.4)\n",
            "Requirement already satisfied: pandas>=0.25 in /usr/local/lib/python3.10/dist-packages (from seaborn) (1.5.3)\n",
            "Requirement already satisfied: contourpy>=1.0.1 in /usr/local/lib/python3.10/dist-packages (from matplotlib) (1.0.7)\n",
            "Requirement already satisfied: cycler>=0.10 in /usr/local/lib/python3.10/dist-packages (from matplotlib) (0.11.0)\n",
            "Requirement already satisfied: fonttools>=4.22.0 in /usr/local/lib/python3.10/dist-packages (from matplotlib) (4.39.3)\n",
            "Requirement already satisfied: kiwisolver>=1.0.1 in /usr/local/lib/python3.10/dist-packages (from matplotlib) (1.4.4)\n",
            "Requirement already satisfied: packaging>=20.0 in /usr/local/lib/python3.10/dist-packages (from matplotlib) (23.1)\n",
            "Requirement already satisfied: pillow>=6.2.0 in /usr/local/lib/python3.10/dist-packages (from matplotlib) (8.4.0)\n",
            "Requirement already satisfied: pyparsing>=2.3.1 in /usr/local/lib/python3.10/dist-packages (from matplotlib) (3.0.9)\n",
            "Requirement already satisfied: python-dateutil>=2.7 in /usr/local/lib/python3.10/dist-packages (from matplotlib) (2.8.2)\n",
            "Requirement already satisfied: pytz>=2020.1 in /usr/local/lib/python3.10/dist-packages (from pandas>=0.25->seaborn) (2022.7.1)\n",
            "Requirement already satisfied: six>=1.5 in /usr/local/lib/python3.10/dist-packages (from python-dateutil>=2.7->matplotlib) (1.16.0)\n"
          ]
        }
      ],
      "source": [
        "!pip install seaborn matplotlib"
      ]
    },
    {
      "cell_type": "code",
      "execution_count": 53,
      "metadata": {
        "colab": {
          "base_uri": "https://localhost:8080/"
        },
        "id": "Xda0bk3c9l6b",
        "outputId": "f875589d-6664-43ea-be61-7aefa315a70a"
      },
      "outputs": [
        {
          "output_type": "stream",
          "name": "stdout",
          "text": [
            "Looking in indexes: https://pypi.org/simple, https://us-python.pkg.dev/colab-wheels/public/simple/\n",
            "Requirement already satisfied: transformers in /usr/local/lib/python3.10/dist-packages (4.30.1)\n",
            "Requirement already satisfied: datasets in /usr/local/lib/python3.10/dist-packages (2.12.0)\n",
            "Requirement already satisfied: evaluate in /usr/local/lib/python3.10/dist-packages (0.4.0)\n",
            "Requirement already satisfied: filelock in /usr/local/lib/python3.10/dist-packages (from transformers) (3.12.0)\n",
            "Requirement already satisfied: huggingface-hub<1.0,>=0.14.1 in /usr/local/lib/python3.10/dist-packages (from transformers) (0.15.1)\n",
            "Requirement already satisfied: numpy>=1.17 in /usr/local/lib/python3.10/dist-packages (from transformers) (1.22.4)\n",
            "Requirement already satisfied: packaging>=20.0 in /usr/local/lib/python3.10/dist-packages (from transformers) (23.1)\n",
            "Requirement already satisfied: pyyaml>=5.1 in /usr/local/lib/python3.10/dist-packages (from transformers) (6.0)\n",
            "Requirement already satisfied: regex!=2019.12.17 in /usr/local/lib/python3.10/dist-packages (from transformers) (2022.10.31)\n",
            "Requirement already satisfied: requests in /usr/local/lib/python3.10/dist-packages (from transformers) (2.27.1)\n",
            "Requirement already satisfied: tokenizers!=0.11.3,<0.14,>=0.11.1 in /usr/local/lib/python3.10/dist-packages (from transformers) (0.13.3)\n",
            "Requirement already satisfied: safetensors>=0.3.1 in /usr/local/lib/python3.10/dist-packages (from transformers) (0.3.1)\n",
            "Requirement already satisfied: tqdm>=4.27 in /usr/local/lib/python3.10/dist-packages (from transformers) (4.65.0)\n",
            "Requirement already satisfied: pyarrow>=8.0.0 in /usr/local/lib/python3.10/dist-packages (from datasets) (9.0.0)\n",
            "Requirement already satisfied: dill<0.3.7,>=0.3.0 in /usr/local/lib/python3.10/dist-packages (from datasets) (0.3.6)\n",
            "Requirement already satisfied: pandas in /usr/local/lib/python3.10/dist-packages (from datasets) (1.5.3)\n",
            "Requirement already satisfied: xxhash in /usr/local/lib/python3.10/dist-packages (from datasets) (3.2.0)\n",
            "Requirement already satisfied: multiprocess in /usr/local/lib/python3.10/dist-packages (from datasets) (0.70.14)\n",
            "Requirement already satisfied: fsspec[http]>=2021.11.1 in /usr/local/lib/python3.10/dist-packages (from datasets) (2023.4.0)\n",
            "Requirement already satisfied: aiohttp in /usr/local/lib/python3.10/dist-packages (from datasets) (3.8.4)\n",
            "Requirement already satisfied: responses<0.19 in /usr/local/lib/python3.10/dist-packages (from datasets) (0.18.0)\n",
            "Requirement already satisfied: attrs>=17.3.0 in /usr/local/lib/python3.10/dist-packages (from aiohttp->datasets) (23.1.0)\n",
            "Requirement already satisfied: charset-normalizer<4.0,>=2.0 in /usr/local/lib/python3.10/dist-packages (from aiohttp->datasets) (2.0.12)\n",
            "Requirement already satisfied: multidict<7.0,>=4.5 in /usr/local/lib/python3.10/dist-packages (from aiohttp->datasets) (6.0.4)\n",
            "Requirement already satisfied: async-timeout<5.0,>=4.0.0a3 in /usr/local/lib/python3.10/dist-packages (from aiohttp->datasets) (4.0.2)\n",
            "Requirement already satisfied: yarl<2.0,>=1.0 in /usr/local/lib/python3.10/dist-packages (from aiohttp->datasets) (1.9.2)\n",
            "Requirement already satisfied: frozenlist>=1.1.1 in /usr/local/lib/python3.10/dist-packages (from aiohttp->datasets) (1.3.3)\n",
            "Requirement already satisfied: aiosignal>=1.1.2 in /usr/local/lib/python3.10/dist-packages (from aiohttp->datasets) (1.3.1)\n",
            "Requirement already satisfied: typing-extensions>=3.7.4.3 in /usr/local/lib/python3.10/dist-packages (from huggingface-hub<1.0,>=0.14.1->transformers) (4.5.0)\n",
            "Requirement already satisfied: urllib3<1.27,>=1.21.1 in /usr/local/lib/python3.10/dist-packages (from requests->transformers) (1.26.15)\n",
            "Requirement already satisfied: certifi>=2017.4.17 in /usr/local/lib/python3.10/dist-packages (from requests->transformers) (2022.12.7)\n",
            "Requirement already satisfied: idna<4,>=2.5 in /usr/local/lib/python3.10/dist-packages (from requests->transformers) (3.4)\n",
            "Requirement already satisfied: python-dateutil>=2.8.1 in /usr/local/lib/python3.10/dist-packages (from pandas->datasets) (2.8.2)\n",
            "Requirement already satisfied: pytz>=2020.1 in /usr/local/lib/python3.10/dist-packages (from pandas->datasets) (2022.7.1)\n",
            "Requirement already satisfied: six>=1.5 in /usr/local/lib/python3.10/dist-packages (from python-dateutil>=2.8.1->pandas->datasets) (1.16.0)\n"
          ]
        }
      ],
      "source": [
        "!pip install transformers datasets evaluate"
      ]
    },
    {
      "cell_type": "code",
      "execution_count": 54,
      "metadata": {
        "id": "2Q2v2QRN9l6c"
      },
      "outputs": [],
      "source": [
        "import numpy as np\n",
        "import pandas as pd\n",
        "import matplotlib.pyplot as plt\n",
        "import seaborn as sns\n",
        "import re\n",
        "import os\n",
        "\n",
        "from transformers import TFAutoModelForSequenceClassification"
      ]
    },
    {
      "cell_type": "code",
      "source": [
        "from google.colab import drive\n",
        "drive.mount('/content/drive')"
      ],
      "metadata": {
        "colab": {
          "base_uri": "https://localhost:8080/"
        },
        "id": "E6YqaT3J_LdL",
        "outputId": "ed803d7c-1513-4349-fe25-cb871acb4c9b"
      },
      "execution_count": 55,
      "outputs": [
        {
          "output_type": "stream",
          "name": "stdout",
          "text": [
            "Drive already mounted at /content/drive; to attempt to forcibly remount, call drive.mount(\"/content/drive\", force_remount=True).\n"
          ]
        }
      ]
    },
    {
      "cell_type": "code",
      "source": [
        "import sys\n",
        "import csv\n",
        "maxInt = sys.maxsize\n",
        "\n",
        "while True:\n",
        "    # decrease the maxInt value by factor 10\n",
        "    # as long as the OverflowError occurs.\n",
        "\n",
        "    try:\n",
        "        csv.field_size_limit(maxInt)\n",
        "        break\n",
        "    except OverflowError:\n",
        "        maxInt = int(maxInt/10)"
      ],
      "metadata": {
        "id": "Nvn0FkIGCJdk"
      },
      "execution_count": 56,
      "outputs": []
    },
    {
      "cell_type": "code",
      "execution_count": 57,
      "metadata": {
        "colab": {
          "base_uri": "https://localhost:8080/",
          "height": 419
        },
        "id": "gog2VVOc9l6c",
        "outputId": "9c7ec705-48e9-44d9-8ca8-2b7fd1d9f2f6"
      },
      "outputs": [
        {
          "output_type": "execute_result",
          "data": {
            "text/plain": [
              "                    Author                                               Book\n",
              "0               Twain Mark  ﻿The Project Gutenberg EBook of Chapters from ...\n",
              "1              Ebers Georg  ﻿The Project Gutenberg EBook Margery, by Georg...\n",
              "2      Motley John Lothrop  ﻿The Project Gutenberg EBook The Life of John ...\n",
              "3    Warner Charles Dudley  ﻿The Project Gutenberg EBook of England, by Ch...\n",
              "4              Ebers Georg  ﻿The Project Gutenberg EBook In The Fire Of Th...\n",
              "..                     ...                                                ...\n",
              "959  Warner Charles Dudley  ﻿The Project Gutenberg EBook of As We Go, by C...\n",
              "960            Ebers Georg  ﻿The Project Gutenberg EBook A Word Only A Wor...\n",
              "961    Montaigne Michel de  ﻿The Project Gutenberg Etext of Quotations fro...\n",
              "962    Motley John Lothrop  ﻿The Project Gutenberg EBook of The Life of Jo...\n",
              "963   Shelley Percy Bysshe  ﻿Project Gutenberg's The Daemon of the World, ...\n",
              "\n",
              "[964 rows x 2 columns]"
            ],
            "text/html": [
              "\n",
              "  <div id=\"df-9cc98de9-1cec-4a65-b0fe-37c91dd65376\">\n",
              "    <div class=\"colab-df-container\">\n",
              "      <div>\n",
              "<style scoped>\n",
              "    .dataframe tbody tr th:only-of-type {\n",
              "        vertical-align: middle;\n",
              "    }\n",
              "\n",
              "    .dataframe tbody tr th {\n",
              "        vertical-align: top;\n",
              "    }\n",
              "\n",
              "    .dataframe thead th {\n",
              "        text-align: right;\n",
              "    }\n",
              "</style>\n",
              "<table border=\"1\" class=\"dataframe\">\n",
              "  <thead>\n",
              "    <tr style=\"text-align: right;\">\n",
              "      <th></th>\n",
              "      <th>Author</th>\n",
              "      <th>Book</th>\n",
              "    </tr>\n",
              "  </thead>\n",
              "  <tbody>\n",
              "    <tr>\n",
              "      <th>0</th>\n",
              "      <td>Twain Mark</td>\n",
              "      <td>﻿The Project Gutenberg EBook of Chapters from ...</td>\n",
              "    </tr>\n",
              "    <tr>\n",
              "      <th>1</th>\n",
              "      <td>Ebers Georg</td>\n",
              "      <td>﻿The Project Gutenberg EBook Margery, by Georg...</td>\n",
              "    </tr>\n",
              "    <tr>\n",
              "      <th>2</th>\n",
              "      <td>Motley John Lothrop</td>\n",
              "      <td>﻿The Project Gutenberg EBook The Life of John ...</td>\n",
              "    </tr>\n",
              "    <tr>\n",
              "      <th>3</th>\n",
              "      <td>Warner Charles Dudley</td>\n",
              "      <td>﻿The Project Gutenberg EBook of England, by Ch...</td>\n",
              "    </tr>\n",
              "    <tr>\n",
              "      <th>4</th>\n",
              "      <td>Ebers Georg</td>\n",
              "      <td>﻿The Project Gutenberg EBook In The Fire Of Th...</td>\n",
              "    </tr>\n",
              "    <tr>\n",
              "      <th>...</th>\n",
              "      <td>...</td>\n",
              "      <td>...</td>\n",
              "    </tr>\n",
              "    <tr>\n",
              "      <th>959</th>\n",
              "      <td>Warner Charles Dudley</td>\n",
              "      <td>﻿The Project Gutenberg EBook of As We Go, by C...</td>\n",
              "    </tr>\n",
              "    <tr>\n",
              "      <th>960</th>\n",
              "      <td>Ebers Georg</td>\n",
              "      <td>﻿The Project Gutenberg EBook A Word Only A Wor...</td>\n",
              "    </tr>\n",
              "    <tr>\n",
              "      <th>961</th>\n",
              "      <td>Montaigne Michel de</td>\n",
              "      <td>﻿The Project Gutenberg Etext of Quotations fro...</td>\n",
              "    </tr>\n",
              "    <tr>\n",
              "      <th>962</th>\n",
              "      <td>Motley John Lothrop</td>\n",
              "      <td>﻿The Project Gutenberg EBook of The Life of Jo...</td>\n",
              "    </tr>\n",
              "    <tr>\n",
              "      <th>963</th>\n",
              "      <td>Shelley Percy Bysshe</td>\n",
              "      <td>﻿Project Gutenberg's The Daemon of the World, ...</td>\n",
              "    </tr>\n",
              "  </tbody>\n",
              "</table>\n",
              "<p>964 rows × 2 columns</p>\n",
              "</div>\n",
              "      <button class=\"colab-df-convert\" onclick=\"convertToInteractive('df-9cc98de9-1cec-4a65-b0fe-37c91dd65376')\"\n",
              "              title=\"Convert this dataframe to an interactive table.\"\n",
              "              style=\"display:none;\">\n",
              "        \n",
              "  <svg xmlns=\"http://www.w3.org/2000/svg\" height=\"24px\"viewBox=\"0 0 24 24\"\n",
              "       width=\"24px\">\n",
              "    <path d=\"M0 0h24v24H0V0z\" fill=\"none\"/>\n",
              "    <path d=\"M18.56 5.44l.94 2.06.94-2.06 2.06-.94-2.06-.94-.94-2.06-.94 2.06-2.06.94zm-11 1L8.5 8.5l.94-2.06 2.06-.94-2.06-.94L8.5 2.5l-.94 2.06-2.06.94zm10 10l.94 2.06.94-2.06 2.06-.94-2.06-.94-.94-2.06-.94 2.06-2.06.94z\"/><path d=\"M17.41 7.96l-1.37-1.37c-.4-.4-.92-.59-1.43-.59-.52 0-1.04.2-1.43.59L10.3 9.45l-7.72 7.72c-.78.78-.78 2.05 0 2.83L4 21.41c.39.39.9.59 1.41.59.51 0 1.02-.2 1.41-.59l7.78-7.78 2.81-2.81c.8-.78.8-2.07 0-2.86zM5.41 20L4 18.59l7.72-7.72 1.47 1.35L5.41 20z\"/>\n",
              "  </svg>\n",
              "      </button>\n",
              "      \n",
              "  <style>\n",
              "    .colab-df-container {\n",
              "      display:flex;\n",
              "      flex-wrap:wrap;\n",
              "      gap: 12px;\n",
              "    }\n",
              "\n",
              "    .colab-df-convert {\n",
              "      background-color: #E8F0FE;\n",
              "      border: none;\n",
              "      border-radius: 50%;\n",
              "      cursor: pointer;\n",
              "      display: none;\n",
              "      fill: #1967D2;\n",
              "      height: 32px;\n",
              "      padding: 0 0 0 0;\n",
              "      width: 32px;\n",
              "    }\n",
              "\n",
              "    .colab-df-convert:hover {\n",
              "      background-color: #E2EBFA;\n",
              "      box-shadow: 0px 1px 2px rgba(60, 64, 67, 0.3), 0px 1px 3px 1px rgba(60, 64, 67, 0.15);\n",
              "      fill: #174EA6;\n",
              "    }\n",
              "\n",
              "    [theme=dark] .colab-df-convert {\n",
              "      background-color: #3B4455;\n",
              "      fill: #D2E3FC;\n",
              "    }\n",
              "\n",
              "    [theme=dark] .colab-df-convert:hover {\n",
              "      background-color: #434B5C;\n",
              "      box-shadow: 0px 1px 3px 1px rgba(0, 0, 0, 0.15);\n",
              "      filter: drop-shadow(0px 1px 2px rgba(0, 0, 0, 0.3));\n",
              "      fill: #FFFFFF;\n",
              "    }\n",
              "  </style>\n",
              "\n",
              "      <script>\n",
              "        const buttonEl =\n",
              "          document.querySelector('#df-9cc98de9-1cec-4a65-b0fe-37c91dd65376 button.colab-df-convert');\n",
              "        buttonEl.style.display =\n",
              "          google.colab.kernel.accessAllowed ? 'block' : 'none';\n",
              "\n",
              "        async function convertToInteractive(key) {\n",
              "          const element = document.querySelector('#df-9cc98de9-1cec-4a65-b0fe-37c91dd65376');\n",
              "          const dataTable =\n",
              "            await google.colab.kernel.invokeFunction('convertToInteractive',\n",
              "                                                     [key], {});\n",
              "          if (!dataTable) return;\n",
              "\n",
              "          const docLinkHtml = 'Like what you see? Visit the ' +\n",
              "            '<a target=\"_blank\" href=https://colab.research.google.com/notebooks/data_table.ipynb>data table notebook</a>'\n",
              "            + ' to learn more about interactive tables.';\n",
              "          element.innerHTML = '';\n",
              "          dataTable['output_type'] = 'display_data';\n",
              "          await google.colab.output.renderOutput(dataTable, element);\n",
              "          const docLink = document.createElement('div');\n",
              "          docLink.innerHTML = docLinkHtml;\n",
              "          element.appendChild(docLink);\n",
              "        }\n",
              "      </script>\n",
              "    </div>\n",
              "  </div>\n",
              "  "
            ]
          },
          "metadata": {},
          "execution_count": 57
        }
      ],
      "source": [
        "df_init = pd.read_csv('/content/drive/MyDrive/Colab Notebooks/wagon/books_processed_top60.csv', engine=\"python\")\n",
        "df_init"
      ]
    },
    {
      "cell_type": "code",
      "execution_count": 58,
      "metadata": {
        "id": "s1c1hYOU9l6d",
        "colab": {
          "base_uri": "https://localhost:8080/",
          "height": 419
        },
        "outputId": "e553d0d8-5772-448a-9941-9821e8009017"
      },
      "outputs": [
        {
          "output_type": "execute_result",
          "data": {
            "text/plain": [
              "                    Author                                               Book\n",
              "0               Twain Mark  ﻿The Project Gutenberg EBook of Chapters from ...\n",
              "1              Ebers Georg  ﻿The Project Gutenberg EBook Margery, by Georg...\n",
              "2      Motley John Lothrop  ﻿The Project Gutenberg EBook The Life of John ...\n",
              "3    Warner Charles Dudley  ﻿The Project Gutenberg EBook of England, by Ch...\n",
              "4              Ebers Georg  ﻿The Project Gutenberg EBook In The Fire Of Th...\n",
              "..                     ...                                                ...\n",
              "959  Warner Charles Dudley  ﻿The Project Gutenberg EBook of As We Go, by C...\n",
              "960            Ebers Georg  ﻿The Project Gutenberg EBook A Word Only A Wor...\n",
              "961    Montaigne Michel de  ﻿The Project Gutenberg Etext of Quotations fro...\n",
              "962    Motley John Lothrop  ﻿The Project Gutenberg EBook of The Life of Jo...\n",
              "963   Shelley Percy Bysshe  ﻿Project Gutenberg's The Daemon of the World, ...\n",
              "\n",
              "[964 rows x 2 columns]"
            ],
            "text/html": [
              "\n",
              "  <div id=\"df-f3b71d80-202a-4883-b805-4562131224d3\">\n",
              "    <div class=\"colab-df-container\">\n",
              "      <div>\n",
              "<style scoped>\n",
              "    .dataframe tbody tr th:only-of-type {\n",
              "        vertical-align: middle;\n",
              "    }\n",
              "\n",
              "    .dataframe tbody tr th {\n",
              "        vertical-align: top;\n",
              "    }\n",
              "\n",
              "    .dataframe thead th {\n",
              "        text-align: right;\n",
              "    }\n",
              "</style>\n",
              "<table border=\"1\" class=\"dataframe\">\n",
              "  <thead>\n",
              "    <tr style=\"text-align: right;\">\n",
              "      <th></th>\n",
              "      <th>Author</th>\n",
              "      <th>Book</th>\n",
              "    </tr>\n",
              "  </thead>\n",
              "  <tbody>\n",
              "    <tr>\n",
              "      <th>0</th>\n",
              "      <td>Twain Mark</td>\n",
              "      <td>﻿The Project Gutenberg EBook of Chapters from ...</td>\n",
              "    </tr>\n",
              "    <tr>\n",
              "      <th>1</th>\n",
              "      <td>Ebers Georg</td>\n",
              "      <td>﻿The Project Gutenberg EBook Margery, by Georg...</td>\n",
              "    </tr>\n",
              "    <tr>\n",
              "      <th>2</th>\n",
              "      <td>Motley John Lothrop</td>\n",
              "      <td>﻿The Project Gutenberg EBook The Life of John ...</td>\n",
              "    </tr>\n",
              "    <tr>\n",
              "      <th>3</th>\n",
              "      <td>Warner Charles Dudley</td>\n",
              "      <td>﻿The Project Gutenberg EBook of England, by Ch...</td>\n",
              "    </tr>\n",
              "    <tr>\n",
              "      <th>4</th>\n",
              "      <td>Ebers Georg</td>\n",
              "      <td>﻿The Project Gutenberg EBook In The Fire Of Th...</td>\n",
              "    </tr>\n",
              "    <tr>\n",
              "      <th>...</th>\n",
              "      <td>...</td>\n",
              "      <td>...</td>\n",
              "    </tr>\n",
              "    <tr>\n",
              "      <th>959</th>\n",
              "      <td>Warner Charles Dudley</td>\n",
              "      <td>﻿The Project Gutenberg EBook of As We Go, by C...</td>\n",
              "    </tr>\n",
              "    <tr>\n",
              "      <th>960</th>\n",
              "      <td>Ebers Georg</td>\n",
              "      <td>﻿The Project Gutenberg EBook A Word Only A Wor...</td>\n",
              "    </tr>\n",
              "    <tr>\n",
              "      <th>961</th>\n",
              "      <td>Montaigne Michel de</td>\n",
              "      <td>﻿The Project Gutenberg Etext of Quotations fro...</td>\n",
              "    </tr>\n",
              "    <tr>\n",
              "      <th>962</th>\n",
              "      <td>Motley John Lothrop</td>\n",
              "      <td>﻿The Project Gutenberg EBook of The Life of Jo...</td>\n",
              "    </tr>\n",
              "    <tr>\n",
              "      <th>963</th>\n",
              "      <td>Shelley Percy Bysshe</td>\n",
              "      <td>﻿Project Gutenberg's The Daemon of the World, ...</td>\n",
              "    </tr>\n",
              "  </tbody>\n",
              "</table>\n",
              "<p>964 rows × 2 columns</p>\n",
              "</div>\n",
              "      <button class=\"colab-df-convert\" onclick=\"convertToInteractive('df-f3b71d80-202a-4883-b805-4562131224d3')\"\n",
              "              title=\"Convert this dataframe to an interactive table.\"\n",
              "              style=\"display:none;\">\n",
              "        \n",
              "  <svg xmlns=\"http://www.w3.org/2000/svg\" height=\"24px\"viewBox=\"0 0 24 24\"\n",
              "       width=\"24px\">\n",
              "    <path d=\"M0 0h24v24H0V0z\" fill=\"none\"/>\n",
              "    <path d=\"M18.56 5.44l.94 2.06.94-2.06 2.06-.94-2.06-.94-.94-2.06-.94 2.06-2.06.94zm-11 1L8.5 8.5l.94-2.06 2.06-.94-2.06-.94L8.5 2.5l-.94 2.06-2.06.94zm10 10l.94 2.06.94-2.06 2.06-.94-2.06-.94-.94-2.06-.94 2.06-2.06.94z\"/><path d=\"M17.41 7.96l-1.37-1.37c-.4-.4-.92-.59-1.43-.59-.52 0-1.04.2-1.43.59L10.3 9.45l-7.72 7.72c-.78.78-.78 2.05 0 2.83L4 21.41c.39.39.9.59 1.41.59.51 0 1.02-.2 1.41-.59l7.78-7.78 2.81-2.81c.8-.78.8-2.07 0-2.86zM5.41 20L4 18.59l7.72-7.72 1.47 1.35L5.41 20z\"/>\n",
              "  </svg>\n",
              "      </button>\n",
              "      \n",
              "  <style>\n",
              "    .colab-df-container {\n",
              "      display:flex;\n",
              "      flex-wrap:wrap;\n",
              "      gap: 12px;\n",
              "    }\n",
              "\n",
              "    .colab-df-convert {\n",
              "      background-color: #E8F0FE;\n",
              "      border: none;\n",
              "      border-radius: 50%;\n",
              "      cursor: pointer;\n",
              "      display: none;\n",
              "      fill: #1967D2;\n",
              "      height: 32px;\n",
              "      padding: 0 0 0 0;\n",
              "      width: 32px;\n",
              "    }\n",
              "\n",
              "    .colab-df-convert:hover {\n",
              "      background-color: #E2EBFA;\n",
              "      box-shadow: 0px 1px 2px rgba(60, 64, 67, 0.3), 0px 1px 3px 1px rgba(60, 64, 67, 0.15);\n",
              "      fill: #174EA6;\n",
              "    }\n",
              "\n",
              "    [theme=dark] .colab-df-convert {\n",
              "      background-color: #3B4455;\n",
              "      fill: #D2E3FC;\n",
              "    }\n",
              "\n",
              "    [theme=dark] .colab-df-convert:hover {\n",
              "      background-color: #434B5C;\n",
              "      box-shadow: 0px 1px 3px 1px rgba(0, 0, 0, 0.15);\n",
              "      filter: drop-shadow(0px 1px 2px rgba(0, 0, 0, 0.3));\n",
              "      fill: #FFFFFF;\n",
              "    }\n",
              "  </style>\n",
              "\n",
              "      <script>\n",
              "        const buttonEl =\n",
              "          document.querySelector('#df-f3b71d80-202a-4883-b805-4562131224d3 button.colab-df-convert');\n",
              "        buttonEl.style.display =\n",
              "          google.colab.kernel.accessAllowed ? 'block' : 'none';\n",
              "\n",
              "        async function convertToInteractive(key) {\n",
              "          const element = document.querySelector('#df-f3b71d80-202a-4883-b805-4562131224d3');\n",
              "          const dataTable =\n",
              "            await google.colab.kernel.invokeFunction('convertToInteractive',\n",
              "                                                     [key], {});\n",
              "          if (!dataTable) return;\n",
              "\n",
              "          const docLinkHtml = 'Like what you see? Visit the ' +\n",
              "            '<a target=\"_blank\" href=https://colab.research.google.com/notebooks/data_table.ipynb>data table notebook</a>'\n",
              "            + ' to learn more about interactive tables.';\n",
              "          element.innerHTML = '';\n",
              "          dataTable['output_type'] = 'display_data';\n",
              "          await google.colab.output.renderOutput(dataTable, element);\n",
              "          const docLink = document.createElement('div');\n",
              "          docLink.innerHTML = docLinkHtml;\n",
              "          element.appendChild(docLink);\n",
              "        }\n",
              "      </script>\n",
              "    </div>\n",
              "  </div>\n",
              "  "
            ]
          },
          "metadata": {},
          "execution_count": 58
        }
      ],
      "source": [
        "def strip_html(text):\n",
        "    clean = re.compile('<.*?>')\n",
        "    return re.sub(clean, '', text)\n",
        "def clean_special_chars(text):\n",
        "    clean = re.sub(r'[\\n\\r\\t]', '', text)\n",
        "    return clean\n",
        "df_init['Book'] = df_init['Book'].apply(strip_html)\n",
        "df_init['Book'] = df_init['Book'].apply(clean_special_chars)\n",
        "df_init"
      ]
    },
    {
      "cell_type": "code",
      "source": [
        "def chunkator(text, LEN=300):\n",
        "    txt = text.split()\n",
        "    chunks = [txt[i:i+LEN] for i in range(0, len(txt), LEN)]\n",
        "    # chunked_text = ' '.join([' '.join(chunk) for chunk in chunks])\n",
        "    return chunks"
      ],
      "metadata": {
        "id": "wUecArWcAZ53"
      },
      "execution_count": 59,
      "outputs": []
    },
    {
      "cell_type": "code",
      "execution_count": 60,
      "metadata": {
        "colab": {
          "base_uri": "https://localhost:8080/",
          "height": 419
        },
        "id": "6y802l0N9l6c",
        "outputId": "5c552c72-f0be-4fdf-a939-b37fcc3a3944"
      },
      "outputs": [
        {
          "output_type": "execute_result",
          "data": {
            "text/plain": [
              "                      Author  \\\n",
              "0                 Twain Mark   \n",
              "1                 Twain Mark   \n",
              "2                 Twain Mark   \n",
              "3                 Twain Mark   \n",
              "4                 Twain Mark   \n",
              "...                      ...   \n",
              "292655  Shelley Percy Bysshe   \n",
              "292656  Shelley Percy Bysshe   \n",
              "292657  Shelley Percy Bysshe   \n",
              "292658  Shelley Percy Bysshe   \n",
              "292659  Shelley Percy Bysshe   \n",
              "\n",
              "                                                     Book  \n",
              "0       [﻿The, Project, Gutenberg, EBook, of, Chapters...  \n",
              "1       [are, of, asort, which, he, is, familiar, with...  \n",
              "2       [at, any, time, during, its, existence, who, w...  \n",
              "3       [and, unchangingly, bitter, against, Charles,a...  \n",
              "4       [same, difficulty., In, fact, he, looked, dist...  \n",
              "...                                                   ...  \n",
              "292655  [refund, of, any, money, paid, by, a, user, wh...  \n",
              "292656  [work, under, this, agreement,, disclaim, alll...  \n",
              "292657  [invalidity, or, unenforceability, of, anyprov...  \n",
              "292658  [U.S., federal, laws, and, your, state's, laws...  \n",
              "292659  [card, donations.To, donate,, please, visit:, ...  \n",
              "\n",
              "[292660 rows x 2 columns]"
            ],
            "text/html": [
              "\n",
              "  <div id=\"df-ee397862-efba-438a-81b4-ceeffafda141\">\n",
              "    <div class=\"colab-df-container\">\n",
              "      <div>\n",
              "<style scoped>\n",
              "    .dataframe tbody tr th:only-of-type {\n",
              "        vertical-align: middle;\n",
              "    }\n",
              "\n",
              "    .dataframe tbody tr th {\n",
              "        vertical-align: top;\n",
              "    }\n",
              "\n",
              "    .dataframe thead th {\n",
              "        text-align: right;\n",
              "    }\n",
              "</style>\n",
              "<table border=\"1\" class=\"dataframe\">\n",
              "  <thead>\n",
              "    <tr style=\"text-align: right;\">\n",
              "      <th></th>\n",
              "      <th>Author</th>\n",
              "      <th>Book</th>\n",
              "    </tr>\n",
              "  </thead>\n",
              "  <tbody>\n",
              "    <tr>\n",
              "      <th>0</th>\n",
              "      <td>Twain Mark</td>\n",
              "      <td>[﻿The, Project, Gutenberg, EBook, of, Chapters...</td>\n",
              "    </tr>\n",
              "    <tr>\n",
              "      <th>1</th>\n",
              "      <td>Twain Mark</td>\n",
              "      <td>[are, of, asort, which, he, is, familiar, with...</td>\n",
              "    </tr>\n",
              "    <tr>\n",
              "      <th>2</th>\n",
              "      <td>Twain Mark</td>\n",
              "      <td>[at, any, time, during, its, existence, who, w...</td>\n",
              "    </tr>\n",
              "    <tr>\n",
              "      <th>3</th>\n",
              "      <td>Twain Mark</td>\n",
              "      <td>[and, unchangingly, bitter, against, Charles,a...</td>\n",
              "    </tr>\n",
              "    <tr>\n",
              "      <th>4</th>\n",
              "      <td>Twain Mark</td>\n",
              "      <td>[same, difficulty., In, fact, he, looked, dist...</td>\n",
              "    </tr>\n",
              "    <tr>\n",
              "      <th>...</th>\n",
              "      <td>...</td>\n",
              "      <td>...</td>\n",
              "    </tr>\n",
              "    <tr>\n",
              "      <th>292655</th>\n",
              "      <td>Shelley Percy Bysshe</td>\n",
              "      <td>[refund, of, any, money, paid, by, a, user, wh...</td>\n",
              "    </tr>\n",
              "    <tr>\n",
              "      <th>292656</th>\n",
              "      <td>Shelley Percy Bysshe</td>\n",
              "      <td>[work, under, this, agreement,, disclaim, alll...</td>\n",
              "    </tr>\n",
              "    <tr>\n",
              "      <th>292657</th>\n",
              "      <td>Shelley Percy Bysshe</td>\n",
              "      <td>[invalidity, or, unenforceability, of, anyprov...</td>\n",
              "    </tr>\n",
              "    <tr>\n",
              "      <th>292658</th>\n",
              "      <td>Shelley Percy Bysshe</td>\n",
              "      <td>[U.S., federal, laws, and, your, state's, laws...</td>\n",
              "    </tr>\n",
              "    <tr>\n",
              "      <th>292659</th>\n",
              "      <td>Shelley Percy Bysshe</td>\n",
              "      <td>[card, donations.To, donate,, please, visit:, ...</td>\n",
              "    </tr>\n",
              "  </tbody>\n",
              "</table>\n",
              "<p>292660 rows × 2 columns</p>\n",
              "</div>\n",
              "      <button class=\"colab-df-convert\" onclick=\"convertToInteractive('df-ee397862-efba-438a-81b4-ceeffafda141')\"\n",
              "              title=\"Convert this dataframe to an interactive table.\"\n",
              "              style=\"display:none;\">\n",
              "        \n",
              "  <svg xmlns=\"http://www.w3.org/2000/svg\" height=\"24px\"viewBox=\"0 0 24 24\"\n",
              "       width=\"24px\">\n",
              "    <path d=\"M0 0h24v24H0V0z\" fill=\"none\"/>\n",
              "    <path d=\"M18.56 5.44l.94 2.06.94-2.06 2.06-.94-2.06-.94-.94-2.06-.94 2.06-2.06.94zm-11 1L8.5 8.5l.94-2.06 2.06-.94-2.06-.94L8.5 2.5l-.94 2.06-2.06.94zm10 10l.94 2.06.94-2.06 2.06-.94-2.06-.94-.94-2.06-.94 2.06-2.06.94z\"/><path d=\"M17.41 7.96l-1.37-1.37c-.4-.4-.92-.59-1.43-.59-.52 0-1.04.2-1.43.59L10.3 9.45l-7.72 7.72c-.78.78-.78 2.05 0 2.83L4 21.41c.39.39.9.59 1.41.59.51 0 1.02-.2 1.41-.59l7.78-7.78 2.81-2.81c.8-.78.8-2.07 0-2.86zM5.41 20L4 18.59l7.72-7.72 1.47 1.35L5.41 20z\"/>\n",
              "  </svg>\n",
              "      </button>\n",
              "      \n",
              "  <style>\n",
              "    .colab-df-container {\n",
              "      display:flex;\n",
              "      flex-wrap:wrap;\n",
              "      gap: 12px;\n",
              "    }\n",
              "\n",
              "    .colab-df-convert {\n",
              "      background-color: #E8F0FE;\n",
              "      border: none;\n",
              "      border-radius: 50%;\n",
              "      cursor: pointer;\n",
              "      display: none;\n",
              "      fill: #1967D2;\n",
              "      height: 32px;\n",
              "      padding: 0 0 0 0;\n",
              "      width: 32px;\n",
              "    }\n",
              "\n",
              "    .colab-df-convert:hover {\n",
              "      background-color: #E2EBFA;\n",
              "      box-shadow: 0px 1px 2px rgba(60, 64, 67, 0.3), 0px 1px 3px 1px rgba(60, 64, 67, 0.15);\n",
              "      fill: #174EA6;\n",
              "    }\n",
              "\n",
              "    [theme=dark] .colab-df-convert {\n",
              "      background-color: #3B4455;\n",
              "      fill: #D2E3FC;\n",
              "    }\n",
              "\n",
              "    [theme=dark] .colab-df-convert:hover {\n",
              "      background-color: #434B5C;\n",
              "      box-shadow: 0px 1px 3px 1px rgba(0, 0, 0, 0.15);\n",
              "      filter: drop-shadow(0px 1px 2px rgba(0, 0, 0, 0.3));\n",
              "      fill: #FFFFFF;\n",
              "    }\n",
              "  </style>\n",
              "\n",
              "      <script>\n",
              "        const buttonEl =\n",
              "          document.querySelector('#df-ee397862-efba-438a-81b4-ceeffafda141 button.colab-df-convert');\n",
              "        buttonEl.style.display =\n",
              "          google.colab.kernel.accessAllowed ? 'block' : 'none';\n",
              "\n",
              "        async function convertToInteractive(key) {\n",
              "          const element = document.querySelector('#df-ee397862-efba-438a-81b4-ceeffafda141');\n",
              "          const dataTable =\n",
              "            await google.colab.kernel.invokeFunction('convertToInteractive',\n",
              "                                                     [key], {});\n",
              "          if (!dataTable) return;\n",
              "\n",
              "          const docLinkHtml = 'Like what you see? Visit the ' +\n",
              "            '<a target=\"_blank\" href=https://colab.research.google.com/notebooks/data_table.ipynb>data table notebook</a>'\n",
              "            + ' to learn more about interactive tables.';\n",
              "          element.innerHTML = '';\n",
              "          dataTable['output_type'] = 'display_data';\n",
              "          await google.colab.output.renderOutput(dataTable, element);\n",
              "          const docLink = document.createElement('div');\n",
              "          docLink.innerHTML = docLinkHtml;\n",
              "          element.appendChild(docLink);\n",
              "        }\n",
              "      </script>\n",
              "    </div>\n",
              "  </div>\n",
              "  "
            ]
          },
          "metadata": {},
          "execution_count": 60
        }
      ],
      "source": [
        "# Create an empty list to store the chunks\n",
        "chunks_list = []\n",
        "\n",
        "# Iterate over each row in the original DataFrame\n",
        "for index, row in df_init.iterrows():\n",
        "    author = row['Author']\n",
        "    book = row['Book']\n",
        "\n",
        "    # Split the book text into chunks of 512 characters\n",
        "    chunks = chunkator(book)\n",
        "\n",
        "    # Create a DataFrame with author and book chunks\n",
        "    chunk_df = pd.DataFrame({'Author': author, 'Book': chunks})\n",
        "\n",
        "    # Append the chunk DataFrame to the list\n",
        "    chunks_list.append(chunk_df)\n",
        "\n",
        "# Concatenate all the chunk DataFrames into a new DataFrame\n",
        "new_df = pd.concat(chunks_list, ignore_index=True)\n",
        "\n",
        "# Print the new DataFrame\n",
        "new_df"
      ]
    },
    {
      "cell_type": "code",
      "source": [
        "# Iterate over each row in the DataFrame\n",
        "for index, row in new_df.iterrows():\n",
        "    # Convert the list of words into a string\n",
        "    book_string = ' '.join(row['Book'])\n",
        "\n",
        "    # Update the \"Book\" column with the string value\n",
        "    new_df.at[index, 'Book'] = book_string\n",
        "\n",
        "new_df"
      ],
      "metadata": {
        "colab": {
          "base_uri": "https://localhost:8080/",
          "height": 419
        },
        "id": "XdPepociaUUb",
        "outputId": "98ad2452-214c-4e5b-de9c-d9536efc099d"
      },
      "execution_count": 61,
      "outputs": [
        {
          "output_type": "execute_result",
          "data": {
            "text/plain": [
              "                      Author  \\\n",
              "0                 Twain Mark   \n",
              "1                 Twain Mark   \n",
              "2                 Twain Mark   \n",
              "3                 Twain Mark   \n",
              "4                 Twain Mark   \n",
              "...                      ...   \n",
              "292655  Shelley Percy Bysshe   \n",
              "292656  Shelley Percy Bysshe   \n",
              "292657  Shelley Percy Bysshe   \n",
              "292658  Shelley Percy Bysshe   \n",
              "292659  Shelley Percy Bysshe   \n",
              "\n",
              "                                                     Book  \n",
              "0       ﻿The Project Gutenberg EBook of Chapters from ...  \n",
              "1       are of asort which he is familiar with in his ...  \n",
              "2       at any time during its existence who would be ...  \n",
              "3       and unchangingly bitter against Charles,and I ...  \n",
              "4       same difficulty. In fact he looked distraught,...  \n",
              "...                                                   ...  \n",
              "292655  refund of any money paid by a user who notifie...  \n",
              "292656  work under this agreement, disclaim allliabili...  \n",
              "292657  invalidity or unenforceability of anyprovision...  \n",
              "292658  U.S. federal laws and your state's laws.The Fo...  \n",
              "292659  card donations.To donate, please visit: http:/...  \n",
              "\n",
              "[292660 rows x 2 columns]"
            ],
            "text/html": [
              "\n",
              "  <div id=\"df-ccfdbd72-0bc5-4e42-894b-522fc592e9bb\">\n",
              "    <div class=\"colab-df-container\">\n",
              "      <div>\n",
              "<style scoped>\n",
              "    .dataframe tbody tr th:only-of-type {\n",
              "        vertical-align: middle;\n",
              "    }\n",
              "\n",
              "    .dataframe tbody tr th {\n",
              "        vertical-align: top;\n",
              "    }\n",
              "\n",
              "    .dataframe thead th {\n",
              "        text-align: right;\n",
              "    }\n",
              "</style>\n",
              "<table border=\"1\" class=\"dataframe\">\n",
              "  <thead>\n",
              "    <tr style=\"text-align: right;\">\n",
              "      <th></th>\n",
              "      <th>Author</th>\n",
              "      <th>Book</th>\n",
              "    </tr>\n",
              "  </thead>\n",
              "  <tbody>\n",
              "    <tr>\n",
              "      <th>0</th>\n",
              "      <td>Twain Mark</td>\n",
              "      <td>﻿The Project Gutenberg EBook of Chapters from ...</td>\n",
              "    </tr>\n",
              "    <tr>\n",
              "      <th>1</th>\n",
              "      <td>Twain Mark</td>\n",
              "      <td>are of asort which he is familiar with in his ...</td>\n",
              "    </tr>\n",
              "    <tr>\n",
              "      <th>2</th>\n",
              "      <td>Twain Mark</td>\n",
              "      <td>at any time during its existence who would be ...</td>\n",
              "    </tr>\n",
              "    <tr>\n",
              "      <th>3</th>\n",
              "      <td>Twain Mark</td>\n",
              "      <td>and unchangingly bitter against Charles,and I ...</td>\n",
              "    </tr>\n",
              "    <tr>\n",
              "      <th>4</th>\n",
              "      <td>Twain Mark</td>\n",
              "      <td>same difficulty. In fact he looked distraught,...</td>\n",
              "    </tr>\n",
              "    <tr>\n",
              "      <th>...</th>\n",
              "      <td>...</td>\n",
              "      <td>...</td>\n",
              "    </tr>\n",
              "    <tr>\n",
              "      <th>292655</th>\n",
              "      <td>Shelley Percy Bysshe</td>\n",
              "      <td>refund of any money paid by a user who notifie...</td>\n",
              "    </tr>\n",
              "    <tr>\n",
              "      <th>292656</th>\n",
              "      <td>Shelley Percy Bysshe</td>\n",
              "      <td>work under this agreement, disclaim allliabili...</td>\n",
              "    </tr>\n",
              "    <tr>\n",
              "      <th>292657</th>\n",
              "      <td>Shelley Percy Bysshe</td>\n",
              "      <td>invalidity or unenforceability of anyprovision...</td>\n",
              "    </tr>\n",
              "    <tr>\n",
              "      <th>292658</th>\n",
              "      <td>Shelley Percy Bysshe</td>\n",
              "      <td>U.S. federal laws and your state's laws.The Fo...</td>\n",
              "    </tr>\n",
              "    <tr>\n",
              "      <th>292659</th>\n",
              "      <td>Shelley Percy Bysshe</td>\n",
              "      <td>card donations.To donate, please visit: http:/...</td>\n",
              "    </tr>\n",
              "  </tbody>\n",
              "</table>\n",
              "<p>292660 rows × 2 columns</p>\n",
              "</div>\n",
              "      <button class=\"colab-df-convert\" onclick=\"convertToInteractive('df-ccfdbd72-0bc5-4e42-894b-522fc592e9bb')\"\n",
              "              title=\"Convert this dataframe to an interactive table.\"\n",
              "              style=\"display:none;\">\n",
              "        \n",
              "  <svg xmlns=\"http://www.w3.org/2000/svg\" height=\"24px\"viewBox=\"0 0 24 24\"\n",
              "       width=\"24px\">\n",
              "    <path d=\"M0 0h24v24H0V0z\" fill=\"none\"/>\n",
              "    <path d=\"M18.56 5.44l.94 2.06.94-2.06 2.06-.94-2.06-.94-.94-2.06-.94 2.06-2.06.94zm-11 1L8.5 8.5l.94-2.06 2.06-.94-2.06-.94L8.5 2.5l-.94 2.06-2.06.94zm10 10l.94 2.06.94-2.06 2.06-.94-2.06-.94-.94-2.06-.94 2.06-2.06.94z\"/><path d=\"M17.41 7.96l-1.37-1.37c-.4-.4-.92-.59-1.43-.59-.52 0-1.04.2-1.43.59L10.3 9.45l-7.72 7.72c-.78.78-.78 2.05 0 2.83L4 21.41c.39.39.9.59 1.41.59.51 0 1.02-.2 1.41-.59l7.78-7.78 2.81-2.81c.8-.78.8-2.07 0-2.86zM5.41 20L4 18.59l7.72-7.72 1.47 1.35L5.41 20z\"/>\n",
              "  </svg>\n",
              "      </button>\n",
              "      \n",
              "  <style>\n",
              "    .colab-df-container {\n",
              "      display:flex;\n",
              "      flex-wrap:wrap;\n",
              "      gap: 12px;\n",
              "    }\n",
              "\n",
              "    .colab-df-convert {\n",
              "      background-color: #E8F0FE;\n",
              "      border: none;\n",
              "      border-radius: 50%;\n",
              "      cursor: pointer;\n",
              "      display: none;\n",
              "      fill: #1967D2;\n",
              "      height: 32px;\n",
              "      padding: 0 0 0 0;\n",
              "      width: 32px;\n",
              "    }\n",
              "\n",
              "    .colab-df-convert:hover {\n",
              "      background-color: #E2EBFA;\n",
              "      box-shadow: 0px 1px 2px rgba(60, 64, 67, 0.3), 0px 1px 3px 1px rgba(60, 64, 67, 0.15);\n",
              "      fill: #174EA6;\n",
              "    }\n",
              "\n",
              "    [theme=dark] .colab-df-convert {\n",
              "      background-color: #3B4455;\n",
              "      fill: #D2E3FC;\n",
              "    }\n",
              "\n",
              "    [theme=dark] .colab-df-convert:hover {\n",
              "      background-color: #434B5C;\n",
              "      box-shadow: 0px 1px 3px 1px rgba(0, 0, 0, 0.15);\n",
              "      filter: drop-shadow(0px 1px 2px rgba(0, 0, 0, 0.3));\n",
              "      fill: #FFFFFF;\n",
              "    }\n",
              "  </style>\n",
              "\n",
              "      <script>\n",
              "        const buttonEl =\n",
              "          document.querySelector('#df-ccfdbd72-0bc5-4e42-894b-522fc592e9bb button.colab-df-convert');\n",
              "        buttonEl.style.display =\n",
              "          google.colab.kernel.accessAllowed ? 'block' : 'none';\n",
              "\n",
              "        async function convertToInteractive(key) {\n",
              "          const element = document.querySelector('#df-ccfdbd72-0bc5-4e42-894b-522fc592e9bb');\n",
              "          const dataTable =\n",
              "            await google.colab.kernel.invokeFunction('convertToInteractive',\n",
              "                                                     [key], {});\n",
              "          if (!dataTable) return;\n",
              "\n",
              "          const docLinkHtml = 'Like what you see? Visit the ' +\n",
              "            '<a target=\"_blank\" href=https://colab.research.google.com/notebooks/data_table.ipynb>data table notebook</a>'\n",
              "            + ' to learn more about interactive tables.';\n",
              "          element.innerHTML = '';\n",
              "          dataTable['output_type'] = 'display_data';\n",
              "          await google.colab.output.renderOutput(dataTable, element);\n",
              "          const docLink = document.createElement('div');\n",
              "          docLink.innerHTML = docLinkHtml;\n",
              "          element.appendChild(docLink);\n",
              "        }\n",
              "      </script>\n",
              "    </div>\n",
              "  </div>\n",
              "  "
            ]
          },
          "metadata": {},
          "execution_count": 61
        }
      ]
    },
    {
      "cell_type": "code",
      "execution_count": 62,
      "metadata": {
        "id": "3sh6zcxJ9l6d",
        "colab": {
          "base_uri": "https://localhost:8080/"
        },
        "outputId": "5261ec6e-69fd-481a-ec80-c5113ccc57f4"
      },
      "outputs": [
        {
          "output_type": "execute_result",
          "data": {
            "text/plain": [
              "['Motley John Lothrop',\n",
              " 'Twain Mark',\n",
              " 'Shakespeare William',\n",
              " 'Ebers Georg',\n",
              " 'Larned J. N. (Josephus Nelson)',\n",
              " 'Zola Émile',\n",
              " 'Dumas Alexandre',\n",
              " 'Fishburne William Brett',\n",
              " 'Grant Ulysses S. (Ulysses Simpson)',\n",
              " 'Thomas Aquinas Saint',\n",
              " 'Tolstoy Leo graf',\n",
              " 'Steele Richard Sir',\n",
              " 'Walsh James J. (James Joseph)',\n",
              " 'Holmes Oliver Wendell',\n",
              " 'Whittier John Greenleaf',\n",
              " 'Warner Charles Dudley',\n",
              " 'Plutarch',\n",
              " 'Hardy Thomas',\n",
              " 'Browning Robert',\n",
              " 'Benton Thomas Hart',\n",
              " 'Auerbach Berthold',\n",
              " 'Wood J. G. (John George)',\n",
              " 'Lincoln Abraham',\n",
              " 'Rose J. Holland (John Holland)',\n",
              " 'Haeckel Ernst',\n",
              " 'Smith Adam',\n",
              " 'Montaigne Michel de',\n",
              " 'Shelley Percy Bysshe',\n",
              " 'Mill John Stuart',\n",
              " 'Whewell William',\n",
              " 'Brown Goold',\n",
              " 'Poe Edgar Allan',\n",
              " 'Rose Joshua',\n",
              " 'Josephus Flavius',\n",
              " 'Lewis Meriwether',\n",
              " 'Spenser Edmund',\n",
              " 'Lemprière John',\n",
              " 'Polo Marco',\n",
              " 'Nuttall P. Austin',\n",
              " 'Rymer James Malcolm']"
            ]
          },
          "metadata": {},
          "execution_count": 62
        }
      ],
      "source": [
        "top40 = new_df['Author'].value_counts().head(40).index.tolist()\n",
        "top40"
      ]
    },
    {
      "cell_type": "code",
      "source": [
        "new_df = new_df[new_df['Author'].isin(top40)]\n",
        "new_df"
      ],
      "metadata": {
        "colab": {
          "base_uri": "https://localhost:8080/",
          "height": 419
        },
        "id": "plvP2O0sVl-M",
        "outputId": "127e6029-ef6f-485f-c578-f18becab60a0"
      },
      "execution_count": 63,
      "outputs": [
        {
          "output_type": "execute_result",
          "data": {
            "text/plain": [
              "                      Author  \\\n",
              "0                 Twain Mark   \n",
              "1                 Twain Mark   \n",
              "2                 Twain Mark   \n",
              "3                 Twain Mark   \n",
              "4                 Twain Mark   \n",
              "...                      ...   \n",
              "292655  Shelley Percy Bysshe   \n",
              "292656  Shelley Percy Bysshe   \n",
              "292657  Shelley Percy Bysshe   \n",
              "292658  Shelley Percy Bysshe   \n",
              "292659  Shelley Percy Bysshe   \n",
              "\n",
              "                                                     Book  \n",
              "0       ﻿The Project Gutenberg EBook of Chapters from ...  \n",
              "1       are of asort which he is familiar with in his ...  \n",
              "2       at any time during its existence who would be ...  \n",
              "3       and unchangingly bitter against Charles,and I ...  \n",
              "4       same difficulty. In fact he looked distraught,...  \n",
              "...                                                   ...  \n",
              "292655  refund of any money paid by a user who notifie...  \n",
              "292656  work under this agreement, disclaim allliabili...  \n",
              "292657  invalidity or unenforceability of anyprovision...  \n",
              "292658  U.S. federal laws and your state's laws.The Fo...  \n",
              "292659  card donations.To donate, please visit: http:/...  \n",
              "\n",
              "[260613 rows x 2 columns]"
            ],
            "text/html": [
              "\n",
              "  <div id=\"df-9e2403ab-4ea8-4f2a-97d9-cfa4621733ee\">\n",
              "    <div class=\"colab-df-container\">\n",
              "      <div>\n",
              "<style scoped>\n",
              "    .dataframe tbody tr th:only-of-type {\n",
              "        vertical-align: middle;\n",
              "    }\n",
              "\n",
              "    .dataframe tbody tr th {\n",
              "        vertical-align: top;\n",
              "    }\n",
              "\n",
              "    .dataframe thead th {\n",
              "        text-align: right;\n",
              "    }\n",
              "</style>\n",
              "<table border=\"1\" class=\"dataframe\">\n",
              "  <thead>\n",
              "    <tr style=\"text-align: right;\">\n",
              "      <th></th>\n",
              "      <th>Author</th>\n",
              "      <th>Book</th>\n",
              "    </tr>\n",
              "  </thead>\n",
              "  <tbody>\n",
              "    <tr>\n",
              "      <th>0</th>\n",
              "      <td>Twain Mark</td>\n",
              "      <td>﻿The Project Gutenberg EBook of Chapters from ...</td>\n",
              "    </tr>\n",
              "    <tr>\n",
              "      <th>1</th>\n",
              "      <td>Twain Mark</td>\n",
              "      <td>are of asort which he is familiar with in his ...</td>\n",
              "    </tr>\n",
              "    <tr>\n",
              "      <th>2</th>\n",
              "      <td>Twain Mark</td>\n",
              "      <td>at any time during its existence who would be ...</td>\n",
              "    </tr>\n",
              "    <tr>\n",
              "      <th>3</th>\n",
              "      <td>Twain Mark</td>\n",
              "      <td>and unchangingly bitter against Charles,and I ...</td>\n",
              "    </tr>\n",
              "    <tr>\n",
              "      <th>4</th>\n",
              "      <td>Twain Mark</td>\n",
              "      <td>same difficulty. In fact he looked distraught,...</td>\n",
              "    </tr>\n",
              "    <tr>\n",
              "      <th>...</th>\n",
              "      <td>...</td>\n",
              "      <td>...</td>\n",
              "    </tr>\n",
              "    <tr>\n",
              "      <th>292655</th>\n",
              "      <td>Shelley Percy Bysshe</td>\n",
              "      <td>refund of any money paid by a user who notifie...</td>\n",
              "    </tr>\n",
              "    <tr>\n",
              "      <th>292656</th>\n",
              "      <td>Shelley Percy Bysshe</td>\n",
              "      <td>work under this agreement, disclaim allliabili...</td>\n",
              "    </tr>\n",
              "    <tr>\n",
              "      <th>292657</th>\n",
              "      <td>Shelley Percy Bysshe</td>\n",
              "      <td>invalidity or unenforceability of anyprovision...</td>\n",
              "    </tr>\n",
              "    <tr>\n",
              "      <th>292658</th>\n",
              "      <td>Shelley Percy Bysshe</td>\n",
              "      <td>U.S. federal laws and your state's laws.The Fo...</td>\n",
              "    </tr>\n",
              "    <tr>\n",
              "      <th>292659</th>\n",
              "      <td>Shelley Percy Bysshe</td>\n",
              "      <td>card donations.To donate, please visit: http:/...</td>\n",
              "    </tr>\n",
              "  </tbody>\n",
              "</table>\n",
              "<p>260613 rows × 2 columns</p>\n",
              "</div>\n",
              "      <button class=\"colab-df-convert\" onclick=\"convertToInteractive('df-9e2403ab-4ea8-4f2a-97d9-cfa4621733ee')\"\n",
              "              title=\"Convert this dataframe to an interactive table.\"\n",
              "              style=\"display:none;\">\n",
              "        \n",
              "  <svg xmlns=\"http://www.w3.org/2000/svg\" height=\"24px\"viewBox=\"0 0 24 24\"\n",
              "       width=\"24px\">\n",
              "    <path d=\"M0 0h24v24H0V0z\" fill=\"none\"/>\n",
              "    <path d=\"M18.56 5.44l.94 2.06.94-2.06 2.06-.94-2.06-.94-.94-2.06-.94 2.06-2.06.94zm-11 1L8.5 8.5l.94-2.06 2.06-.94-2.06-.94L8.5 2.5l-.94 2.06-2.06.94zm10 10l.94 2.06.94-2.06 2.06-.94-2.06-.94-.94-2.06-.94 2.06-2.06.94z\"/><path d=\"M17.41 7.96l-1.37-1.37c-.4-.4-.92-.59-1.43-.59-.52 0-1.04.2-1.43.59L10.3 9.45l-7.72 7.72c-.78.78-.78 2.05 0 2.83L4 21.41c.39.39.9.59 1.41.59.51 0 1.02-.2 1.41-.59l7.78-7.78 2.81-2.81c.8-.78.8-2.07 0-2.86zM5.41 20L4 18.59l7.72-7.72 1.47 1.35L5.41 20z\"/>\n",
              "  </svg>\n",
              "      </button>\n",
              "      \n",
              "  <style>\n",
              "    .colab-df-container {\n",
              "      display:flex;\n",
              "      flex-wrap:wrap;\n",
              "      gap: 12px;\n",
              "    }\n",
              "\n",
              "    .colab-df-convert {\n",
              "      background-color: #E8F0FE;\n",
              "      border: none;\n",
              "      border-radius: 50%;\n",
              "      cursor: pointer;\n",
              "      display: none;\n",
              "      fill: #1967D2;\n",
              "      height: 32px;\n",
              "      padding: 0 0 0 0;\n",
              "      width: 32px;\n",
              "    }\n",
              "\n",
              "    .colab-df-convert:hover {\n",
              "      background-color: #E2EBFA;\n",
              "      box-shadow: 0px 1px 2px rgba(60, 64, 67, 0.3), 0px 1px 3px 1px rgba(60, 64, 67, 0.15);\n",
              "      fill: #174EA6;\n",
              "    }\n",
              "\n",
              "    [theme=dark] .colab-df-convert {\n",
              "      background-color: #3B4455;\n",
              "      fill: #D2E3FC;\n",
              "    }\n",
              "\n",
              "    [theme=dark] .colab-df-convert:hover {\n",
              "      background-color: #434B5C;\n",
              "      box-shadow: 0px 1px 3px 1px rgba(0, 0, 0, 0.15);\n",
              "      filter: drop-shadow(0px 1px 2px rgba(0, 0, 0, 0.3));\n",
              "      fill: #FFFFFF;\n",
              "    }\n",
              "  </style>\n",
              "\n",
              "      <script>\n",
              "        const buttonEl =\n",
              "          document.querySelector('#df-9e2403ab-4ea8-4f2a-97d9-cfa4621733ee button.colab-df-convert');\n",
              "        buttonEl.style.display =\n",
              "          google.colab.kernel.accessAllowed ? 'block' : 'none';\n",
              "\n",
              "        async function convertToInteractive(key) {\n",
              "          const element = document.querySelector('#df-9e2403ab-4ea8-4f2a-97d9-cfa4621733ee');\n",
              "          const dataTable =\n",
              "            await google.colab.kernel.invokeFunction('convertToInteractive',\n",
              "                                                     [key], {});\n",
              "          if (!dataTable) return;\n",
              "\n",
              "          const docLinkHtml = 'Like what you see? Visit the ' +\n",
              "            '<a target=\"_blank\" href=https://colab.research.google.com/notebooks/data_table.ipynb>data table notebook</a>'\n",
              "            + ' to learn more about interactive tables.';\n",
              "          element.innerHTML = '';\n",
              "          dataTable['output_type'] = 'display_data';\n",
              "          await google.colab.output.renderOutput(dataTable, element);\n",
              "          const docLink = document.createElement('div');\n",
              "          docLink.innerHTML = docLinkHtml;\n",
              "          element.appendChild(docLink);\n",
              "        }\n",
              "      </script>\n",
              "    </div>\n",
              "  </div>\n",
              "  "
            ]
          },
          "metadata": {},
          "execution_count": 63
        }
      ]
    },
    {
      "cell_type": "code",
      "execution_count": 64,
      "metadata": {
        "colab": {
          "base_uri": "https://localhost:8080/"
        },
        "id": "YimrVItF9l6e",
        "outputId": "909be862-cd90-4f04-c3bb-95511994ad95"
      },
      "outputs": [
        {
          "output_type": "execute_result",
          "data": {
            "text/plain": [
              "2337"
            ]
          },
          "metadata": {},
          "execution_count": 64
        }
      ],
      "source": [
        "# keep the same amount of chunks per author\n",
        "amount_per_author = new_df['Author'].value_counts().min()\n",
        "amount_per_author"
      ]
    },
    {
      "cell_type": "code",
      "execution_count": 65,
      "metadata": {
        "id": "v2shbOgJ9l6e"
      },
      "outputs": [],
      "source": [
        "new_df = new_df.groupby('Author').head(amount_per_author)"
      ]
    },
    {
      "cell_type": "code",
      "source": [
        "new_df"
      ],
      "metadata": {
        "colab": {
          "base_uri": "https://localhost:8080/",
          "height": 419
        },
        "id": "jF4QIaDmKRht",
        "outputId": "6a5c61a7-9aaa-4f2b-e0ce-058c61b47a61"
      },
      "execution_count": 66,
      "outputs": [
        {
          "output_type": "execute_result",
          "data": {
            "text/plain": [
              "                 Author                                               Book\n",
              "0            Twain Mark  ﻿The Project Gutenberg EBook of Chapters from ...\n",
              "1            Twain Mark  are of asort which he is familiar with in his ...\n",
              "2            Twain Mark  at any time during its existence who would be ...\n",
              "3            Twain Mark  and unchangingly bitter against Charles,and I ...\n",
              "4            Twain Mark  same difficulty. In fact he looked distraught,...\n",
              "...                 ...                                                ...\n",
              "273713  Poe Edgar Allan  lacerating the feet against the pavement was l...\n",
              "273714  Poe Edgar Allan  all the turrets around about Jerusalem, and th...\n",
              "273715  Poe Edgar Allan  and hast sojourned among them who dabble with ...\n",
              "273716  Poe Edgar Allan  rope became indistinctly visible—“Booshoh he!”...\n",
              "273717  Poe Edgar Allan  to expect daily the loss of some friend. At le...\n",
              "\n",
              "[93480 rows x 2 columns]"
            ],
            "text/html": [
              "\n",
              "  <div id=\"df-f7a39cb3-563d-4113-9a7e-4e57cdfc9b41\">\n",
              "    <div class=\"colab-df-container\">\n",
              "      <div>\n",
              "<style scoped>\n",
              "    .dataframe tbody tr th:only-of-type {\n",
              "        vertical-align: middle;\n",
              "    }\n",
              "\n",
              "    .dataframe tbody tr th {\n",
              "        vertical-align: top;\n",
              "    }\n",
              "\n",
              "    .dataframe thead th {\n",
              "        text-align: right;\n",
              "    }\n",
              "</style>\n",
              "<table border=\"1\" class=\"dataframe\">\n",
              "  <thead>\n",
              "    <tr style=\"text-align: right;\">\n",
              "      <th></th>\n",
              "      <th>Author</th>\n",
              "      <th>Book</th>\n",
              "    </tr>\n",
              "  </thead>\n",
              "  <tbody>\n",
              "    <tr>\n",
              "      <th>0</th>\n",
              "      <td>Twain Mark</td>\n",
              "      <td>﻿The Project Gutenberg EBook of Chapters from ...</td>\n",
              "    </tr>\n",
              "    <tr>\n",
              "      <th>1</th>\n",
              "      <td>Twain Mark</td>\n",
              "      <td>are of asort which he is familiar with in his ...</td>\n",
              "    </tr>\n",
              "    <tr>\n",
              "      <th>2</th>\n",
              "      <td>Twain Mark</td>\n",
              "      <td>at any time during its existence who would be ...</td>\n",
              "    </tr>\n",
              "    <tr>\n",
              "      <th>3</th>\n",
              "      <td>Twain Mark</td>\n",
              "      <td>and unchangingly bitter against Charles,and I ...</td>\n",
              "    </tr>\n",
              "    <tr>\n",
              "      <th>4</th>\n",
              "      <td>Twain Mark</td>\n",
              "      <td>same difficulty. In fact he looked distraught,...</td>\n",
              "    </tr>\n",
              "    <tr>\n",
              "      <th>...</th>\n",
              "      <td>...</td>\n",
              "      <td>...</td>\n",
              "    </tr>\n",
              "    <tr>\n",
              "      <th>273713</th>\n",
              "      <td>Poe Edgar Allan</td>\n",
              "      <td>lacerating the feet against the pavement was l...</td>\n",
              "    </tr>\n",
              "    <tr>\n",
              "      <th>273714</th>\n",
              "      <td>Poe Edgar Allan</td>\n",
              "      <td>all the turrets around about Jerusalem, and th...</td>\n",
              "    </tr>\n",
              "    <tr>\n",
              "      <th>273715</th>\n",
              "      <td>Poe Edgar Allan</td>\n",
              "      <td>and hast sojourned among them who dabble with ...</td>\n",
              "    </tr>\n",
              "    <tr>\n",
              "      <th>273716</th>\n",
              "      <td>Poe Edgar Allan</td>\n",
              "      <td>rope became indistinctly visible—“Booshoh he!”...</td>\n",
              "    </tr>\n",
              "    <tr>\n",
              "      <th>273717</th>\n",
              "      <td>Poe Edgar Allan</td>\n",
              "      <td>to expect daily the loss of some friend. At le...</td>\n",
              "    </tr>\n",
              "  </tbody>\n",
              "</table>\n",
              "<p>93480 rows × 2 columns</p>\n",
              "</div>\n",
              "      <button class=\"colab-df-convert\" onclick=\"convertToInteractive('df-f7a39cb3-563d-4113-9a7e-4e57cdfc9b41')\"\n",
              "              title=\"Convert this dataframe to an interactive table.\"\n",
              "              style=\"display:none;\">\n",
              "        \n",
              "  <svg xmlns=\"http://www.w3.org/2000/svg\" height=\"24px\"viewBox=\"0 0 24 24\"\n",
              "       width=\"24px\">\n",
              "    <path d=\"M0 0h24v24H0V0z\" fill=\"none\"/>\n",
              "    <path d=\"M18.56 5.44l.94 2.06.94-2.06 2.06-.94-2.06-.94-.94-2.06-.94 2.06-2.06.94zm-11 1L8.5 8.5l.94-2.06 2.06-.94-2.06-.94L8.5 2.5l-.94 2.06-2.06.94zm10 10l.94 2.06.94-2.06 2.06-.94-2.06-.94-.94-2.06-.94 2.06-2.06.94z\"/><path d=\"M17.41 7.96l-1.37-1.37c-.4-.4-.92-.59-1.43-.59-.52 0-1.04.2-1.43.59L10.3 9.45l-7.72 7.72c-.78.78-.78 2.05 0 2.83L4 21.41c.39.39.9.59 1.41.59.51 0 1.02-.2 1.41-.59l7.78-7.78 2.81-2.81c.8-.78.8-2.07 0-2.86zM5.41 20L4 18.59l7.72-7.72 1.47 1.35L5.41 20z\"/>\n",
              "  </svg>\n",
              "      </button>\n",
              "      \n",
              "  <style>\n",
              "    .colab-df-container {\n",
              "      display:flex;\n",
              "      flex-wrap:wrap;\n",
              "      gap: 12px;\n",
              "    }\n",
              "\n",
              "    .colab-df-convert {\n",
              "      background-color: #E8F0FE;\n",
              "      border: none;\n",
              "      border-radius: 50%;\n",
              "      cursor: pointer;\n",
              "      display: none;\n",
              "      fill: #1967D2;\n",
              "      height: 32px;\n",
              "      padding: 0 0 0 0;\n",
              "      width: 32px;\n",
              "    }\n",
              "\n",
              "    .colab-df-convert:hover {\n",
              "      background-color: #E2EBFA;\n",
              "      box-shadow: 0px 1px 2px rgba(60, 64, 67, 0.3), 0px 1px 3px 1px rgba(60, 64, 67, 0.15);\n",
              "      fill: #174EA6;\n",
              "    }\n",
              "\n",
              "    [theme=dark] .colab-df-convert {\n",
              "      background-color: #3B4455;\n",
              "      fill: #D2E3FC;\n",
              "    }\n",
              "\n",
              "    [theme=dark] .colab-df-convert:hover {\n",
              "      background-color: #434B5C;\n",
              "      box-shadow: 0px 1px 3px 1px rgba(0, 0, 0, 0.15);\n",
              "      filter: drop-shadow(0px 1px 2px rgba(0, 0, 0, 0.3));\n",
              "      fill: #FFFFFF;\n",
              "    }\n",
              "  </style>\n",
              "\n",
              "      <script>\n",
              "        const buttonEl =\n",
              "          document.querySelector('#df-f7a39cb3-563d-4113-9a7e-4e57cdfc9b41 button.colab-df-convert');\n",
              "        buttonEl.style.display =\n",
              "          google.colab.kernel.accessAllowed ? 'block' : 'none';\n",
              "\n",
              "        async function convertToInteractive(key) {\n",
              "          const element = document.querySelector('#df-f7a39cb3-563d-4113-9a7e-4e57cdfc9b41');\n",
              "          const dataTable =\n",
              "            await google.colab.kernel.invokeFunction('convertToInteractive',\n",
              "                                                     [key], {});\n",
              "          if (!dataTable) return;\n",
              "\n",
              "          const docLinkHtml = 'Like what you see? Visit the ' +\n",
              "            '<a target=\"_blank\" href=https://colab.research.google.com/notebooks/data_table.ipynb>data table notebook</a>'\n",
              "            + ' to learn more about interactive tables.';\n",
              "          element.innerHTML = '';\n",
              "          dataTable['output_type'] = 'display_data';\n",
              "          await google.colab.output.renderOutput(dataTable, element);\n",
              "          const docLink = document.createElement('div');\n",
              "          docLink.innerHTML = docLinkHtml;\n",
              "          element.appendChild(docLink);\n",
              "        }\n",
              "      </script>\n",
              "    </div>\n",
              "  </div>\n",
              "  "
            ]
          },
          "metadata": {},
          "execution_count": 66
        }
      ]
    },
    {
      "cell_type": "code",
      "execution_count": 67,
      "metadata": {
        "colab": {
          "base_uri": "https://localhost:8080/"
        },
        "id": "N1cE99HU9l6e",
        "outputId": "7becfcc0-71c3-4d9a-ce81-bdae10ce7e40"
      },
      "outputs": [
        {
          "output_type": "stream",
          "name": "stderr",
          "text": [
            "<ipython-input-67-794b768605f6>:17: SettingWithCopyWarning: \n",
            "A value is trying to be set on a copy of a slice from a DataFrame.\n",
            "Try using .loc[row_indexer,col_indexer] = value instead\n",
            "\n",
            "See the caveats in the documentation: https://pandas.pydata.org/pandas-docs/stable/user_guide/indexing.html#returning-a-view-versus-a-copy\n",
            "  new_df['Author_Encoded']=labels\n"
          ]
        }
      ],
      "source": [
        "# get the labels\n",
        "labels = new_df['Author'].tolist()\n",
        "\n",
        "# convert labels to nparray\n",
        "labels_text = np.array(labels)\n",
        "\n",
        "# apply label encoding to labels\n",
        "from sklearn.preprocessing import LabelEncoder\n",
        "\n",
        "le = LabelEncoder()\n",
        "labels = le.fit_transform(labels_text)\n",
        "labels = np.array(labels)\n",
        "labels\n",
        "\n",
        "labels_clean = le.inverse_transform(labels)\n",
        "\n",
        "new_df['Author_Encoded']=labels"
      ]
    },
    {
      "cell_type": "code",
      "source": [
        "new_df"
      ],
      "metadata": {
        "colab": {
          "base_uri": "https://localhost:8080/",
          "height": 419
        },
        "id": "bH4BMb9vWILi",
        "outputId": "b36d8c80-d2e3-45f2-a7b7-55aa31369ce0"
      },
      "execution_count": 68,
      "outputs": [
        {
          "output_type": "execute_result",
          "data": {
            "text/plain": [
              "                 Author                                               Book  \\\n",
              "0            Twain Mark  ﻿The Project Gutenberg EBook of Chapters from ...   \n",
              "1            Twain Mark  are of asort which he is familiar with in his ...   \n",
              "2            Twain Mark  at any time during its existence who would be ...   \n",
              "3            Twain Mark  and unchangingly bitter against Charles,and I ...   \n",
              "4            Twain Mark  same difficulty. In fact he looked distraught,...   \n",
              "...                 ...                                                ...   \n",
              "273713  Poe Edgar Allan  lacerating the feet against the pavement was l...   \n",
              "273714  Poe Edgar Allan  all the turrets around about Jerusalem, and th...   \n",
              "273715  Poe Edgar Allan  and hast sojourned among them who dabble with ...   \n",
              "273716  Poe Edgar Allan  rope became indistinctly visible—“Booshoh he!”...   \n",
              "273717  Poe Edgar Allan  to expect daily the loss of some friend. At le...   \n",
              "\n",
              "        Author_Encoded  \n",
              "0                   33  \n",
              "1                   33  \n",
              "2                   33  \n",
              "3                   33  \n",
              "4                   33  \n",
              "...                ...  \n",
              "273713              21  \n",
              "273714              21  \n",
              "273715              21  \n",
              "273716              21  \n",
              "273717              21  \n",
              "\n",
              "[93480 rows x 3 columns]"
            ],
            "text/html": [
              "\n",
              "  <div id=\"df-9126bd75-1682-423a-a01f-7b516a306226\">\n",
              "    <div class=\"colab-df-container\">\n",
              "      <div>\n",
              "<style scoped>\n",
              "    .dataframe tbody tr th:only-of-type {\n",
              "        vertical-align: middle;\n",
              "    }\n",
              "\n",
              "    .dataframe tbody tr th {\n",
              "        vertical-align: top;\n",
              "    }\n",
              "\n",
              "    .dataframe thead th {\n",
              "        text-align: right;\n",
              "    }\n",
              "</style>\n",
              "<table border=\"1\" class=\"dataframe\">\n",
              "  <thead>\n",
              "    <tr style=\"text-align: right;\">\n",
              "      <th></th>\n",
              "      <th>Author</th>\n",
              "      <th>Book</th>\n",
              "      <th>Author_Encoded</th>\n",
              "    </tr>\n",
              "  </thead>\n",
              "  <tbody>\n",
              "    <tr>\n",
              "      <th>0</th>\n",
              "      <td>Twain Mark</td>\n",
              "      <td>﻿The Project Gutenberg EBook of Chapters from ...</td>\n",
              "      <td>33</td>\n",
              "    </tr>\n",
              "    <tr>\n",
              "      <th>1</th>\n",
              "      <td>Twain Mark</td>\n",
              "      <td>are of asort which he is familiar with in his ...</td>\n",
              "      <td>33</td>\n",
              "    </tr>\n",
              "    <tr>\n",
              "      <th>2</th>\n",
              "      <td>Twain Mark</td>\n",
              "      <td>at any time during its existence who would be ...</td>\n",
              "      <td>33</td>\n",
              "    </tr>\n",
              "    <tr>\n",
              "      <th>3</th>\n",
              "      <td>Twain Mark</td>\n",
              "      <td>and unchangingly bitter against Charles,and I ...</td>\n",
              "      <td>33</td>\n",
              "    </tr>\n",
              "    <tr>\n",
              "      <th>4</th>\n",
              "      <td>Twain Mark</td>\n",
              "      <td>same difficulty. In fact he looked distraught,...</td>\n",
              "      <td>33</td>\n",
              "    </tr>\n",
              "    <tr>\n",
              "      <th>...</th>\n",
              "      <td>...</td>\n",
              "      <td>...</td>\n",
              "      <td>...</td>\n",
              "    </tr>\n",
              "    <tr>\n",
              "      <th>273713</th>\n",
              "      <td>Poe Edgar Allan</td>\n",
              "      <td>lacerating the feet against the pavement was l...</td>\n",
              "      <td>21</td>\n",
              "    </tr>\n",
              "    <tr>\n",
              "      <th>273714</th>\n",
              "      <td>Poe Edgar Allan</td>\n",
              "      <td>all the turrets around about Jerusalem, and th...</td>\n",
              "      <td>21</td>\n",
              "    </tr>\n",
              "    <tr>\n",
              "      <th>273715</th>\n",
              "      <td>Poe Edgar Allan</td>\n",
              "      <td>and hast sojourned among them who dabble with ...</td>\n",
              "      <td>21</td>\n",
              "    </tr>\n",
              "    <tr>\n",
              "      <th>273716</th>\n",
              "      <td>Poe Edgar Allan</td>\n",
              "      <td>rope became indistinctly visible—“Booshoh he!”...</td>\n",
              "      <td>21</td>\n",
              "    </tr>\n",
              "    <tr>\n",
              "      <th>273717</th>\n",
              "      <td>Poe Edgar Allan</td>\n",
              "      <td>to expect daily the loss of some friend. At le...</td>\n",
              "      <td>21</td>\n",
              "    </tr>\n",
              "  </tbody>\n",
              "</table>\n",
              "<p>93480 rows × 3 columns</p>\n",
              "</div>\n",
              "      <button class=\"colab-df-convert\" onclick=\"convertToInteractive('df-9126bd75-1682-423a-a01f-7b516a306226')\"\n",
              "              title=\"Convert this dataframe to an interactive table.\"\n",
              "              style=\"display:none;\">\n",
              "        \n",
              "  <svg xmlns=\"http://www.w3.org/2000/svg\" height=\"24px\"viewBox=\"0 0 24 24\"\n",
              "       width=\"24px\">\n",
              "    <path d=\"M0 0h24v24H0V0z\" fill=\"none\"/>\n",
              "    <path d=\"M18.56 5.44l.94 2.06.94-2.06 2.06-.94-2.06-.94-.94-2.06-.94 2.06-2.06.94zm-11 1L8.5 8.5l.94-2.06 2.06-.94-2.06-.94L8.5 2.5l-.94 2.06-2.06.94zm10 10l.94 2.06.94-2.06 2.06-.94-2.06-.94-.94-2.06-.94 2.06-2.06.94z\"/><path d=\"M17.41 7.96l-1.37-1.37c-.4-.4-.92-.59-1.43-.59-.52 0-1.04.2-1.43.59L10.3 9.45l-7.72 7.72c-.78.78-.78 2.05 0 2.83L4 21.41c.39.39.9.59 1.41.59.51 0 1.02-.2 1.41-.59l7.78-7.78 2.81-2.81c.8-.78.8-2.07 0-2.86zM5.41 20L4 18.59l7.72-7.72 1.47 1.35L5.41 20z\"/>\n",
              "  </svg>\n",
              "      </button>\n",
              "      \n",
              "  <style>\n",
              "    .colab-df-container {\n",
              "      display:flex;\n",
              "      flex-wrap:wrap;\n",
              "      gap: 12px;\n",
              "    }\n",
              "\n",
              "    .colab-df-convert {\n",
              "      background-color: #E8F0FE;\n",
              "      border: none;\n",
              "      border-radius: 50%;\n",
              "      cursor: pointer;\n",
              "      display: none;\n",
              "      fill: #1967D2;\n",
              "      height: 32px;\n",
              "      padding: 0 0 0 0;\n",
              "      width: 32px;\n",
              "    }\n",
              "\n",
              "    .colab-df-convert:hover {\n",
              "      background-color: #E2EBFA;\n",
              "      box-shadow: 0px 1px 2px rgba(60, 64, 67, 0.3), 0px 1px 3px 1px rgba(60, 64, 67, 0.15);\n",
              "      fill: #174EA6;\n",
              "    }\n",
              "\n",
              "    [theme=dark] .colab-df-convert {\n",
              "      background-color: #3B4455;\n",
              "      fill: #D2E3FC;\n",
              "    }\n",
              "\n",
              "    [theme=dark] .colab-df-convert:hover {\n",
              "      background-color: #434B5C;\n",
              "      box-shadow: 0px 1px 3px 1px rgba(0, 0, 0, 0.15);\n",
              "      filter: drop-shadow(0px 1px 2px rgba(0, 0, 0, 0.3));\n",
              "      fill: #FFFFFF;\n",
              "    }\n",
              "  </style>\n",
              "\n",
              "      <script>\n",
              "        const buttonEl =\n",
              "          document.querySelector('#df-9126bd75-1682-423a-a01f-7b516a306226 button.colab-df-convert');\n",
              "        buttonEl.style.display =\n",
              "          google.colab.kernel.accessAllowed ? 'block' : 'none';\n",
              "\n",
              "        async function convertToInteractive(key) {\n",
              "          const element = document.querySelector('#df-9126bd75-1682-423a-a01f-7b516a306226');\n",
              "          const dataTable =\n",
              "            await google.colab.kernel.invokeFunction('convertToInteractive',\n",
              "                                                     [key], {});\n",
              "          if (!dataTable) return;\n",
              "\n",
              "          const docLinkHtml = 'Like what you see? Visit the ' +\n",
              "            '<a target=\"_blank\" href=https://colab.research.google.com/notebooks/data_table.ipynb>data table notebook</a>'\n",
              "            + ' to learn more about interactive tables.';\n",
              "          element.innerHTML = '';\n",
              "          dataTable['output_type'] = 'display_data';\n",
              "          await google.colab.output.renderOutput(dataTable, element);\n",
              "          const docLink = document.createElement('div');\n",
              "          docLink.innerHTML = docLinkHtml;\n",
              "          element.appendChild(docLink);\n",
              "        }\n",
              "      </script>\n",
              "    </div>\n",
              "  </div>\n",
              "  "
            ]
          },
          "metadata": {},
          "execution_count": 68
        }
      ]
    },
    {
      "cell_type": "code",
      "execution_count": 69,
      "metadata": {
        "id": "VmRBWfhV9l6e"
      },
      "outputs": [],
      "source": [
        "list_text = []\n",
        "for _, row in new_df.iterrows():\n",
        "    list_text.append(row[\"Book\"])\n",
        "\n",
        "list_labels =[]\n",
        "for _, row in new_df.iterrows():\n",
        "    list_labels.append(row[\"Author_Encoded\"])"
      ]
    },
    {
      "cell_type": "code",
      "execution_count": 70,
      "metadata": {
        "id": "3h_jRUAt9l6e"
      },
      "outputs": [],
      "source": [
        "data_dict = {'text': list_text, 'labels': list_labels}"
      ]
    },
    {
      "cell_type": "code",
      "execution_count": 71,
      "metadata": {
        "colab": {
          "base_uri": "https://localhost:8080/"
        },
        "id": "ncU5nmnx9l6f",
        "outputId": "8b16655e-110f-40dd-d48c-7cbb36e5c8ef"
      },
      "outputs": [
        {
          "output_type": "execute_result",
          "data": {
            "text/plain": [
              "Dataset({\n",
              "    features: ['text', 'labels'],\n",
              "    num_rows: 93480\n",
              "})"
            ]
          },
          "metadata": {},
          "execution_count": 71
        }
      ],
      "source": [
        "from datasets import Dataset\n",
        "ds = Dataset.from_dict(data_dict)\n",
        "ds"
      ]
    },
    {
      "cell_type": "code",
      "execution_count": 72,
      "metadata": {
        "colab": {
          "base_uri": "https://localhost:8080/"
        },
        "id": "hPyMFtSA9l6f",
        "outputId": "93e49de2-336d-4ae4-f0b7-ddf435c3c916"
      },
      "outputs": [
        {
          "output_type": "execute_result",
          "data": {
            "text/plain": [
              "DatasetDict({\n",
              "    train: Dataset({\n",
              "        features: ['text', 'labels'],\n",
              "        num_rows: 65436\n",
              "    })\n",
              "    test: Dataset({\n",
              "        features: ['text', 'labels'],\n",
              "        num_rows: 14022\n",
              "    })\n",
              "    valid: Dataset({\n",
              "        features: ['text', 'labels'],\n",
              "        num_rows: 14022\n",
              "    })\n",
              "})"
            ]
          },
          "metadata": {},
          "execution_count": 72
        }
      ],
      "source": [
        "from datasets import DatasetDict\n",
        "\n",
        "# 70% train, 30% test + validation\n",
        "ds_train_testvalid = ds.train_test_split(test_size=0.3, shuffle=True)\n",
        "\n",
        "# Split the 30% test + valid in half test, half valid\n",
        "ds_testvalid = ds_train_testvalid['test'].train_test_split(test_size=0.5)\n",
        "\n",
        "# gather everyone if you want to have a single DatasetDict\n",
        "ds_split = DatasetDict({\n",
        "    'train': ds_train_testvalid['train'],\n",
        "    'test': ds_testvalid['test'],\n",
        "    'valid': ds_testvalid['train']})\n",
        "\n",
        "ds_split"
      ]
    },
    {
      "cell_type": "code",
      "execution_count": 73,
      "metadata": {
        "id": "-hKVsiWT9l6f"
      },
      "outputs": [],
      "source": [
        "from transformers import AutoTokenizer\n",
        "tokenizer = AutoTokenizer.from_pretrained(\"distilbert-base-uncased\")"
      ]
    },
    {
      "cell_type": "code",
      "execution_count": 74,
      "metadata": {
        "colab": {
          "base_uri": "https://localhost:8080/",
          "height": 17,
          "referenced_widgets": [
            "1bfd35fe8a3f4d9cbc91adf7079ca21a",
            "a70325a883bc4779b9ad2d1d7e5bfbcd",
            "5da48a21ae1a4bd1abf58bbb37291cd4",
            "10703f6fbe1b4857b3837636506adb63",
            "c1b39eef10524ff39a47ad3f394e375d",
            "c444b3459d974d7ba0c77708842fc838",
            "048bbcaec7684caf911005a4d4b95df5",
            "8ffe556ef88a4435a22861bcd3d8f8b3",
            "6daefb7d010f40bfba888db18a277a5b",
            "2f7e22839ff34d15b7d05a3fdb220d3c",
            "79a5dca8fe8a451f9387668e722df25d",
            "0f79208e0cfa4e00a060179fd6f279f9",
            "3952b55d539f40debb551d1d0db46a38",
            "686ce7aa887a4abe8f438bc83fb489df",
            "83dae107875d430ca4ac4d398e2bc51d",
            "01dcc2a1411d4a5298f736ecf1f4576e",
            "828f8572d66c4264bac37d69f722d827",
            "16d86f5e111743a48d2f48f1fa1d77d4",
            "a1134b1a34b5473f8473de64dc6229a8",
            "9b84786707c34cb7a6d57386d6d7958f",
            "d4b700bbe6e64985bde564d3bbccc414",
            "efeb6f36cb9b40db8e6a591123de7628",
            "089584111a6d43d89772b537a31e9106",
            "4eecedeb7c344fd8874d35a530eb1d70",
            "d3ee956745834850b539009366c6b1e8",
            "3f36112399a44153b87246b2b0c8ac6e",
            "1d977ae2fa9d4f6b9fa1b541eccddf4d",
            "3248e241eb254bf28ec6f80b0b5b628f",
            "df20d91e35a74b2c9e738e44bbac5906",
            "afb1102c94294ba9877bc44863eb0ac4",
            "d5372c2472364329866c1c49e146613c",
            "cb1ae7e2c38c483d808c2292d74c7f2e",
            "2e630df361a046b7a63695e3cb9767e0"
          ]
        },
        "id": "LuyvGSi99l6f",
        "outputId": "ae78891f-fe5f-4b4b-a921-d43f2610416f"
      },
      "outputs": [
        {
          "output_type": "display_data",
          "data": {
            "text/plain": [
              "Map:   0%|          | 0/65436 [00:00<?, ? examples/s]"
            ],
            "application/vnd.jupyter.widget-view+json": {
              "version_major": 2,
              "version_minor": 0,
              "model_id": "1bfd35fe8a3f4d9cbc91adf7079ca21a"
            }
          },
          "metadata": {}
        },
        {
          "output_type": "display_data",
          "data": {
            "text/plain": [
              "Map:   0%|          | 0/14022 [00:00<?, ? examples/s]"
            ],
            "application/vnd.jupyter.widget-view+json": {
              "version_major": 2,
              "version_minor": 0,
              "model_id": "0f79208e0cfa4e00a060179fd6f279f9"
            }
          },
          "metadata": {}
        },
        {
          "output_type": "display_data",
          "data": {
            "text/plain": [
              "Map:   0%|          | 0/14022 [00:00<?, ? examples/s]"
            ],
            "application/vnd.jupyter.widget-view+json": {
              "version_major": 2,
              "version_minor": 0,
              "model_id": "089584111a6d43d89772b537a31e9106"
            }
          },
          "metadata": {}
        }
      ],
      "source": [
        "def preprocess_function(examples):\n",
        "    return tokenizer(examples[\"text\"], truncation=True)\n",
        "\n",
        "tokenized_ds_split = ds_split.map(preprocess_function, batched=True)"
      ]
    },
    {
      "cell_type": "code",
      "execution_count": 75,
      "metadata": {
        "id": "2W8UnijC9l6f"
      },
      "outputs": [],
      "source": [
        "from transformers import DataCollatorWithPadding\n",
        "\n",
        "data_collator = DataCollatorWithPadding(tokenizer=tokenizer, return_tensors=\"tf\")"
      ]
    },
    {
      "cell_type": "code",
      "execution_count": 76,
      "metadata": {
        "id": "Hy_bepCz9l6f"
      },
      "outputs": [],
      "source": [
        "import evaluate\n",
        "\n",
        "accuracy = evaluate.load(\"accuracy\")"
      ]
    },
    {
      "cell_type": "code",
      "execution_count": 77,
      "metadata": {
        "id": "xsq3d7qV9l6f"
      },
      "outputs": [],
      "source": [
        "def compute_metrics(eval_pred):\n",
        "    predictions, labels = eval_pred\n",
        "    predictions = np.argmax(predictions, axis=1)\n",
        "    return accuracy.compute(predictions=predictions, references=labels)"
      ]
    },
    {
      "cell_type": "code",
      "execution_count": 78,
      "metadata": {
        "id": "BgzfZpJA9l6f"
      },
      "outputs": [],
      "source": [
        "data_tmp = new_df[['Author', 'Author_Encoded']].groupby(['Author_Encoded']).min()\n",
        "\n",
        "id2label = data_tmp.to_dict()['Author']\n",
        "\n",
        "label2id = {v: k for k, v in id2label.items()}"
      ]
    },
    {
      "cell_type": "code",
      "source": [
        "import tensorflow as tf"
      ],
      "metadata": {
        "id": "PQjdXW2lAv-N"
      },
      "execution_count": 79,
      "outputs": []
    },
    {
      "cell_type": "code",
      "execution_count": 80,
      "metadata": {
        "id": "5bNu2la09l6f"
      },
      "outputs": [],
      "source": [
        "from transformers import create_optimizer\n",
        "\n",
        "batch_size = 32\n",
        "num_epochs = 20\n",
        "batches_per_epoch = len(tokenized_ds_split[\"train\"]) // batch_size\n",
        "total_train_steps = int(batches_per_epoch * num_epochs)\n",
        "optimizer, schedule = create_optimizer(init_lr=1e-5, num_warmup_steps=0, num_train_steps=total_train_steps)\n",
        "# optimizer = tf.keras.optimizers.legacy.Adam(3e-5)"
      ]
    },
    {
      "cell_type": "markdown",
      "source": [
        "#INIT & COMPILE MODE"
      ],
      "metadata": {
        "id": "HH6zsr3cd8iB"
      }
    },
    {
      "cell_type": "code",
      "execution_count": 81,
      "metadata": {
        "colab": {
          "base_uri": "https://localhost:8080/"
        },
        "id": "KFvgaKl09l6g",
        "outputId": "538ddfce-3dd5-4e06-8fb5-99920bc4409e"
      },
      "outputs": [
        {
          "output_type": "stream",
          "name": "stderr",
          "text": [
            "Some weights of the PyTorch model were not used when initializing the TF 2.0 model TFDistilBertForSequenceClassification: ['vocab_projector.bias', 'vocab_transform.weight', 'vocab_transform.bias', 'vocab_layer_norm.bias', 'vocab_layer_norm.weight']\n",
            "- This IS expected if you are initializing TFDistilBertForSequenceClassification from a PyTorch model trained on another task or with another architecture (e.g. initializing a TFBertForSequenceClassification model from a BertForPreTraining model).\n",
            "- This IS NOT expected if you are initializing TFDistilBertForSequenceClassification from a PyTorch model that you expect to be exactly identical (e.g. initializing a TFBertForSequenceClassification model from a BertForSequenceClassification model).\n",
            "Some weights or buffers of the TF 2.0 model TFDistilBertForSequenceClassification were not initialized from the PyTorch model and are newly initialized: ['pre_classifier.weight', 'pre_classifier.bias', 'classifier.weight', 'classifier.bias']\n",
            "You should probably TRAIN this model on a down-stream task to be able to use it for predictions and inference.\n"
          ]
        }
      ],
      "source": [
        "from transformers import TFAutoModelForSequenceClassification\n",
        "\n",
        "model = TFAutoModelForSequenceClassification.from_pretrained(\n",
        "    \"distilbert-base-uncased\", num_labels=40, id2label=id2label, label2id=label2id)\n",
        "\n",
        "# Set the classifier layer to be trainable\n",
        "model.classifier.trainable = True\n",
        "# Make the BERT layers non-trainable\n",
        "for layer in model.layers:\n",
        "    if \"bert\" in layer.name:\n",
        "        layer.trainable = False"
      ]
    },
    {
      "cell_type": "code",
      "execution_count": 82,
      "metadata": {
        "id": "snuCfkJM9l6g",
        "colab": {
          "base_uri": "https://localhost:8080/"
        },
        "outputId": "7fd15e94-0809-480e-892d-75d098a1340a"
      },
      "outputs": [
        {
          "output_type": "stream",
          "name": "stderr",
          "text": [
            "You're using a DistilBertTokenizerFast tokenizer. Please note that with a fast tokenizer, using the `__call__` method is faster than using a method to encode the text followed by a call to the `pad` method to get a padded encoding.\n"
          ]
        }
      ],
      "source": [
        "tf_train_set = model.prepare_tf_dataset(\n",
        "    tokenized_ds_split[\"train\"],\n",
        "    shuffle=True,\n",
        "    batch_size=32,\n",
        "    collate_fn=data_collator,\n",
        ")\n",
        "\n",
        "tf_validation_set = model.prepare_tf_dataset(\n",
        "    tokenized_ds_split[\"valid\"],\n",
        "    shuffle=False,\n",
        "    batch_size=32,\n",
        "    collate_fn=data_collator,\n",
        ")\n",
        "\n",
        "tf_test_set = model.prepare_tf_dataset(\n",
        "    tokenized_ds_split[\"test\"],\n",
        "    shuffle=False,\n",
        "    batch_size=32,\n",
        "    collate_fn=data_collator,\n",
        ")"
      ]
    },
    {
      "cell_type": "code",
      "source": [
        "tf_train_set, tf_validation_set"
      ],
      "metadata": {
        "colab": {
          "base_uri": "https://localhost:8080/"
        },
        "id": "r7Ud0_oHL22C",
        "outputId": "f3b7a45d-713d-4e6e-e4f4-4c552e520a85"
      },
      "execution_count": 83,
      "outputs": [
        {
          "output_type": "execute_result",
          "data": {
            "text/plain": [
              "(<_PrefetchDataset element_spec=({'input_ids': TensorSpec(shape=(32, None), dtype=tf.int64, name=None), 'attention_mask': TensorSpec(shape=(32, None), dtype=tf.int64, name=None)}, TensorSpec(shape=(32,), dtype=tf.int64, name=None))>,\n",
              " <_PrefetchDataset element_spec=({'input_ids': TensorSpec(shape=(None, None), dtype=tf.int64, name=None), 'attention_mask': TensorSpec(shape=(None, None), dtype=tf.int64, name=None)}, TensorSpec(shape=(None,), dtype=tf.int64, name=None))>)"
            ]
          },
          "metadata": {},
          "execution_count": 83
        }
      ]
    },
    {
      "cell_type": "code",
      "execution_count": 84,
      "metadata": {
        "id": "ChaKQH_c9l6g"
      },
      "outputs": [],
      "source": [
        "model.compile(loss='sparse_categorical_crossentropy',\n",
        "              optimizer=optimizer,\n",
        "              metrics=['accuracy'])"
      ]
    },
    {
      "cell_type": "code",
      "source": [
        "model.summary()"
      ],
      "metadata": {
        "colab": {
          "base_uri": "https://localhost:8080/"
        },
        "id": "I6iDf-NQC4_d",
        "outputId": "c0f2acbe-1553-4926-d821-e3a2f10f4db3"
      },
      "execution_count": 85,
      "outputs": [
        {
          "output_type": "stream",
          "name": "stdout",
          "text": [
            "Model: \"tf_distil_bert_for_sequence_classification_2\"\n",
            "_________________________________________________________________\n",
            " Layer (type)                Output Shape              Param #   \n",
            "=================================================================\n",
            " distilbert (TFDistilBertMai  multiple                 66362880  \n",
            " nLayer)                                                         \n",
            "                                                                 \n",
            " pre_classifier (Dense)      multiple                  590592    \n",
            "                                                                 \n",
            " classifier (Dense)          multiple                  30760     \n",
            "                                                                 \n",
            " dropout_59 (Dropout)        multiple                  0         \n",
            "                                                                 \n",
            "=================================================================\n",
            "Total params: 66,984,232\n",
            "Trainable params: 621,352\n",
            "Non-trainable params: 66,362,880\n",
            "_________________________________________________________________\n"
          ]
        }
      ]
    },
    {
      "cell_type": "markdown",
      "source": [
        "#CALLBACKS"
      ],
      "metadata": {
        "id": "9ety0U_Ed4vQ"
      }
    },
    {
      "cell_type": "code",
      "execution_count": 86,
      "metadata": {
        "id": "Zgj30rlk9l6g"
      },
      "outputs": [],
      "source": [
        "from keras.callbacks import EarlyStopping\n",
        "\n",
        "es = EarlyStopping(\n",
        "    monitor=\"val_accuracy\",\n",
        "    patience=10,\n",
        "    restore_best_weights=True,\n",
        "    verbose=1)\n",
        "\n",
        "from keras.callbacks import ModelCheckpoint\n",
        "\n",
        "checkpoint_path = \"/content/drive/MyDrive/Colab Notebooks/wagon/cp.ckpt\"\n",
        "checkpoint_dir = os.path.dirname(checkpoint_path)\n",
        "\n",
        "cp_callback = ModelCheckpoint(filepath=checkpoint_path,\n",
        "                              save_weights_only=True,\n",
        "                              verbose=1)\n",
        "\n",
        "from keras.callbacks import ReduceLROnPlateau\n",
        "\n",
        "reduce_lr = ReduceLROnPlateau(monitor='val_accuracy', factor=0.2,\n",
        "                              patience=3, min_lr=0.0000001)"
      ]
    },
    {
      "cell_type": "markdown",
      "source": [
        "#TRAIN MODEL"
      ],
      "metadata": {
        "id": "r0JQjHQ4d2ef"
      }
    },
    {
      "cell_type": "code",
      "execution_count": 87,
      "metadata": {
        "colab": {
          "base_uri": "https://localhost:8080/"
        },
        "id": "eKrnBlEU9l6g",
        "outputId": "b6482153-55b3-4fbd-ab49-ecce4b17ae0a"
      },
      "outputs": [
        {
          "output_type": "stream",
          "name": "stdout",
          "text": [
            "Epoch 1/20\n",
            "2044/2044 [==============================] - ETA: 0s - loss: 6.0322 - accuracy: 0.1200\n",
            "Epoch 1: saving model to /content/drive/MyDrive/Colab Notebooks/wagon/cp.ckpt\n",
            "2044/2044 [==============================] - 205s 97ms/step - loss: 6.0322 - accuracy: 0.1200 - val_loss: 3.9534 - val_accuracy: 0.3047 - lr: 9.5002e-06\n",
            "Epoch 2/20\n",
            "2044/2044 [==============================] - ETA: 0s - loss: 3.9122 - accuracy: 0.2512\n",
            "Epoch 2: saving model to /content/drive/MyDrive/Colab Notebooks/wagon/cp.ckpt\n",
            "2044/2044 [==============================] - 197s 96ms/step - loss: 3.9122 - accuracy: 0.2512 - val_loss: 3.1485 - val_accuracy: 0.4899 - lr: 9.0002e-06\n",
            "Epoch 3/20\n",
            "2044/2044 [==============================] - ETA: 0s - loss: 3.5179 - accuracy: 0.3528\n",
            "Epoch 3: saving model to /content/drive/MyDrive/Colab Notebooks/wagon/cp.ckpt\n",
            "2044/2044 [==============================] - 197s 96ms/step - loss: 3.5179 - accuracy: 0.3528 - val_loss: 2.8210 - val_accuracy: 0.5620 - lr: 8.5002e-06\n",
            "Epoch 4/20\n",
            "2044/2044 [==============================] - ETA: 0s - loss: 3.3440 - accuracy: 0.4401\n",
            "Epoch 4: saving model to /content/drive/MyDrive/Colab Notebooks/wagon/cp.ckpt\n",
            "2044/2044 [==============================] - 197s 96ms/step - loss: 3.3440 - accuracy: 0.4401 - val_loss: 2.6342 - val_accuracy: 0.6105 - lr: 8.0002e-06\n",
            "Epoch 5/20\n",
            "2044/2044 [==============================] - ETA: 0s - loss: 3.2620 - accuracy: 0.4729\n",
            "Epoch 5: saving model to /content/drive/MyDrive/Colab Notebooks/wagon/cp.ckpt\n",
            "2044/2044 [==============================] - 197s 96ms/step - loss: 3.2620 - accuracy: 0.4729 - val_loss: 2.6819 - val_accuracy: 0.5328 - lr: 7.5002e-06\n",
            "Epoch 6/20\n",
            "2044/2044 [==============================] - ETA: 0s - loss: 3.2031 - accuracy: 0.5002\n",
            "Epoch 6: saving model to /content/drive/MyDrive/Colab Notebooks/wagon/cp.ckpt\n",
            "2044/2044 [==============================] - 197s 96ms/step - loss: 3.2031 - accuracy: 0.5002 - val_loss: 2.5587 - val_accuracy: 0.6302 - lr: 7.0002e-06\n",
            "Epoch 7/20\n",
            "2044/2044 [==============================] - ETA: 0s - loss: 3.0919 - accuracy: 0.5389\n",
            "Epoch 7: saving model to /content/drive/MyDrive/Colab Notebooks/wagon/cp.ckpt\n",
            "2044/2044 [==============================] - 198s 97ms/step - loss: 3.0919 - accuracy: 0.5389 - val_loss: 2.3623 - val_accuracy: 0.6693 - lr: 6.5002e-06\n",
            "Epoch 8/20\n",
            "2044/2044 [==============================] - ETA: 0s - loss: 3.2378 - accuracy: 0.5549\n",
            "Epoch 8: saving model to /content/drive/MyDrive/Colab Notebooks/wagon/cp.ckpt\n",
            "2044/2044 [==============================] - 197s 97ms/step - loss: 3.2378 - accuracy: 0.5549 - val_loss: 2.7563 - val_accuracy: 0.5796 - lr: 6.0002e-06\n",
            "Epoch 9/20\n",
            "2044/2044 [==============================] - ETA: 0s - loss: 3.3328 - accuracy: 0.5436\n",
            "Epoch 9: saving model to /content/drive/MyDrive/Colab Notebooks/wagon/cp.ckpt\n",
            "2044/2044 [==============================] - 198s 97ms/step - loss: 3.3328 - accuracy: 0.5436 - val_loss: 2.7140 - val_accuracy: 0.6843 - lr: 5.5002e-06\n",
            "Epoch 10/20\n",
            "2044/2044 [==============================] - ETA: 0s - loss: 3.2012 - accuracy: 0.5388\n",
            "Epoch 10: saving model to /content/drive/MyDrive/Colab Notebooks/wagon/cp.ckpt\n",
            "2044/2044 [==============================] - 198s 97ms/step - loss: 3.2012 - accuracy: 0.5388 - val_loss: 3.1205 - val_accuracy: 0.6583 - lr: 5.0002e-06\n",
            "Epoch 11/20\n",
            "2044/2044 [==============================] - ETA: 0s - loss: 3.2931 - accuracy: 0.5061\n",
            "Epoch 11: saving model to /content/drive/MyDrive/Colab Notebooks/wagon/cp.ckpt\n",
            "2044/2044 [==============================] - 197s 96ms/step - loss: 3.2931 - accuracy: 0.5061 - val_loss: 3.3191 - val_accuracy: 0.6120 - lr: 4.5002e-06\n",
            "Epoch 12/20\n",
            "2044/2044 [==============================] - ETA: 0s - loss: 3.3801 - accuracy: 0.4587\n",
            "Epoch 12: saving model to /content/drive/MyDrive/Colab Notebooks/wagon/cp.ckpt\n",
            "2044/2044 [==============================] - 197s 96ms/step - loss: 3.3801 - accuracy: 0.4587 - val_loss: 3.3296 - val_accuracy: 0.5761 - lr: 4.0002e-06\n",
            "Epoch 13/20\n",
            "2044/2044 [==============================] - ETA: 0s - loss: 3.3837 - accuracy: 0.4371\n",
            "Epoch 13: saving model to /content/drive/MyDrive/Colab Notebooks/wagon/cp.ckpt\n",
            "2044/2044 [==============================] - 197s 96ms/step - loss: 3.3837 - accuracy: 0.4371 - val_loss: 3.2669 - val_accuracy: 0.5681 - lr: 3.5002e-06\n",
            "Epoch 14/20\n",
            "2044/2044 [==============================] - ETA: 0s - loss: 3.3266 - accuracy: 0.4496\n",
            "Epoch 14: saving model to /content/drive/MyDrive/Colab Notebooks/wagon/cp.ckpt\n",
            "2044/2044 [==============================] - 197s 96ms/step - loss: 3.3266 - accuracy: 0.4496 - val_loss: 3.2365 - val_accuracy: 0.5730 - lr: 3.0002e-06\n",
            "Epoch 15/20\n",
            "2044/2044 [==============================] - ETA: 0s - loss: 3.2756 - accuracy: 0.4574\n",
            "Epoch 15: saving model to /content/drive/MyDrive/Colab Notebooks/wagon/cp.ckpt\n",
            "2044/2044 [==============================] - 197s 96ms/step - loss: 3.2756 - accuracy: 0.4574 - val_loss: 3.2101 - val_accuracy: 0.5954 - lr: 2.5002e-06\n",
            "Epoch 16/20\n",
            "2044/2044 [==============================] - ETA: 0s - loss: 3.2428 - accuracy: 0.4628\n",
            "Epoch 16: saving model to /content/drive/MyDrive/Colab Notebooks/wagon/cp.ckpt\n",
            "2044/2044 [==============================] - 197s 96ms/step - loss: 3.2428 - accuracy: 0.4628 - val_loss: 3.1620 - val_accuracy: 0.5864 - lr: 2.0002e-06\n",
            "Epoch 17/20\n",
            "2044/2044 [==============================] - ETA: 0s - loss: 3.2609 - accuracy: 0.4622\n",
            "Epoch 17: saving model to /content/drive/MyDrive/Colab Notebooks/wagon/cp.ckpt\n",
            "2044/2044 [==============================] - 197s 96ms/step - loss: 3.2609 - accuracy: 0.4622 - val_loss: 3.1738 - val_accuracy: 0.5882 - lr: 1.5002e-06\n",
            "Epoch 18/20\n",
            "2044/2044 [==============================] - ETA: 0s - loss: 3.2460 - accuracy: 0.4576\n",
            "Epoch 18: saving model to /content/drive/MyDrive/Colab Notebooks/wagon/cp.ckpt\n",
            "2044/2044 [==============================] - 197s 96ms/step - loss: 3.2460 - accuracy: 0.4576 - val_loss: 3.1725 - val_accuracy: 0.5896 - lr: 1.0002e-06\n",
            "Epoch 19/20\n",
            "2044/2044 [==============================] - ETA: 0s - loss: 3.2512 - accuracy: 0.4598Restoring model weights from the end of the best epoch: 9.\n",
            "\n",
            "Epoch 19: saving model to /content/drive/MyDrive/Colab Notebooks/wagon/cp.ckpt\n",
            "2044/2044 [==============================] - 197s 96ms/step - loss: 3.2512 - accuracy: 0.4598 - val_loss: 3.1749 - val_accuracy: 0.5929 - lr: 5.0024e-07\n",
            "Epoch 19: early stopping\n"
          ]
        }
      ],
      "source": [
        "history = model.fit(x=tf_train_set, validation_data=tf_validation_set, epochs=20, callbacks=[es, cp_callback, reduce_lr], verbose=1)"
      ]
    },
    {
      "cell_type": "code",
      "source": [
        "model.evaluate(tf_test_set, verbose=1)"
      ],
      "metadata": {
        "colab": {
          "base_uri": "https://localhost:8080/"
        },
        "id": "f8hvx2v4N-g-",
        "outputId": "4f799d3f-506b-4941-f6ee-bb231090325e"
      },
      "execution_count": 88,
      "outputs": [
        {
          "output_type": "stream",
          "name": "stdout",
          "text": [
            "439/439 [==============================] - 30s 69ms/step - loss: 2.6625 - accuracy: 0.6893\n"
          ]
        },
        {
          "output_type": "execute_result",
          "data": {
            "text/plain": [
              "[2.662482976913452, 0.6893453001976013]"
            ]
          },
          "metadata": {},
          "execution_count": 88
        }
      ]
    },
    {
      "cell_type": "markdown",
      "source": [
        "#SAVE MODEL"
      ],
      "metadata": {
        "id": "mboefL10dzU4"
      }
    },
    {
      "cell_type": "code",
      "source": [
        "model.save_pretrained('/content/drive/MyDrive/Colab Notebooks/wagon/gutenBERT_model6', save_format=\"tf\")"
      ],
      "metadata": {
        "id": "ub2D7fncTz6Z"
      },
      "execution_count": 89,
      "outputs": []
    },
    {
      "cell_type": "code",
      "source": [
        "tokenizer.save_pretrained('/content/drive/MyDrive/Colab Notebooks/wagon/gutenBERT_tokenizer6')"
      ],
      "metadata": {
        "colab": {
          "base_uri": "https://localhost:8080/"
        },
        "id": "4je0cOdHBPTo",
        "outputId": "abd8aab6-beae-4c75-edb1-86a0f844dfd3"
      },
      "execution_count": 90,
      "outputs": [
        {
          "output_type": "execute_result",
          "data": {
            "text/plain": [
              "('/content/drive/MyDrive/Colab Notebooks/wagon/gutenBERT_tokenizer6/tokenizer_config.json',\n",
              " '/content/drive/MyDrive/Colab Notebooks/wagon/gutenBERT_tokenizer6/special_tokens_map.json',\n",
              " '/content/drive/MyDrive/Colab Notebooks/wagon/gutenBERT_tokenizer6/vocab.txt',\n",
              " '/content/drive/MyDrive/Colab Notebooks/wagon/gutenBERT_tokenizer6/added_tokens.json',\n",
              " '/content/drive/MyDrive/Colab Notebooks/wagon/gutenBERT_tokenizer6/tokenizer.json')"
            ]
          },
          "metadata": {},
          "execution_count": 90
        }
      ]
    },
    {
      "cell_type": "markdown",
      "source": [
        "#LOAD MODEL"
      ],
      "metadata": {
        "id": "JBSSFU1AdFpl"
      }
    },
    {
      "cell_type": "code",
      "source": [
        "from transformers import TextClassificationPipeline\n",
        "\n",
        "predict_model = TFAutoModelForSequenceClassification.from_pretrained('/content/drive/MyDrive/Colab Notebooks/wagon/gutenBERT_model6')\n",
        "predict_tokenizer = AutoTokenizer.from_pretrained('/content/drive/MyDrive/Colab Notebooks/wagon/gutenBERT_tokenizer6')\n",
        "\n",
        "pipe = TextClassificationPipeline(model=predict_model, tokenizer=predict_tokenizer, return_all_scores=True)\n",
        "\n",
        "# outputs a list of dicts like [[{'label': 'NEGATIVE', 'score': 0.0001223755971295759},  {'label': 'POSITIVE', 'score': 0.9998776316642761}]]\n",
        "# pipe(text)"
      ],
      "metadata": {
        "colab": {
          "base_uri": "https://localhost:8080/"
        },
        "id": "ujB_6H6_YIIF",
        "outputId": "6ca279c4-420b-40e4-ea7d-0484b1f6ed9b"
      },
      "execution_count": 109,
      "outputs": [
        {
          "output_type": "stream",
          "name": "stderr",
          "text": [
            "Some layers from the model checkpoint at /content/drive/MyDrive/Colab Notebooks/wagon/gutenBERT_model6 were not used when initializing TFDistilBertForSequenceClassification: ['dropout_59']\n",
            "- This IS expected if you are initializing TFDistilBertForSequenceClassification from the checkpoint of a model trained on another task or with another architecture (e.g. initializing a BertForSequenceClassification model from a BertForPreTraining model).\n",
            "- This IS NOT expected if you are initializing TFDistilBertForSequenceClassification from the checkpoint of a model that you expect to be exactly identical (initializing a BertForSequenceClassification model from a BertForSequenceClassification model).\n",
            "Some layers of TFDistilBertForSequenceClassification were not initialized from the model checkpoint at /content/drive/MyDrive/Colab Notebooks/wagon/gutenBERT_model6 and are newly initialized: ['dropout_159']\n",
            "You should probably TRAIN this model on a down-stream task to be able to use it for predictions and inference.\n"
          ]
        }
      ]
    },
    {
      "cell_type": "markdown",
      "source": [
        "#TEXT TO PREDICT"
      ],
      "metadata": {
        "id": "7C4tWbEGdaNJ"
      }
    },
    {
      "cell_type": "code",
      "source": [
        "text = '''\"To thine own self be true,\n",
        "And it must follow, as the night the day,\n",
        "Thou canst not then be false to any man.\n",
        "Farewell, my blessing season this in thee!'''"
      ],
      "metadata": {
        "id": "ynzDWh0oeueR"
      },
      "execution_count": 123,
      "outputs": []
    },
    {
      "cell_type": "markdown",
      "source": [
        "#PREDICT - 1ST WAY"
      ],
      "metadata": {
        "id": "Azccd8T6dOy1"
      }
    },
    {
      "cell_type": "code",
      "source": [
        "pipe.__call__(text, top_k=3)"
      ],
      "metadata": {
        "colab": {
          "base_uri": "https://localhost:8080/"
        },
        "id": "k4LdAvxNbBsA",
        "outputId": "9ddc2e69-d1b9-4aa3-c933-a732f5d254d8"
      },
      "execution_count": 124,
      "outputs": [
        {
          "output_type": "execute_result",
          "data": {
            "text/plain": [
              "[{'label': 'Whittier John Greenleaf', 'score': 0.031478121876716614},\n",
              " {'label': 'Shakespeare William', 'score': 0.030998889356851578},\n",
              " {'label': 'Browning Robert', 'score': 0.030318431556224823}]"
            ]
          },
          "metadata": {},
          "execution_count": 124
        }
      ]
    },
    {
      "cell_type": "markdown",
      "source": [
        "#PREDICT - 2ND WAY"
      ],
      "metadata": {
        "id": "cArCS5HUdc7n"
      }
    },
    {
      "cell_type": "code",
      "source": [
        "inputs = predict_tokenizer(text, return_tensors=\"tf\")\n",
        "logits = predict_model(**inputs).logits\n",
        "\n",
        "predicted_class_id = int(tf.math.argmax(logits, axis=-1)[0])\n",
        "predict_model.config.id2label[predicted_class_id]"
      ],
      "metadata": {
        "colab": {
          "base_uri": "https://localhost:8080/",
          "height": 35
        },
        "id": "Lvs9e8GVZMCU",
        "outputId": "2626f3b8-108b-48c1-df43-d88bfd83c514"
      },
      "execution_count": 125,
      "outputs": [
        {
          "output_type": "execute_result",
          "data": {
            "text/plain": [
              "'Whittier John Greenleaf'"
            ],
            "application/vnd.google.colaboratory.intrinsic+json": {
              "type": "string"
            }
          },
          "metadata": {},
          "execution_count": 125
        }
      ]
    },
    {
      "cell_type": "markdown",
      "source": [
        "#PREDICT - 3RD WAY"
      ],
      "metadata": {
        "id": "89KtL3AEdhJQ"
      }
    },
    {
      "cell_type": "code",
      "source": [
        "# Task 1: Create a dictionary with labels and scores\n",
        "labels_scores_dict = {item['label']: item['score'] for sublist in pipe(text) for item in sublist}\n",
        "\n",
        "# Task 2: Order the dictionary by score\n",
        "sorted_dict = dict(sorted(labels_scores_dict.items(), key=lambda x: x[1], reverse=True))\n",
        "\n",
        "# Task 3: Print the top 3 labels\n",
        "count = 0\n",
        "for label, score in sorted_dict.items():\n",
        "    print(f\"{label}: {score}\")\n",
        "    count += 1\n",
        "    if count == 3:\n",
        "        break"
      ],
      "metadata": {
        "colab": {
          "base_uri": "https://localhost:8080/"
        },
        "id": "tMj_HBoDex2I",
        "outputId": "af63242d-577b-4cdd-e624-cac0177e988f"
      },
      "execution_count": 127,
      "outputs": [
        {
          "output_type": "stream",
          "name": "stdout",
          "text": [
            "Whittier John Greenleaf: 0.031478121876716614\n",
            "Shakespeare William: 0.030998889356851578\n",
            "Browning Robert: 0.030318431556224823\n"
          ]
        }
      ]
    },
    {
      "cell_type": "markdown",
      "source": [
        "#PREDICT PIPELINES FOR OTHER MODELS\n",
        "##(weird cause same result)"
      ],
      "metadata": {
        "id": "D2mZrbQqdmHK"
      }
    },
    {
      "cell_type": "code",
      "source": [
        "model3 = TFAutoModelForSequenceClassification.from_pretrained('/content/drive/MyDrive/Colab Notebooks/wagon/gutenBERT_model3')\n",
        "tokenizer3 = AutoTokenizer.from_pretrained('/content/drive/MyDrive/Colab Notebooks/wagon/gutenBERT_tokenizer3')\n",
        "\n",
        "pipe3 = TextClassificationPipeline(model=predict_model, tokenizer=predict_tokenizer, return_all_scores=True)"
      ],
      "metadata": {
        "colab": {
          "base_uri": "https://localhost:8080/"
        },
        "id": "Q3Y645M6U0C6",
        "outputId": "171d95f5-b8da-4c6d-901f-d152d552fdbd"
      },
      "execution_count": 128,
      "outputs": [
        {
          "output_type": "stream",
          "name": "stderr",
          "text": [
            "Some layers from the model checkpoint at /content/drive/MyDrive/Colab Notebooks/wagon/gutenBERT_model3 were not used when initializing TFDistilBertForSequenceClassification: ['dropout_195']\n",
            "- This IS expected if you are initializing TFDistilBertForSequenceClassification from the checkpoint of a model trained on another task or with another architecture (e.g. initializing a BertForSequenceClassification model from a BertForPreTraining model).\n",
            "- This IS NOT expected if you are initializing TFDistilBertForSequenceClassification from the checkpoint of a model that you expect to be exactly identical (initializing a BertForSequenceClassification model from a BertForSequenceClassification model).\n",
            "Some layers of TFDistilBertForSequenceClassification were not initialized from the model checkpoint at /content/drive/MyDrive/Colab Notebooks/wagon/gutenBERT_model3 and are newly initialized: ['dropout_199']\n",
            "You should probably TRAIN this model on a down-stream task to be able to use it for predictions and inference.\n",
            "/usr/local/lib/python3.10/dist-packages/transformers/pipelines/text_classification.py:104: UserWarning: `return_all_scores` is now deprecated,  if want a similar funcionality use `top_k=None` instead of `return_all_scores=True` or `top_k=1` instead of `return_all_scores=False`.\n",
            "  warnings.warn(\n"
          ]
        }
      ]
    },
    {
      "cell_type": "code",
      "source": [
        "# Task 1: Create a dictionary with labels and scores\n",
        "labels_scores_dict3 = {item['label']: item['score'] for sublist in pipe3(text) for item in sublist}\n",
        "\n",
        "# Task 2: Order the dictionary by score\n",
        "sorted_dict3 = dict(sorted(labels_scores_dict3.items(), key=lambda x: x[1], reverse=True))\n",
        "\n",
        "# Task 3: Print the top 3 labels\n",
        "count = 0\n",
        "for label, score in sorted_dict3.items():\n",
        "    print(f\"{label}: {score}\")\n",
        "    count += 1\n",
        "    if count == 3:\n",
        "        break"
      ],
      "metadata": {
        "colab": {
          "base_uri": "https://localhost:8080/"
        },
        "id": "EUPyPO93Uv1m",
        "outputId": "2fc59b42-bc44-4f8c-ccfb-eba3f0ea2b40"
      },
      "execution_count": 129,
      "outputs": [
        {
          "output_type": "stream",
          "name": "stdout",
          "text": [
            "Whittier John Greenleaf: 0.031478121876716614\n",
            "Shakespeare William: 0.030998889356851578\n",
            "Browning Robert: 0.030318431556224823\n"
          ]
        }
      ]
    },
    {
      "cell_type": "code",
      "source": [
        "model4 = TFAutoModelForSequenceClassification.from_pretrained('/content/drive/MyDrive/Colab Notebooks/wagon/gutenBERT_model4')\n",
        "tokenizer4 = AutoTokenizer.from_pretrained('/content/drive/MyDrive/Colab Notebooks/wagon/gutenBERT_tokenizer4')\n",
        "\n",
        "pipe4 = TextClassificationPipeline(model=predict_model, tokenizer=predict_tokenizer, return_all_scores=True)"
      ],
      "metadata": {
        "colab": {
          "base_uri": "https://localhost:8080/"
        },
        "id": "6AgtUXmdWVbJ",
        "outputId": "54579b07-aea8-40fd-d174-6dc44e9a9a00"
      },
      "execution_count": 105,
      "outputs": [
        {
          "output_type": "stream",
          "name": "stderr",
          "text": [
            "Some layers from the model checkpoint at /content/drive/MyDrive/Colab Notebooks/wagon/gutenBERT_model4 were not used when initializing TFDistilBertForSequenceClassification: ['dropout_235']\n",
            "- This IS expected if you are initializing TFDistilBertForSequenceClassification from the checkpoint of a model trained on another task or with another architecture (e.g. initializing a BertForSequenceClassification model from a BertForPreTraining model).\n",
            "- This IS NOT expected if you are initializing TFDistilBertForSequenceClassification from the checkpoint of a model that you expect to be exactly identical (initializing a BertForSequenceClassification model from a BertForSequenceClassification model).\n",
            "Some layers of TFDistilBertForSequenceClassification were not initialized from the model checkpoint at /content/drive/MyDrive/Colab Notebooks/wagon/gutenBERT_model4 and are newly initialized: ['dropout_119']\n",
            "You should probably TRAIN this model on a down-stream task to be able to use it for predictions and inference.\n"
          ]
        }
      ]
    },
    {
      "cell_type": "code",
      "source": [
        "# Task 1: Create a dictionary with labels and scores\n",
        "labels_scores_dict4 = {item['label']: item['score'] for sublist in pipe4(text) for item in sublist}\n",
        "\n",
        "# Task 2: Order the dictionary by score\n",
        "sorted_dict4 = dict(sorted(labels_scores_dict4.items(), key=lambda x: x[1], reverse=True))\n",
        "\n",
        "# Task 3: Print the top 3 labels\n",
        "count = 0\n",
        "for label, score in sorted_dict4.items():\n",
        "    print(f\"{label}: {score}\")\n",
        "    count += 1\n",
        "    if count == 3:\n",
        "        break"
      ],
      "metadata": {
        "colab": {
          "base_uri": "https://localhost:8080/"
        },
        "id": "oHtvNB4FWaPv",
        "outputId": "dc7c6cdc-b861-4912-ccc1-cdbbc0d16523"
      },
      "execution_count": 106,
      "outputs": [
        {
          "output_type": "stream",
          "name": "stdout",
          "text": [
            "Whittier John Greenleaf: 0.03318120166659355\n",
            "Shelley Percy Bysshe: 0.03157760947942734\n",
            "Holmes Oliver Wendell: 0.03010241873562336\n"
          ]
        }
      ]
    },
    {
      "cell_type": "code",
      "source": [
        "model5 = TFAutoModelForSequenceClassification.from_pretrained('/content/drive/MyDrive/Colab Notebooks/wagon/gutenBERT_model5')\n",
        "tokenizer5 = AutoTokenizer.from_pretrained('/content/drive/MyDrive/Colab Notebooks/wagon/gutenBERT_tokenizer5')\n",
        "\n",
        "pipe5 = TextClassificationPipeline(model=predict_model, tokenizer=predict_tokenizer, return_all_scores=True)"
      ],
      "metadata": {
        "colab": {
          "base_uri": "https://localhost:8080/"
        },
        "id": "RVi7LETQWefR",
        "outputId": "75a7964f-4085-4ccd-f7b2-7e3e34ac52f4"
      },
      "execution_count": 107,
      "outputs": [
        {
          "output_type": "stream",
          "name": "stderr",
          "text": [
            "Some layers from the model checkpoint at /content/drive/MyDrive/Colab Notebooks/wagon/gutenBERT_model5 were not used when initializing TFDistilBertForSequenceClassification: ['dropout_19']\n",
            "- This IS expected if you are initializing TFDistilBertForSequenceClassification from the checkpoint of a model trained on another task or with another architecture (e.g. initializing a BertForSequenceClassification model from a BertForPreTraining model).\n",
            "- This IS NOT expected if you are initializing TFDistilBertForSequenceClassification from the checkpoint of a model that you expect to be exactly identical (initializing a BertForSequenceClassification model from a BertForSequenceClassification model).\n",
            "Some layers of TFDistilBertForSequenceClassification were not initialized from the model checkpoint at /content/drive/MyDrive/Colab Notebooks/wagon/gutenBERT_model5 and are newly initialized: ['dropout_139']\n",
            "You should probably TRAIN this model on a down-stream task to be able to use it for predictions and inference.\n"
          ]
        }
      ]
    },
    {
      "cell_type": "code",
      "source": [
        "# Task 1: Create a dictionary with labels and scores\n",
        "labels_scores_dict5 = {item['label']: item['score'] for sublist in pipe5(text) for item in sublist}\n",
        "\n",
        "# Task 2: Order the dictionary by score\n",
        "sorted_dict5 = dict(sorted(labels_scores_dict.items(), key=lambda x: x[1], reverse=True))\n",
        "\n",
        "# Task 3: Print the top 3 labels\n",
        "count = 0\n",
        "for label, score in sorted_dict5.items():\n",
        "    print(f\"{label}: {score}\")\n",
        "    count += 1\n",
        "    if count == 3:\n",
        "        break"
      ],
      "metadata": {
        "colab": {
          "base_uri": "https://localhost:8080/"
        },
        "id": "6XBAajFsWhXf",
        "outputId": "09bbeb89-a930-4076-8e32-c82073e4dadf"
      },
      "execution_count": 108,
      "outputs": [
        {
          "output_type": "stream",
          "name": "stdout",
          "text": [
            "Whittier John Greenleaf: 0.03318120166659355\n",
            "Shelley Percy Bysshe: 0.03157760947942734\n",
            "Holmes Oliver Wendell: 0.03010241873562336\n"
          ]
        }
      ]
    }
  ],
  "metadata": {
    "kernelspec": {
      "display_name": "Python 3",
      "name": "python3"
    },
    "language_info": {
      "codemirror_mode": {
        "name": "ipython",
        "version": 3
      },
      "file_extension": ".py",
      "mimetype": "text/x-python",
      "name": "python",
      "nbconvert_exporter": "python",
      "pygments_lexer": "ipython3",
      "version": "3.10.6"
    },
    "orig_nbformat": 4,
    "colab": {
      "provenance": [],
      "gpuType": "A100",
      "machine_shape": "hm"
    },
    "widgets": {
      "application/vnd.jupyter.widget-state+json": {
        "1bfd35fe8a3f4d9cbc91adf7079ca21a": {
          "model_module": "@jupyter-widgets/controls",
          "model_name": "HBoxModel",
          "model_module_version": "1.5.0",
          "state": {
            "_dom_classes": [],
            "_model_module": "@jupyter-widgets/controls",
            "_model_module_version": "1.5.0",
            "_model_name": "HBoxModel",
            "_view_count": null,
            "_view_module": "@jupyter-widgets/controls",
            "_view_module_version": "1.5.0",
            "_view_name": "HBoxView",
            "box_style": "",
            "children": [
              "IPY_MODEL_a70325a883bc4779b9ad2d1d7e5bfbcd",
              "IPY_MODEL_5da48a21ae1a4bd1abf58bbb37291cd4",
              "IPY_MODEL_10703f6fbe1b4857b3837636506adb63"
            ],
            "layout": "IPY_MODEL_c1b39eef10524ff39a47ad3f394e375d"
          }
        },
        "a70325a883bc4779b9ad2d1d7e5bfbcd": {
          "model_module": "@jupyter-widgets/controls",
          "model_name": "HTMLModel",
          "model_module_version": "1.5.0",
          "state": {
            "_dom_classes": [],
            "_model_module": "@jupyter-widgets/controls",
            "_model_module_version": "1.5.0",
            "_model_name": "HTMLModel",
            "_view_count": null,
            "_view_module": "@jupyter-widgets/controls",
            "_view_module_version": "1.5.0",
            "_view_name": "HTMLView",
            "description": "",
            "description_tooltip": null,
            "layout": "IPY_MODEL_c444b3459d974d7ba0c77708842fc838",
            "placeholder": "​",
            "style": "IPY_MODEL_048bbcaec7684caf911005a4d4b95df5",
            "value": "Map: 100%"
          }
        },
        "5da48a21ae1a4bd1abf58bbb37291cd4": {
          "model_module": "@jupyter-widgets/controls",
          "model_name": "FloatProgressModel",
          "model_module_version": "1.5.0",
          "state": {
            "_dom_classes": [],
            "_model_module": "@jupyter-widgets/controls",
            "_model_module_version": "1.5.0",
            "_model_name": "FloatProgressModel",
            "_view_count": null,
            "_view_module": "@jupyter-widgets/controls",
            "_view_module_version": "1.5.0",
            "_view_name": "ProgressView",
            "bar_style": "",
            "description": "",
            "description_tooltip": null,
            "layout": "IPY_MODEL_8ffe556ef88a4435a22861bcd3d8f8b3",
            "max": 65436,
            "min": 0,
            "orientation": "horizontal",
            "style": "IPY_MODEL_6daefb7d010f40bfba888db18a277a5b",
            "value": 65436
          }
        },
        "10703f6fbe1b4857b3837636506adb63": {
          "model_module": "@jupyter-widgets/controls",
          "model_name": "HTMLModel",
          "model_module_version": "1.5.0",
          "state": {
            "_dom_classes": [],
            "_model_module": "@jupyter-widgets/controls",
            "_model_module_version": "1.5.0",
            "_model_name": "HTMLModel",
            "_view_count": null,
            "_view_module": "@jupyter-widgets/controls",
            "_view_module_version": "1.5.0",
            "_view_name": "HTMLView",
            "description": "",
            "description_tooltip": null,
            "layout": "IPY_MODEL_2f7e22839ff34d15b7d05a3fdb220d3c",
            "placeholder": "​",
            "style": "IPY_MODEL_79a5dca8fe8a451f9387668e722df25d",
            "value": " 65436/65436 [00:21&lt;00:00, 2844.20 examples/s]"
          }
        },
        "c1b39eef10524ff39a47ad3f394e375d": {
          "model_module": "@jupyter-widgets/base",
          "model_name": "LayoutModel",
          "model_module_version": "1.2.0",
          "state": {
            "_model_module": "@jupyter-widgets/base",
            "_model_module_version": "1.2.0",
            "_model_name": "LayoutModel",
            "_view_count": null,
            "_view_module": "@jupyter-widgets/base",
            "_view_module_version": "1.2.0",
            "_view_name": "LayoutView",
            "align_content": null,
            "align_items": null,
            "align_self": null,
            "border": null,
            "bottom": null,
            "display": null,
            "flex": null,
            "flex_flow": null,
            "grid_area": null,
            "grid_auto_columns": null,
            "grid_auto_flow": null,
            "grid_auto_rows": null,
            "grid_column": null,
            "grid_gap": null,
            "grid_row": null,
            "grid_template_areas": null,
            "grid_template_columns": null,
            "grid_template_rows": null,
            "height": null,
            "justify_content": null,
            "justify_items": null,
            "left": null,
            "margin": null,
            "max_height": null,
            "max_width": null,
            "min_height": null,
            "min_width": null,
            "object_fit": null,
            "object_position": null,
            "order": null,
            "overflow": null,
            "overflow_x": null,
            "overflow_y": null,
            "padding": null,
            "right": null,
            "top": null,
            "visibility": "hidden",
            "width": null
          }
        },
        "c444b3459d974d7ba0c77708842fc838": {
          "model_module": "@jupyter-widgets/base",
          "model_name": "LayoutModel",
          "model_module_version": "1.2.0",
          "state": {
            "_model_module": "@jupyter-widgets/base",
            "_model_module_version": "1.2.0",
            "_model_name": "LayoutModel",
            "_view_count": null,
            "_view_module": "@jupyter-widgets/base",
            "_view_module_version": "1.2.0",
            "_view_name": "LayoutView",
            "align_content": null,
            "align_items": null,
            "align_self": null,
            "border": null,
            "bottom": null,
            "display": null,
            "flex": null,
            "flex_flow": null,
            "grid_area": null,
            "grid_auto_columns": null,
            "grid_auto_flow": null,
            "grid_auto_rows": null,
            "grid_column": null,
            "grid_gap": null,
            "grid_row": null,
            "grid_template_areas": null,
            "grid_template_columns": null,
            "grid_template_rows": null,
            "height": null,
            "justify_content": null,
            "justify_items": null,
            "left": null,
            "margin": null,
            "max_height": null,
            "max_width": null,
            "min_height": null,
            "min_width": null,
            "object_fit": null,
            "object_position": null,
            "order": null,
            "overflow": null,
            "overflow_x": null,
            "overflow_y": null,
            "padding": null,
            "right": null,
            "top": null,
            "visibility": null,
            "width": null
          }
        },
        "048bbcaec7684caf911005a4d4b95df5": {
          "model_module": "@jupyter-widgets/controls",
          "model_name": "DescriptionStyleModel",
          "model_module_version": "1.5.0",
          "state": {
            "_model_module": "@jupyter-widgets/controls",
            "_model_module_version": "1.5.0",
            "_model_name": "DescriptionStyleModel",
            "_view_count": null,
            "_view_module": "@jupyter-widgets/base",
            "_view_module_version": "1.2.0",
            "_view_name": "StyleView",
            "description_width": ""
          }
        },
        "8ffe556ef88a4435a22861bcd3d8f8b3": {
          "model_module": "@jupyter-widgets/base",
          "model_name": "LayoutModel",
          "model_module_version": "1.2.0",
          "state": {
            "_model_module": "@jupyter-widgets/base",
            "_model_module_version": "1.2.0",
            "_model_name": "LayoutModel",
            "_view_count": null,
            "_view_module": "@jupyter-widgets/base",
            "_view_module_version": "1.2.0",
            "_view_name": "LayoutView",
            "align_content": null,
            "align_items": null,
            "align_self": null,
            "border": null,
            "bottom": null,
            "display": null,
            "flex": null,
            "flex_flow": null,
            "grid_area": null,
            "grid_auto_columns": null,
            "grid_auto_flow": null,
            "grid_auto_rows": null,
            "grid_column": null,
            "grid_gap": null,
            "grid_row": null,
            "grid_template_areas": null,
            "grid_template_columns": null,
            "grid_template_rows": null,
            "height": null,
            "justify_content": null,
            "justify_items": null,
            "left": null,
            "margin": null,
            "max_height": null,
            "max_width": null,
            "min_height": null,
            "min_width": null,
            "object_fit": null,
            "object_position": null,
            "order": null,
            "overflow": null,
            "overflow_x": null,
            "overflow_y": null,
            "padding": null,
            "right": null,
            "top": null,
            "visibility": null,
            "width": null
          }
        },
        "6daefb7d010f40bfba888db18a277a5b": {
          "model_module": "@jupyter-widgets/controls",
          "model_name": "ProgressStyleModel",
          "model_module_version": "1.5.0",
          "state": {
            "_model_module": "@jupyter-widgets/controls",
            "_model_module_version": "1.5.0",
            "_model_name": "ProgressStyleModel",
            "_view_count": null,
            "_view_module": "@jupyter-widgets/base",
            "_view_module_version": "1.2.0",
            "_view_name": "StyleView",
            "bar_color": null,
            "description_width": ""
          }
        },
        "2f7e22839ff34d15b7d05a3fdb220d3c": {
          "model_module": "@jupyter-widgets/base",
          "model_name": "LayoutModel",
          "model_module_version": "1.2.0",
          "state": {
            "_model_module": "@jupyter-widgets/base",
            "_model_module_version": "1.2.0",
            "_model_name": "LayoutModel",
            "_view_count": null,
            "_view_module": "@jupyter-widgets/base",
            "_view_module_version": "1.2.0",
            "_view_name": "LayoutView",
            "align_content": null,
            "align_items": null,
            "align_self": null,
            "border": null,
            "bottom": null,
            "display": null,
            "flex": null,
            "flex_flow": null,
            "grid_area": null,
            "grid_auto_columns": null,
            "grid_auto_flow": null,
            "grid_auto_rows": null,
            "grid_column": null,
            "grid_gap": null,
            "grid_row": null,
            "grid_template_areas": null,
            "grid_template_columns": null,
            "grid_template_rows": null,
            "height": null,
            "justify_content": null,
            "justify_items": null,
            "left": null,
            "margin": null,
            "max_height": null,
            "max_width": null,
            "min_height": null,
            "min_width": null,
            "object_fit": null,
            "object_position": null,
            "order": null,
            "overflow": null,
            "overflow_x": null,
            "overflow_y": null,
            "padding": null,
            "right": null,
            "top": null,
            "visibility": null,
            "width": null
          }
        },
        "79a5dca8fe8a451f9387668e722df25d": {
          "model_module": "@jupyter-widgets/controls",
          "model_name": "DescriptionStyleModel",
          "model_module_version": "1.5.0",
          "state": {
            "_model_module": "@jupyter-widgets/controls",
            "_model_module_version": "1.5.0",
            "_model_name": "DescriptionStyleModel",
            "_view_count": null,
            "_view_module": "@jupyter-widgets/base",
            "_view_module_version": "1.2.0",
            "_view_name": "StyleView",
            "description_width": ""
          }
        },
        "0f79208e0cfa4e00a060179fd6f279f9": {
          "model_module": "@jupyter-widgets/controls",
          "model_name": "HBoxModel",
          "model_module_version": "1.5.0",
          "state": {
            "_dom_classes": [],
            "_model_module": "@jupyter-widgets/controls",
            "_model_module_version": "1.5.0",
            "_model_name": "HBoxModel",
            "_view_count": null,
            "_view_module": "@jupyter-widgets/controls",
            "_view_module_version": "1.5.0",
            "_view_name": "HBoxView",
            "box_style": "",
            "children": [
              "IPY_MODEL_3952b55d539f40debb551d1d0db46a38",
              "IPY_MODEL_686ce7aa887a4abe8f438bc83fb489df",
              "IPY_MODEL_83dae107875d430ca4ac4d398e2bc51d"
            ],
            "layout": "IPY_MODEL_01dcc2a1411d4a5298f736ecf1f4576e"
          }
        },
        "3952b55d539f40debb551d1d0db46a38": {
          "model_module": "@jupyter-widgets/controls",
          "model_name": "HTMLModel",
          "model_module_version": "1.5.0",
          "state": {
            "_dom_classes": [],
            "_model_module": "@jupyter-widgets/controls",
            "_model_module_version": "1.5.0",
            "_model_name": "HTMLModel",
            "_view_count": null,
            "_view_module": "@jupyter-widgets/controls",
            "_view_module_version": "1.5.0",
            "_view_name": "HTMLView",
            "description": "",
            "description_tooltip": null,
            "layout": "IPY_MODEL_828f8572d66c4264bac37d69f722d827",
            "placeholder": "​",
            "style": "IPY_MODEL_16d86f5e111743a48d2f48f1fa1d77d4",
            "value": "Map: 100%"
          }
        },
        "686ce7aa887a4abe8f438bc83fb489df": {
          "model_module": "@jupyter-widgets/controls",
          "model_name": "FloatProgressModel",
          "model_module_version": "1.5.0",
          "state": {
            "_dom_classes": [],
            "_model_module": "@jupyter-widgets/controls",
            "_model_module_version": "1.5.0",
            "_model_name": "FloatProgressModel",
            "_view_count": null,
            "_view_module": "@jupyter-widgets/controls",
            "_view_module_version": "1.5.0",
            "_view_name": "ProgressView",
            "bar_style": "",
            "description": "",
            "description_tooltip": null,
            "layout": "IPY_MODEL_a1134b1a34b5473f8473de64dc6229a8",
            "max": 14022,
            "min": 0,
            "orientation": "horizontal",
            "style": "IPY_MODEL_9b84786707c34cb7a6d57386d6d7958f",
            "value": 14022
          }
        },
        "83dae107875d430ca4ac4d398e2bc51d": {
          "model_module": "@jupyter-widgets/controls",
          "model_name": "HTMLModel",
          "model_module_version": "1.5.0",
          "state": {
            "_dom_classes": [],
            "_model_module": "@jupyter-widgets/controls",
            "_model_module_version": "1.5.0",
            "_model_name": "HTMLModel",
            "_view_count": null,
            "_view_module": "@jupyter-widgets/controls",
            "_view_module_version": "1.5.0",
            "_view_name": "HTMLView",
            "description": "",
            "description_tooltip": null,
            "layout": "IPY_MODEL_d4b700bbe6e64985bde564d3bbccc414",
            "placeholder": "​",
            "style": "IPY_MODEL_efeb6f36cb9b40db8e6a591123de7628",
            "value": " 14000/14022 [00:04&lt;00:00, 3134.91 examples/s]"
          }
        },
        "01dcc2a1411d4a5298f736ecf1f4576e": {
          "model_module": "@jupyter-widgets/base",
          "model_name": "LayoutModel",
          "model_module_version": "1.2.0",
          "state": {
            "_model_module": "@jupyter-widgets/base",
            "_model_module_version": "1.2.0",
            "_model_name": "LayoutModel",
            "_view_count": null,
            "_view_module": "@jupyter-widgets/base",
            "_view_module_version": "1.2.0",
            "_view_name": "LayoutView",
            "align_content": null,
            "align_items": null,
            "align_self": null,
            "border": null,
            "bottom": null,
            "display": null,
            "flex": null,
            "flex_flow": null,
            "grid_area": null,
            "grid_auto_columns": null,
            "grid_auto_flow": null,
            "grid_auto_rows": null,
            "grid_column": null,
            "grid_gap": null,
            "grid_row": null,
            "grid_template_areas": null,
            "grid_template_columns": null,
            "grid_template_rows": null,
            "height": null,
            "justify_content": null,
            "justify_items": null,
            "left": null,
            "margin": null,
            "max_height": null,
            "max_width": null,
            "min_height": null,
            "min_width": null,
            "object_fit": null,
            "object_position": null,
            "order": null,
            "overflow": null,
            "overflow_x": null,
            "overflow_y": null,
            "padding": null,
            "right": null,
            "top": null,
            "visibility": "hidden",
            "width": null
          }
        },
        "828f8572d66c4264bac37d69f722d827": {
          "model_module": "@jupyter-widgets/base",
          "model_name": "LayoutModel",
          "model_module_version": "1.2.0",
          "state": {
            "_model_module": "@jupyter-widgets/base",
            "_model_module_version": "1.2.0",
            "_model_name": "LayoutModel",
            "_view_count": null,
            "_view_module": "@jupyter-widgets/base",
            "_view_module_version": "1.2.0",
            "_view_name": "LayoutView",
            "align_content": null,
            "align_items": null,
            "align_self": null,
            "border": null,
            "bottom": null,
            "display": null,
            "flex": null,
            "flex_flow": null,
            "grid_area": null,
            "grid_auto_columns": null,
            "grid_auto_flow": null,
            "grid_auto_rows": null,
            "grid_column": null,
            "grid_gap": null,
            "grid_row": null,
            "grid_template_areas": null,
            "grid_template_columns": null,
            "grid_template_rows": null,
            "height": null,
            "justify_content": null,
            "justify_items": null,
            "left": null,
            "margin": null,
            "max_height": null,
            "max_width": null,
            "min_height": null,
            "min_width": null,
            "object_fit": null,
            "object_position": null,
            "order": null,
            "overflow": null,
            "overflow_x": null,
            "overflow_y": null,
            "padding": null,
            "right": null,
            "top": null,
            "visibility": null,
            "width": null
          }
        },
        "16d86f5e111743a48d2f48f1fa1d77d4": {
          "model_module": "@jupyter-widgets/controls",
          "model_name": "DescriptionStyleModel",
          "model_module_version": "1.5.0",
          "state": {
            "_model_module": "@jupyter-widgets/controls",
            "_model_module_version": "1.5.0",
            "_model_name": "DescriptionStyleModel",
            "_view_count": null,
            "_view_module": "@jupyter-widgets/base",
            "_view_module_version": "1.2.0",
            "_view_name": "StyleView",
            "description_width": ""
          }
        },
        "a1134b1a34b5473f8473de64dc6229a8": {
          "model_module": "@jupyter-widgets/base",
          "model_name": "LayoutModel",
          "model_module_version": "1.2.0",
          "state": {
            "_model_module": "@jupyter-widgets/base",
            "_model_module_version": "1.2.0",
            "_model_name": "LayoutModel",
            "_view_count": null,
            "_view_module": "@jupyter-widgets/base",
            "_view_module_version": "1.2.0",
            "_view_name": "LayoutView",
            "align_content": null,
            "align_items": null,
            "align_self": null,
            "border": null,
            "bottom": null,
            "display": null,
            "flex": null,
            "flex_flow": null,
            "grid_area": null,
            "grid_auto_columns": null,
            "grid_auto_flow": null,
            "grid_auto_rows": null,
            "grid_column": null,
            "grid_gap": null,
            "grid_row": null,
            "grid_template_areas": null,
            "grid_template_columns": null,
            "grid_template_rows": null,
            "height": null,
            "justify_content": null,
            "justify_items": null,
            "left": null,
            "margin": null,
            "max_height": null,
            "max_width": null,
            "min_height": null,
            "min_width": null,
            "object_fit": null,
            "object_position": null,
            "order": null,
            "overflow": null,
            "overflow_x": null,
            "overflow_y": null,
            "padding": null,
            "right": null,
            "top": null,
            "visibility": null,
            "width": null
          }
        },
        "9b84786707c34cb7a6d57386d6d7958f": {
          "model_module": "@jupyter-widgets/controls",
          "model_name": "ProgressStyleModel",
          "model_module_version": "1.5.0",
          "state": {
            "_model_module": "@jupyter-widgets/controls",
            "_model_module_version": "1.5.0",
            "_model_name": "ProgressStyleModel",
            "_view_count": null,
            "_view_module": "@jupyter-widgets/base",
            "_view_module_version": "1.2.0",
            "_view_name": "StyleView",
            "bar_color": null,
            "description_width": ""
          }
        },
        "d4b700bbe6e64985bde564d3bbccc414": {
          "model_module": "@jupyter-widgets/base",
          "model_name": "LayoutModel",
          "model_module_version": "1.2.0",
          "state": {
            "_model_module": "@jupyter-widgets/base",
            "_model_module_version": "1.2.0",
            "_model_name": "LayoutModel",
            "_view_count": null,
            "_view_module": "@jupyter-widgets/base",
            "_view_module_version": "1.2.0",
            "_view_name": "LayoutView",
            "align_content": null,
            "align_items": null,
            "align_self": null,
            "border": null,
            "bottom": null,
            "display": null,
            "flex": null,
            "flex_flow": null,
            "grid_area": null,
            "grid_auto_columns": null,
            "grid_auto_flow": null,
            "grid_auto_rows": null,
            "grid_column": null,
            "grid_gap": null,
            "grid_row": null,
            "grid_template_areas": null,
            "grid_template_columns": null,
            "grid_template_rows": null,
            "height": null,
            "justify_content": null,
            "justify_items": null,
            "left": null,
            "margin": null,
            "max_height": null,
            "max_width": null,
            "min_height": null,
            "min_width": null,
            "object_fit": null,
            "object_position": null,
            "order": null,
            "overflow": null,
            "overflow_x": null,
            "overflow_y": null,
            "padding": null,
            "right": null,
            "top": null,
            "visibility": null,
            "width": null
          }
        },
        "efeb6f36cb9b40db8e6a591123de7628": {
          "model_module": "@jupyter-widgets/controls",
          "model_name": "DescriptionStyleModel",
          "model_module_version": "1.5.0",
          "state": {
            "_model_module": "@jupyter-widgets/controls",
            "_model_module_version": "1.5.0",
            "_model_name": "DescriptionStyleModel",
            "_view_count": null,
            "_view_module": "@jupyter-widgets/base",
            "_view_module_version": "1.2.0",
            "_view_name": "StyleView",
            "description_width": ""
          }
        },
        "089584111a6d43d89772b537a31e9106": {
          "model_module": "@jupyter-widgets/controls",
          "model_name": "HBoxModel",
          "model_module_version": "1.5.0",
          "state": {
            "_dom_classes": [],
            "_model_module": "@jupyter-widgets/controls",
            "_model_module_version": "1.5.0",
            "_model_name": "HBoxModel",
            "_view_count": null,
            "_view_module": "@jupyter-widgets/controls",
            "_view_module_version": "1.5.0",
            "_view_name": "HBoxView",
            "box_style": "",
            "children": [
              "IPY_MODEL_4eecedeb7c344fd8874d35a530eb1d70",
              "IPY_MODEL_d3ee956745834850b539009366c6b1e8",
              "IPY_MODEL_3f36112399a44153b87246b2b0c8ac6e"
            ],
            "layout": "IPY_MODEL_1d977ae2fa9d4f6b9fa1b541eccddf4d"
          }
        },
        "4eecedeb7c344fd8874d35a530eb1d70": {
          "model_module": "@jupyter-widgets/controls",
          "model_name": "HTMLModel",
          "model_module_version": "1.5.0",
          "state": {
            "_dom_classes": [],
            "_model_module": "@jupyter-widgets/controls",
            "_model_module_version": "1.5.0",
            "_model_name": "HTMLModel",
            "_view_count": null,
            "_view_module": "@jupyter-widgets/controls",
            "_view_module_version": "1.5.0",
            "_view_name": "HTMLView",
            "description": "",
            "description_tooltip": null,
            "layout": "IPY_MODEL_3248e241eb254bf28ec6f80b0b5b628f",
            "placeholder": "​",
            "style": "IPY_MODEL_df20d91e35a74b2c9e738e44bbac5906",
            "value": "Map: 100%"
          }
        },
        "d3ee956745834850b539009366c6b1e8": {
          "model_module": "@jupyter-widgets/controls",
          "model_name": "FloatProgressModel",
          "model_module_version": "1.5.0",
          "state": {
            "_dom_classes": [],
            "_model_module": "@jupyter-widgets/controls",
            "_model_module_version": "1.5.0",
            "_model_name": "FloatProgressModel",
            "_view_count": null,
            "_view_module": "@jupyter-widgets/controls",
            "_view_module_version": "1.5.0",
            "_view_name": "ProgressView",
            "bar_style": "",
            "description": "",
            "description_tooltip": null,
            "layout": "IPY_MODEL_afb1102c94294ba9877bc44863eb0ac4",
            "max": 14022,
            "min": 0,
            "orientation": "horizontal",
            "style": "IPY_MODEL_d5372c2472364329866c1c49e146613c",
            "value": 14022
          }
        },
        "3f36112399a44153b87246b2b0c8ac6e": {
          "model_module": "@jupyter-widgets/controls",
          "model_name": "HTMLModel",
          "model_module_version": "1.5.0",
          "state": {
            "_dom_classes": [],
            "_model_module": "@jupyter-widgets/controls",
            "_model_module_version": "1.5.0",
            "_model_name": "HTMLModel",
            "_view_count": null,
            "_view_module": "@jupyter-widgets/controls",
            "_view_module_version": "1.5.0",
            "_view_name": "HTMLView",
            "description": "",
            "description_tooltip": null,
            "layout": "IPY_MODEL_cb1ae7e2c38c483d808c2292d74c7f2e",
            "placeholder": "​",
            "style": "IPY_MODEL_2e630df361a046b7a63695e3cb9767e0",
            "value": " 14000/14022 [00:06&lt;00:00, 2323.72 examples/s]"
          }
        },
        "1d977ae2fa9d4f6b9fa1b541eccddf4d": {
          "model_module": "@jupyter-widgets/base",
          "model_name": "LayoutModel",
          "model_module_version": "1.2.0",
          "state": {
            "_model_module": "@jupyter-widgets/base",
            "_model_module_version": "1.2.0",
            "_model_name": "LayoutModel",
            "_view_count": null,
            "_view_module": "@jupyter-widgets/base",
            "_view_module_version": "1.2.0",
            "_view_name": "LayoutView",
            "align_content": null,
            "align_items": null,
            "align_self": null,
            "border": null,
            "bottom": null,
            "display": null,
            "flex": null,
            "flex_flow": null,
            "grid_area": null,
            "grid_auto_columns": null,
            "grid_auto_flow": null,
            "grid_auto_rows": null,
            "grid_column": null,
            "grid_gap": null,
            "grid_row": null,
            "grid_template_areas": null,
            "grid_template_columns": null,
            "grid_template_rows": null,
            "height": null,
            "justify_content": null,
            "justify_items": null,
            "left": null,
            "margin": null,
            "max_height": null,
            "max_width": null,
            "min_height": null,
            "min_width": null,
            "object_fit": null,
            "object_position": null,
            "order": null,
            "overflow": null,
            "overflow_x": null,
            "overflow_y": null,
            "padding": null,
            "right": null,
            "top": null,
            "visibility": "hidden",
            "width": null
          }
        },
        "3248e241eb254bf28ec6f80b0b5b628f": {
          "model_module": "@jupyter-widgets/base",
          "model_name": "LayoutModel",
          "model_module_version": "1.2.0",
          "state": {
            "_model_module": "@jupyter-widgets/base",
            "_model_module_version": "1.2.0",
            "_model_name": "LayoutModel",
            "_view_count": null,
            "_view_module": "@jupyter-widgets/base",
            "_view_module_version": "1.2.0",
            "_view_name": "LayoutView",
            "align_content": null,
            "align_items": null,
            "align_self": null,
            "border": null,
            "bottom": null,
            "display": null,
            "flex": null,
            "flex_flow": null,
            "grid_area": null,
            "grid_auto_columns": null,
            "grid_auto_flow": null,
            "grid_auto_rows": null,
            "grid_column": null,
            "grid_gap": null,
            "grid_row": null,
            "grid_template_areas": null,
            "grid_template_columns": null,
            "grid_template_rows": null,
            "height": null,
            "justify_content": null,
            "justify_items": null,
            "left": null,
            "margin": null,
            "max_height": null,
            "max_width": null,
            "min_height": null,
            "min_width": null,
            "object_fit": null,
            "object_position": null,
            "order": null,
            "overflow": null,
            "overflow_x": null,
            "overflow_y": null,
            "padding": null,
            "right": null,
            "top": null,
            "visibility": null,
            "width": null
          }
        },
        "df20d91e35a74b2c9e738e44bbac5906": {
          "model_module": "@jupyter-widgets/controls",
          "model_name": "DescriptionStyleModel",
          "model_module_version": "1.5.0",
          "state": {
            "_model_module": "@jupyter-widgets/controls",
            "_model_module_version": "1.5.0",
            "_model_name": "DescriptionStyleModel",
            "_view_count": null,
            "_view_module": "@jupyter-widgets/base",
            "_view_module_version": "1.2.0",
            "_view_name": "StyleView",
            "description_width": ""
          }
        },
        "afb1102c94294ba9877bc44863eb0ac4": {
          "model_module": "@jupyter-widgets/base",
          "model_name": "LayoutModel",
          "model_module_version": "1.2.0",
          "state": {
            "_model_module": "@jupyter-widgets/base",
            "_model_module_version": "1.2.0",
            "_model_name": "LayoutModel",
            "_view_count": null,
            "_view_module": "@jupyter-widgets/base",
            "_view_module_version": "1.2.0",
            "_view_name": "LayoutView",
            "align_content": null,
            "align_items": null,
            "align_self": null,
            "border": null,
            "bottom": null,
            "display": null,
            "flex": null,
            "flex_flow": null,
            "grid_area": null,
            "grid_auto_columns": null,
            "grid_auto_flow": null,
            "grid_auto_rows": null,
            "grid_column": null,
            "grid_gap": null,
            "grid_row": null,
            "grid_template_areas": null,
            "grid_template_columns": null,
            "grid_template_rows": null,
            "height": null,
            "justify_content": null,
            "justify_items": null,
            "left": null,
            "margin": null,
            "max_height": null,
            "max_width": null,
            "min_height": null,
            "min_width": null,
            "object_fit": null,
            "object_position": null,
            "order": null,
            "overflow": null,
            "overflow_x": null,
            "overflow_y": null,
            "padding": null,
            "right": null,
            "top": null,
            "visibility": null,
            "width": null
          }
        },
        "d5372c2472364329866c1c49e146613c": {
          "model_module": "@jupyter-widgets/controls",
          "model_name": "ProgressStyleModel",
          "model_module_version": "1.5.0",
          "state": {
            "_model_module": "@jupyter-widgets/controls",
            "_model_module_version": "1.5.0",
            "_model_name": "ProgressStyleModel",
            "_view_count": null,
            "_view_module": "@jupyter-widgets/base",
            "_view_module_version": "1.2.0",
            "_view_name": "StyleView",
            "bar_color": null,
            "description_width": ""
          }
        },
        "cb1ae7e2c38c483d808c2292d74c7f2e": {
          "model_module": "@jupyter-widgets/base",
          "model_name": "LayoutModel",
          "model_module_version": "1.2.0",
          "state": {
            "_model_module": "@jupyter-widgets/base",
            "_model_module_version": "1.2.0",
            "_model_name": "LayoutModel",
            "_view_count": null,
            "_view_module": "@jupyter-widgets/base",
            "_view_module_version": "1.2.0",
            "_view_name": "LayoutView",
            "align_content": null,
            "align_items": null,
            "align_self": null,
            "border": null,
            "bottom": null,
            "display": null,
            "flex": null,
            "flex_flow": null,
            "grid_area": null,
            "grid_auto_columns": null,
            "grid_auto_flow": null,
            "grid_auto_rows": null,
            "grid_column": null,
            "grid_gap": null,
            "grid_row": null,
            "grid_template_areas": null,
            "grid_template_columns": null,
            "grid_template_rows": null,
            "height": null,
            "justify_content": null,
            "justify_items": null,
            "left": null,
            "margin": null,
            "max_height": null,
            "max_width": null,
            "min_height": null,
            "min_width": null,
            "object_fit": null,
            "object_position": null,
            "order": null,
            "overflow": null,
            "overflow_x": null,
            "overflow_y": null,
            "padding": null,
            "right": null,
            "top": null,
            "visibility": null,
            "width": null
          }
        },
        "2e630df361a046b7a63695e3cb9767e0": {
          "model_module": "@jupyter-widgets/controls",
          "model_name": "DescriptionStyleModel",
          "model_module_version": "1.5.0",
          "state": {
            "_model_module": "@jupyter-widgets/controls",
            "_model_module_version": "1.5.0",
            "_model_name": "DescriptionStyleModel",
            "_view_count": null,
            "_view_module": "@jupyter-widgets/base",
            "_view_module_version": "1.2.0",
            "_view_name": "StyleView",
            "description_width": ""
          }
        }
      }
    },
    "accelerator": "GPU"
  },
  "nbformat": 4,
  "nbformat_minor": 0
}