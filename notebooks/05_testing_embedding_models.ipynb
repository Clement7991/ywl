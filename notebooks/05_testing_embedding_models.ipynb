{
 "cells": [
  {
   "cell_type": "code",
   "execution_count": 1,
   "metadata": {},
   "outputs": [],
   "source": [
    "%load_ext autoreload \n",
    "%autoreload 2\n",
    "\n",
    "# imports and setup\n",
    "import pandas as pd\n",
    "import os \n",
    "\n",
    "# import and instanciate config file to get access to paths\n",
    "os.chdir(os.path.dirname(os.getcwd()))\n",
    "from config.config import Config\n",
    "config = Config()\n",
    "\n",
    "# import utils functions\n",
    "from src.pipelines.preprocessor import Preprocessor\n",
    "from src.pipelines.models import Models\n",
    "from sklearn import set_config; set_config(display='diagram')"
   ]
  },
  {
   "cell_type": "code",
   "execution_count": 2,
   "metadata": {},
   "outputs": [],
   "source": [
    "from src.pipelines.preproc.pipeline_04 import build_preprocessor_pipeline_04\n",
    "preprocessor = Preprocessor()\n",
    "model = Models()\n",
    "pipeline = build_preprocessor_pipeline_04()"
   ]
  },
  {
   "cell_type": "code",
   "execution_count": null,
   "metadata": {},
   "outputs": [],
   "source": []
  },
  {
   "cell_type": "code",
   "execution_count": null,
   "metadata": {},
   "outputs": [],
   "source": []
  }
 ],
 "metadata": {
  "kernelspec": {
   "display_name": "ywl",
   "language": "python",
   "name": "python3"
  },
  "language_info": {
   "codemirror_mode": {
    "name": "ipython",
    "version": 3
   },
   "file_extension": ".py",
   "mimetype": "text/x-python",
   "name": "python",
   "nbconvert_exporter": "python",
   "pygments_lexer": "ipython3",
   "version": "3.10.6"
  },
  "orig_nbformat": 4
 },
 "nbformat": 4,
 "nbformat_minor": 2
}
